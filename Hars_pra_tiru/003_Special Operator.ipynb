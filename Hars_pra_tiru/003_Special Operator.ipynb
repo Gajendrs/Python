{
 "cells": [
  {
   "cell_type": "markdown",
   "metadata": {},
   "source": [
    "Special Operator"
   ]
  },
  {
   "cell_type": "code",
   "execution_count": 2,
   "metadata": {},
   "outputs": [
    {
     "name": "stdout",
     "output_type": "stream",
     "text": [
      "True\n",
      "False\n",
      "False\n",
      "True\n"
     ]
    }
   ],
   "source": [
    "# membership \n",
    "'''\n",
    "one operand is a member to another operand (sequential data)\n",
    "'''\n",
    "# in keyword\n",
    "# True ---> when it is a member \n",
    "# False --> otherwise \n",
    "a = [12,34,56,78]\n",
    "b =34\n",
    "c =108\n",
    "print(b in a)\n",
    "print(c in a)\n",
    "# not in\n",
    "# True ---> when it is not  a member \n",
    "# False --> when it is a member \n",
    "print(b not in a)\n",
    "print(c not in a)"
   ]
  },
  {
   "cell_type": "code",
   "execution_count": 5,
   "metadata": {},
   "outputs": [
    {
     "name": "stdout",
     "output_type": "stream",
     "text": [
      "140727285379104\n",
      "140727285379104\n",
      "140727285379424\n",
      "True\n",
      "False\n",
      "False\n",
      "True\n"
     ]
    }
   ],
   "source": [
    "# identity Operator \n",
    "'''\n",
    "Both are operands shared same memory or not \n",
    "'''\n",
    "# is keyword\n",
    "# True ----> when both are same memory location\n",
    "# False --->other wise\n",
    "a =10 ;b =10;c =20\n",
    "print(id(a))\n",
    "print(id(b))\n",
    "print(id(c))\n",
    "print(a is b)\n",
    "print(a is c)\n",
    "# is not \n",
    "# True -- both are different \n",
    "# False --> same \n",
    "print(a is not  b)\n",
    "print(a is not c)"
   ]
  }
 ],
 "metadata": {
  "kernelspec": {
   "display_name": "Python 3",
   "language": "python",
   "name": "python3"
  },
  "language_info": {
   "codemirror_mode": {
    "name": "ipython",
    "version": 3
   },
   "file_extension": ".py",
   "mimetype": "text/x-python",
   "name": "python",
   "nbconvert_exporter": "python",
   "pygments_lexer": "ipython3",
   "version": "3.7.0"
  }
 },
 "nbformat": 4,
 "nbformat_minor": 2
}
