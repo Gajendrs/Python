{
 "cells": [
  {
   "cell_type": "code",
   "execution_count": 2,
   "metadata": {},
   "outputs": [
    {
     "name": "stdout",
     "output_type": "stream",
     "text": [
      "enter some data78\n",
      "enter some data10\n",
      "a + b =  88\n",
      "a - b =  68\n",
      "a * b =  780\n",
      "a % b =  8\n",
      "a / b =  7.8\n"
     ]
    }
   ],
   "source": [
    "a =input(\"enter some data\")\n",
    "b =input(\"enter some data\")\n",
    "a =int(a) \n",
    "b =int(b)\n",
    "print(\"a + b = \",a+b)\n",
    "print(\"a - b = \",a-b)\n",
    "print(\"a * b = \",a*b)\n",
    "print(\"a % b = \",a%b)\n",
    "print(\"a / b = \",a/b)"
   ]
  },
  {
   "cell_type": "code",
   "execution_count": 11,
   "metadata": {},
   "outputs": [
    {
     "data": {
      "text/plain": [
       "81"
      ]
     },
     "execution_count": 11,
     "metadata": {},
     "output_type": "execute_result"
    }
   ],
   "source": [
    "# exponant\n",
    "3 ** 4"
   ]
  },
  {
   "cell_type": "code",
   "execution_count": 12,
   "metadata": {},
   "outputs": [
    {
     "data": {
      "text/plain": [
       "7.8"
      ]
     },
     "execution_count": 12,
     "metadata": {},
     "output_type": "execute_result"
    }
   ],
   "source": [
    "78 /10"
   ]
  },
  {
   "cell_type": "code",
   "execution_count": 13,
   "metadata": {},
   "outputs": [
    {
     "data": {
      "text/plain": [
       "7"
      ]
     },
     "execution_count": 13,
     "metadata": {},
     "output_type": "execute_result"
    }
   ],
   "source": [
    "# floor division \n",
    "78 // 10"
   ]
  },
  {
   "cell_type": "code",
   "execution_count": null,
   "metadata": {},
   "outputs": [],
   "source": [
    "# wap to find area of the circle\n",
    "# wap to find perimetr of the circle\n",
    "# wap to find area of square \n",
    "# war to find perimetr  of square \n",
    "# convert km to meters\n",
    "# convert fahrenheat to celcius \n",
    "# volume of the room and area of the room"
   ]
  }
 ],
 "metadata": {
  "kernelspec": {
   "display_name": "Python 3",
   "language": "python",
   "name": "python3"
  },
  "language_info": {
   "codemirror_mode": {
    "name": "ipython",
    "version": 3
   },
   "file_extension": ".py",
   "mimetype": "text/x-python",
   "name": "python",
   "nbconvert_exporter": "python",
   "pygments_lexer": "ipython3",
   "version": "3.7.0"
  }
 },
 "nbformat": 4,
 "nbformat_minor": 2
}
