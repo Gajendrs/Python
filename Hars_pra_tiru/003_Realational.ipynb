{
 "cells": [
  {
   "cell_type": "markdown",
   "metadata": {},
   "source": [
    "Relational Operator"
   ]
  },
  {
   "cell_type": "code",
   "execution_count": 3,
   "metadata": {},
   "outputs": [
    {
     "name": "stdout",
     "output_type": "stream",
     "text": [
      "enter some data10\n",
      "enter some data20\n",
      " a  <  b =  True\n",
      " a  >  b =  False\n",
      " a  <= b =  True\n",
      " a  >= b =  False\n",
      " a  == b =  False\n",
      " a  != b =  True\n"
     ]
    }
   ],
   "source": [
    "a =input(\"enter some data\")\n",
    "a =int(a)\n",
    "b =input(\"enter some data\")\n",
    "b =int(b)\n",
    "print(\" a  <  b = \",a < b)\n",
    "print(\" a  >  b = \",a > b)\n",
    "print(\" a  <= b = \",a <= b)\n",
    "print(\" a  >= b = \",a >= b)\n",
    "print(\" a  == b = \",a == b)\n",
    "print(\" a  != b = \",a != b)"
   ]
  },
  {
   "cell_type": "code",
   "execution_count": 4,
   "metadata": {},
   "outputs": [
    {
     "name": "stdout",
     "output_type": "stream",
     "text": [
      "enter some data10\n",
      "enter some data10\n",
      " a  <  b =  False\n",
      " a  >  b =  False\n",
      " a  <= b =  True\n",
      " a  >= b =  True\n",
      " a  == b =  True\n",
      " a  != b =  False\n"
     ]
    }
   ],
   "source": [
    "a =input(\"enter some data\")\n",
    "a =int(a)\n",
    "b =input(\"enter some data\")\n",
    "b =int(b)\n",
    "print(\" a  <  b = \",a < b)\n",
    "print(\" a  >  b = \",a > b)\n",
    "print(\" a  <= b = \",a <= b)\n",
    "print(\" a  >= b = \",a >= b)\n",
    "print(\" a  == b = \",a == b)\n",
    "print(\" a  != b = \",a != b)"
   ]
  },
  {
   "cell_type": "code",
   "execution_count": 5,
   "metadata": {},
   "outputs": [
    {
     "name": "stdout",
     "output_type": "stream",
     "text": [
      "enter some data20\n",
      "enter some data10\n",
      " a  <  b =  False\n",
      " a  >  b =  True\n",
      " a  <= b =  False\n",
      " a  >= b =  True\n",
      " a  == b =  False\n",
      " a  != b =  True\n"
     ]
    }
   ],
   "source": [
    "a =input(\"enter some data\")\n",
    "a =int(a)\n",
    "b =input(\"enter some data\")\n",
    "b =int(b)\n",
    "print(\" a  <  b = \",a < b)\n",
    "print(\" a  >  b = \",a > b)\n",
    "print(\" a  <= b = \",a <= b)\n",
    "print(\" a  >= b = \",a >= b)\n",
    "print(\" a  == b = \",a == b)\n",
    "print(\" a  != b = \",a != b)"
   ]
  },
  {
   "cell_type": "code",
   "execution_count": 7,
   "metadata": {},
   "outputs": [
    {
     "name": "stdout",
     "output_type": "stream",
     "text": [
      "enter some data46\n",
      " a is even  True\n"
     ]
    }
   ],
   "source": [
    "# wap given number even or not\n",
    "a = input(\"enter some data\")\n",
    "a = int(a)\n",
    "print(\" a is even \",(a%2 == 0))"
   ]
  },
  {
   "cell_type": "code",
   "execution_count": 9,
   "metadata": {},
   "outputs": [
    {
     "name": "stdout",
     "output_type": "stream",
     "text": [
      "enter data-5\n",
      " a  is posible for factoral   False\n"
     ]
    }
   ],
   "source": [
    "# wap print true when given number posible factorial \n",
    "a = input(\"enter data\")\n",
    "a = int(a)\n",
    "print(\" a  is posible for factoral  \",a >= 0)"
   ]
  }
 ],
 "metadata": {
  "kernelspec": {
   "display_name": "Python 3",
   "language": "python",
   "name": "python3"
  },
  "language_info": {
   "codemirror_mode": {
    "name": "ipython",
    "version": 3
   },
   "file_extension": ".py",
   "mimetype": "text/x-python",
   "name": "python",
   "nbconvert_exporter": "python",
   "pygments_lexer": "ipython3",
   "version": "3.7.0"
  }
 },
 "nbformat": 4,
 "nbformat_minor": 2
}
