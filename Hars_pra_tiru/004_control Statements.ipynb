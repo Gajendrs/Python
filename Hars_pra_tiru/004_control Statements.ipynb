{
 "cells": [
  {
   "cell_type": "markdown",
   "metadata": {},
   "source": [
    "Conditional Statement\n",
    "\n",
    "1 . Simple if "
   ]
  },
  {
   "cell_type": "markdown",
   "metadata": {},
   "source": [
    "# syntax  simple\n",
    "\n",
    "if(condition):\n",
    "    task\n",
    "    ----\n",
    "    ----\n",
    "    -----\n"
   ]
  },
  {
   "cell_type": "code",
   "execution_count": 4,
   "metadata": {},
   "outputs": [
    {
     "name": "stdout",
     "output_type": "stream",
     "text": [
      "enter side of square in meters15\n",
      "area of square is :  225 sq.m\n",
      "i am out off if\n"
     ]
    }
   ],
   "source": [
    "# wap find area of square when side more 10 m\n",
    "side = input(\"enter side of square in meters\")\n",
    "side = int(side)\n",
    "if(side > 10):\n",
    "    area = side ** 2\n",
    "    print(\"area of square is : \",area ,\"sq.m\")\n",
    "    \n",
    "print(\"i am out off if\")\n"
   ]
  },
  {
   "cell_type": "code",
   "execution_count": 7,
   "metadata": {},
   "outputs": [
    {
     "name": "stdout",
     "output_type": "stream",
     "text": [
      "enter a number 15\n",
      "mul =  225\n"
     ]
    }
   ],
   "source": [
    "# wap given enter \n",
    "#do the multipication 3 and 5 when it is divisble of both 3 and 5\n",
    "num = input(\"enter a number \")\n",
    "num = int(num)\n",
    "if((num%3 == 0) and (num % 5 == 0)):\n",
    "    mul = num * 3 *5\n",
    "    print(\"mul = \",mul)"
   ]
  },
  {
   "cell_type": "markdown",
   "metadata": {},
   "source": [
    "2 . if - else"
   ]
  },
  {
   "cell_type": "code",
   "execution_count": 9,
   "metadata": {},
   "outputs": [
    {
     "name": "stdout",
     "output_type": "stream",
     "text": [
      "enter a number 9\n",
      "pow =  205891132094649\n"
     ]
    }
   ],
   "source": [
    "# wap given enter \n",
    "#do the multipication 3 and 5 when it is divisble of both 3 and 5\n",
    "# or do the power of 3*5--> num ** (3*5)\n",
    "num = input(\"enter a number \")\n",
    "num = int(num)\n",
    "if((num%3 == 0) and (num % 5 == 0)):\n",
    "    mul = num * 3 *5\n",
    "    print(\"mul = \",mul)\n",
    "else:\n",
    "    pow = num **(3*5)\n",
    "    print(\"pow = \",pow)"
   ]
  },
  {
   "cell_type": "code",
   "execution_count": 11,
   "metadata": {},
   "outputs": [
    {
     "name": "stdout",
     "output_type": "stream",
     "text": [
      "enter a number 10\n",
      "square =  100\n"
     ]
    }
   ],
   "source": [
    "# wap do the square of a number when it is even or do the square\n",
    "num =input(\"enter a number \")\n",
    "num = int(num)\n",
    "if(num % 2 == 0):\n",
    "    sqr = num ** 2\n",
    "    print(\"square = \",sqr)\n",
    "else:\n",
    "    sqrt = num ** 0.5\n",
    "    print(\"sqrt = \",sqrt)\n",
    "    \n",
    "    "
   ]
  },
  {
   "cell_type": "markdown",
   "metadata": {},
   "source": [
    "#  3. elif ladder"
   ]
  },
  {
   "cell_type": "code",
   "execution_count": 13,
   "metadata": {},
   "outputs": [
    {
     "name": "stdout",
     "output_type": "stream",
     "text": [
      "enter percentage : 75\n",
      " A Grade with Distnction\n"
     ]
    }
   ],
   "source": [
    "per = input(\"enter percentage : \")\n",
    "per =float(per)\n",
    "if(per >= 70):\n",
    "    print(\" A Grade with Distnction\")\n",
    "elif(per >= 60):\n",
    "    print(\" A Grade\")\n",
    "elif(per >= 50):\n",
    "    print(\"B grade\")\n",
    "elif(per >=40):\n",
    "    print(\"C grade\")\n",
    "else:\n",
    "    print(\"Better Luck Next Time -)\")"
   ]
  },
  {
   "cell_type": "markdown",
   "metadata": {},
   "source": [
    "4 . Nested If \n",
    "--------------------\n",
    "\n",
    "---> if block is having with in the if / else / elif"
   ]
  },
  {
   "cell_type": "code",
   "execution_count": 16,
   "metadata": {},
   "outputs": [
    {
     "name": "stdout",
     "output_type": "stream",
     "text": [
      "enter num120\n",
      "enter num230\n",
      "enter num310\n",
      "small =  10\n"
     ]
    }
   ],
   "source": [
    "# wap find smallest number from the three number \n",
    "num1 =input(\"enter num1\")\n",
    "num2 =input(\"enter num2\")\n",
    "num3 =input(\"enter num3\")\n",
    "num1 = int(num1) ; num2 = int(num2) ; num3 = int(num3)\n",
    "if(num1 < num2):\n",
    "    small = num1\n",
    "    if(small > num3 ):\n",
    "        small = num3\n",
    "else:\n",
    "    small = num2\n",
    "    if(small > num3 ):\n",
    "        small = num3\n",
    "\n",
    "print(\"small = \",small)\n",
    "\n"
   ]
  }
 ],
 "metadata": {
  "kernelspec": {
   "display_name": "Python 3",
   "language": "python",
   "name": "python3"
  },
  "language_info": {
   "codemirror_mode": {
    "name": "ipython",
    "version": 3
   },
   "file_extension": ".py",
   "mimetype": "text/x-python",
   "name": "python",
   "nbconvert_exporter": "python",
   "pygments_lexer": "ipython3",
   "version": "3.7.0"
  }
 },
 "nbformat": 4,
 "nbformat_minor": 2
}
