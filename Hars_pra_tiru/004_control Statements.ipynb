{
 "cells": [
  {
   "cell_type": "markdown",
   "metadata": {},
   "source": [
    "Conditional Statement\n",
    "\n",
    "1 . Simple if "
   ]
  },
  {
   "cell_type": "markdown",
   "metadata": {},
   "source": [
    "# syntax  simple\n",
    "\n",
    "if(condition):\n",
    "    task\n",
    "    ----\n",
    "    ----\n",
    "    -----\n"
   ]
  },
  {
   "cell_type": "code",
   "execution_count": null,
   "metadata": {},
   "outputs": [],
   "source": [
    "# wap find area of square when side more 10 m\n",
    "side = input(\"enter side of square in meters\")\n",
    "side = int(side)\n",
    "if(side > 10):\n",
    "    area = side ** 2\n",
    "    print(\"area of square is : \",area ,\"sq.m\")\n",
    "    \n",
    "print(\"i am out off if\")\n"
   ]
  },
  {
   "cell_type": "code",
   "execution_count": null,
   "metadata": {},
   "outputs": [],
   "source": [
    "# wap given enter \n",
    "#do the multipication 3 and 5 when it is divisble of both 3 and 5\n",
    "num = input(\"enter a number \")\n",
    "num = int(num)\n",
    "if((num%3 == 0) and (num % 5 == 0)):\n",
    "    mul = num * 3 *5\n",
    "    print(\"mul = \",mul)"
   ]
  },
  {
   "cell_type": "markdown",
   "metadata": {},
   "source": [
    "2 . if - else"
   ]
  },
  {
   "cell_type": "code",
   "execution_count": null,
   "metadata": {},
   "outputs": [],
   "source": [
    "# wap given enter \n",
    "#do the multipication 3 and 5 when it is divisble of both 3 and 5\n",
    "# or do the power of 3*5--> num ** (3*5)\n",
    "num = input(\"enter a number \")\n",
    "num = int(num)\n",
    "if((num%3 == 0) and (num % 5 == 0)):\n",
    "    mul = num * 3 *5\n",
    "    print(\"mul = \",mul)\n",
    "else:\n",
    "    pow = num **(3*5)\n",
    "    print(\"pow = \",pow)"
   ]
  },
  {
   "cell_type": "code",
   "execution_count": null,
   "metadata": {},
   "outputs": [],
   "source": [
    "# wap do the square of a number when it is even or do the square\n",
    "num =input(\"enter a number \")\n",
    "num = int(num)\n",
    "if(num % 2 == 0):\n",
    "    sqr = num ** 2\n",
    "    print(\"square = \",sqr)\n",
    "else:\n",
    "    sqrt = num ** 0.5\n",
    "    print(\"sqrt = \",sqrt)\n",
    "    \n",
    "    "
   ]
  },
  {
   "cell_type": "markdown",
   "metadata": {},
   "source": [
    "#  3. elif ladder"
   ]
  },
  {
   "cell_type": "code",
   "execution_count": null,
   "metadata": {},
   "outputs": [],
   "source": [
    "per = input(\"enter percentage : \")\n",
    "per =float(per)\n",
    "if(per >= 70):\n",
    "    print(\" A Grade with Distnction\")\n",
    "elif(per >= 60):\n",
    "    print(\" A Grade\")\n",
    "elif(per >= 50):\n",
    "    print(\"B grade\")\n",
    "elif(per >=40):\n",
    "    print(\"C grade\")\n",
    "else:\n",
    "    print(\"Better Luck Next Time -)\")"
   ]
  },
  {
   "cell_type": "markdown",
   "metadata": {},
   "source": [
    "4 . Nested If \n",
    "--------------------\n",
    "\n",
    "---> if block is having with in the if / else / elif"
   ]
  },
  {
   "cell_type": "code",
   "execution_count": null,
   "metadata": {},
   "outputs": [],
   "source": [
    "# wap find smallest number from the three number \n",
    "num1 =input(\"enter num1\")\n",
    "num2 =input(\"enter num2\")\n",
    "num3 =input(\"enter num3\")\n",
    "num1 = int(num1) ; num2 = int(num2) ; num3 = int(num3)\n",
    "if(num1 < num2):\n",
    "    small = num1\n",
    "    if(small > num3 ):\n",
    "        small = num3\n",
    "else:\n",
    "    small = num2\n",
    "    if(small > num3 ):\n",
    "        small = num3\n",
    "\n",
    "print(\"small = \",small)\n",
    "\n"
   ]
  },
  {
   "cell_type": "code",
   "execution_count": null,
   "metadata": {},
   "outputs": [],
   "source": [
    "# wap find reverse of a number\n",
    "# 134  ---> 431\n",
    "#893  ----> 398\n",
    "n =int(input(\"enter N Value : \"))\n",
    "N =n\n",
    "rev =0\n",
    "while(n != 0):\n",
    "    rem = n % 10 \n",
    "    rev =rev*10 + rem\n",
    "    n = n//10\n",
    "print(N,\" after reversed \",rev)"
   ]
  },
  {
   "cell_type": "code",
   "execution_count": null,
   "metadata": {},
   "outputs": [],
   "source": [
    "# Reverse of a number using for loop ?"
   ]
  },
  {
   "cell_type": "code",
   "execution_count": null,
   "metadata": {},
   "outputs": [],
   "source": [
    "# wap find factorial of a number using for loop\n",
    "\n",
    "n = input(\"enter a number : \")\n",
    "n = int(n)\n",
    "if(n < 0):\n",
    "    print(\"factorial of -ve numbers is not possible\")\n",
    "elif( n== 0 or n == 1):\n",
    "    print(\"fact = 1 \")\n",
    "else:\n",
    "    fact =1\n",
    "    for ele in  range(1,n+1):\n",
    "        fact = fact * ele\n",
    "    print(\"fact = \",fact)"
   ]
  },
  {
   "cell_type": "code",
   "execution_count": null,
   "metadata": {},
   "outputs": [],
   "source": [
    "# find the number of factors of any number using while\n",
    "n =input(\"enter a number : \")\n",
    "n = int(n)\n",
    "f_c =0\n",
    "i =1\n",
    "while(i <= n):\n",
    "    if(n %i ==0 ):\n",
    "        print(\"factor is : \",i)        \n",
    "        f_c +=1\n",
    "    i = i+1\n",
    "print(\"no of factors are : \",f_c)"
   ]
  },
  {
   "cell_type": "markdown",
   "metadata": {},
   "source": [
    "# control keywords\n",
    "\n",
    "---> we can change the flow of the execution of the control statements\n",
    "\n",
    "---> there ere 3 keywords  \n",
    "\n",
    "    1. pass\n",
    "    \n",
    "    2. break\n",
    "    \n",
    "    3. continue\n",
    "    \n",
    "    "
   ]
  },
  {
   "cell_type": "code",
   "execution_count": null,
   "metadata": {},
   "outputs": [],
   "source": [
    "# pass keyword\n",
    "'''\n",
    "block is doesn't having any statements\n",
    "then we can use pass keyword\n",
    "\n",
    "syntax:-\n",
    "-----------\n",
    "\n",
    "block_name :\n",
    "    pass\n",
    "\n",
    "'''\n",
    "for e in range(100000000):\n",
    "    pass\n",
    "print(\"hello\")"
   ]
  },
  {
   "cell_type": "code",
   "execution_count": null,
   "metadata": {},
   "outputs": [],
   "source": [
    "# break\n",
    "'''\n",
    "to terminate the loop even the con0dition is true\n",
    "'''\n",
    "while(True):\n",
    "    print(\"hello\")\n",
    "    break"
   ]
  },
  {
   "cell_type": "code",
   "execution_count": null,
   "metadata": {},
   "outputs": [],
   "source": [
    "# wap to print 1 to 100 but stop at 55\n",
    "i=1\n",
    "while(i <=100):\n",
    "    print(\"i =\",i)\n",
    "    if(i == 55):\n",
    "        break\n",
    "    i = i+1\n",
    "else:\n",
    "    print(\"else\")"
   ]
  },
  {
   "cell_type": "code",
   "execution_count": null,
   "metadata": {},
   "outputs": [],
   "source": [
    "#continue \n",
    "'''\n",
    "continue is used for to skip the current execution\n",
    "after the  continue  statement , next coninuing the \n",
    "next iteration\n",
    "'''\n",
    "for i in range(10):\n",
    "    continue\n",
    "    print(\"hello\")\n",
    "else:\n",
    "    print(\"else\")"
   ]
  },
  {
   "cell_type": "code",
   "execution_count": null,
   "metadata": {},
   "outputs": [],
   "source": [
    "# print even numbers from 1 to 100\n",
    "for i in range(101):\n",
    "    if(i % 2 != 0):\n",
    "        continue\n",
    "    print(\"i = \",i)"
   ]
  },
  {
   "cell_type": "markdown",
   "metadata": {},
   "source": [
    "1. Problem:\n",
    "-----------\n",
    "\n",
    "If we list all the natural numbers below 10 that are multiples of 3 or 5, we get 3, 5, 6 and 9. The sum of these multiples is 23.\n",
    "\n",
    "Find the sum of all the multiples of 3 or 5 below 1000.\n"
   ]
  },
  {
   "cell_type": "code",
   "execution_count": null,
   "metadata": {},
   "outputs": [],
   "source": [
    "# find the natural numbers \n",
    "# find multiple of 3 or 5\n",
    "# sum of multiple 3 or 5 terms\n",
    "n = int(input(\"enter n value : \"))\n",
    "sum =0\n",
    "for ele in range(1,n):\n",
    "    if(ele % 3 ==0  or  ele % 5 ==0 ):\n",
    "        sum =sum+ele\n",
    "print(\"sum = \",sum)\n"
   ]
  },
  {
   "cell_type": "markdown",
   "metadata": {},
   "source": [
    "\n",
    "2 : problem :\n",
    "\n",
    "Each new term in the Fibonacci sequence is generated by adding the previous two terms. By starting with 1 and 2, the first 10 terms will be:\n",
    "\n",
    "1, 2, 3, 5, 8, 13, 21, 34, 55, 89, ...\n",
    "\n",
    "By considering the terms in the Fibonacci sequence whose values do not exceed four million, find the sum of the even-valued terms.\n"
   ]
  },
  {
   "cell_type": "code",
   "execution_count": null,
   "metadata": {},
   "outputs": [],
   "source": [
    "# 1. Generate fibonic series \n",
    "# 2. even fibonic terms\n",
    "# 3. sum of even value \n",
    "n =int(input(\"enter np of fibonic terms : \"))\n",
    "sum =0\n",
    "a = 1\n",
    "b = 2\n",
    "#print(a,end=\",\")\n",
    "for i in range(1,n):\n",
    "    if(b %2  == 0 ): # finding the even numbers\n",
    "        sum = sum + b # sum of even numbers\n",
    "    c =a+b;a=b;b=c   # finding the new fibo term \n",
    "print(\"sum = \",sum)\n"
   ]
  },
  {
   "cell_type": "markdown",
   "metadata": {},
   "source": [
    "5. program\n",
    "-----------------\n",
    "\n",
    "2520 is the smallest number that can be divided by each of the numbers from 1 to 10 without any remainder.\n",
    "\n",
    "What is the smallest positive number that is evenly divisible by all of the numbers from 1 to 20?\n"
   ]
  },
  {
   "cell_type": "code",
   "execution_count": 1,
   "metadata": {},
   "outputs": [
    {
     "name": "stdout",
     "output_type": "stream",
     "text": [
      "enter n value : 10\n",
      "x =  2520\n"
     ]
    }
   ],
   "source": [
    "# fine smallest number which multiple of a number by all 1 to n\n",
    "n = int(input(\"enter n value : \"))\n",
    "x = 1\n",
    "c=0\n",
    "while(True ):\n",
    "    for i in range(1,n+1):\n",
    "        if(x% i != 0):\n",
    "            break\n",
    "    else:\n",
    "        print(\"x = \",x)\n",
    "        c = c+1\n",
    "    if(c != 0):\n",
    "        break\n",
    "    x = x+1\n"
   ]
  },
  {
   "cell_type": "code",
   "execution_count": null,
   "metadata": {},
   "outputs": [],
   "source": []
  }
 ],
 "metadata": {
  "kernelspec": {
   "display_name": "Python 3",
   "language": "python",
   "name": "python3"
  },
  "language_info": {
   "codemirror_mode": {
    "name": "ipython",
    "version": 3
   },
   "file_extension": ".py",
   "mimetype": "text/x-python",
   "name": "python",
   "nbconvert_exporter": "python",
   "pygments_lexer": "ipython3",
   "version": "3.7.0"
  }
 },
 "nbformat": 4,
 "nbformat_minor": 2
}
