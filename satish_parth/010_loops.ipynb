{
 "cells": [
  {
   "cell_type": "markdown",
   "metadata": {},
   "source": [
    "# while"
   ]
  },
  {
   "cell_type": "code",
   "execution_count": 1,
   "metadata": {},
   "outputs": [
    {
     "name": "stdout",
     "output_type": "stream",
     "text": [
      "enter your name : anjan\n",
      "enter your age :27\n",
      "enter your ph :9640987960\n",
      "****************************\n",
      "1 : time\n",
      "Name =  anjan\n",
      "Age  =  27\n",
      "Ph   =  9640987960\n",
      "*****************************\n",
      "****************************\n",
      "2 : time\n",
      "Name =  anjan\n",
      "Age  =  27\n",
      "Ph   =  9640987960\n",
      "*****************************\n",
      "****************************\n",
      "3 : time\n",
      "Name =  anjan\n",
      "Age  =  27\n",
      "Ph   =  9640987960\n",
      "*****************************\n",
      "****************************\n",
      "4 : time\n",
      "Name =  anjan\n",
      "Age  =  27\n",
      "Ph   =  9640987960\n",
      "*****************************\n",
      "****************************\n",
      "5 : time\n",
      "Name =  anjan\n",
      "Age  =  27\n",
      "Ph   =  9640987960\n",
      "*****************************\n",
      "****************************\n",
      "6 : time\n",
      "Name =  anjan\n",
      "Age  =  27\n",
      "Ph   =  9640987960\n",
      "*****************************\n",
      "****************************\n",
      "7 : time\n",
      "Name =  anjan\n",
      "Age  =  27\n",
      "Ph   =  9640987960\n",
      "*****************************\n",
      "****************************\n",
      "8 : time\n",
      "Name =  anjan\n",
      "Age  =  27\n",
      "Ph   =  9640987960\n",
      "*****************************\n",
      "****************************\n",
      "9 : time\n",
      "Name =  anjan\n",
      "Age  =  27\n",
      "Ph   =  9640987960\n",
      "*****************************\n",
      "****************************\n",
      "10 : time\n",
      "Name =  anjan\n",
      "Age  =  27\n",
      "Ph   =  9640987960\n",
      "*****************************\n",
      "Task Is over .\n"
     ]
    }
   ],
   "source": [
    "# wap print your full details 10 times \n",
    "name  = input(\"enter your name : \")\n",
    "age   = input(\"enter your age :\")\n",
    "ph   = input(\"enter your ph :\")\n",
    "i = 1\n",
    "while(i <= 10):\n",
    "    print(\"****************************\")\n",
    "    print(i,\": time\")\n",
    "    print(\"Name = \",name)\n",
    "    print(\"Age  = \",age)\n",
    "    print(\"Ph   = \",ph)\n",
    "    print(\"*****************************\")\n",
    "    i = i+1\n",
    "else:\n",
    "    print(\"Task Is over .\")"
   ]
  },
  {
   "cell_type": "code",
   "execution_count": null,
   "metadata": {},
   "outputs": [],
   "source": [
    "# wap print 1st natural number\n",
    "'''\n",
    "10 ---> 1,2,3,4,5,6,7,8,9,10\n",
    "\n",
    "'''"
   ]
  },
  {
   "cell_type": "code",
   "execution_count": 2,
   "metadata": {},
   "outputs": [
    {
     "name": "stdout",
     "output_type": "stream",
     "text": [
      "enter N : 10\n",
      "sum =  55\n"
     ]
    }
   ],
   "source": [
    "# wap find the sum of the 1st natural number\n",
    "N = int(input(\"enter N : \"))\n",
    "i =1\n",
    "sum =0\n",
    "while(i <= N):\n",
    "    sum =sum+i\n",
    "    i = i+1\n",
    "print(\"sum = \",sum)"
   ]
  },
  {
   "cell_type": "code",
   "execution_count": 3,
   "metadata": {},
   "outputs": [
    {
     "name": "stdout",
     "output_type": "stream",
     "text": [
      "enter N : 10\n",
      "factor :  1\n",
      "factor :  2\n",
      "factor :  5\n",
      "factor :  10\n"
     ]
    }
   ],
   "source": [
    "#wap find factors for any number \n",
    "N = int(input(\"enter N : \"))\n",
    "i =1\n",
    "while(i <=N):\n",
    "    if(N % i == 0):\n",
    "        print(\"factor : \",i)\n",
    "    i =i+1"
   ]
  },
  {
   "cell_type": "code",
   "execution_count": 4,
   "metadata": {},
   "outputs": [
    {
     "name": "stdout",
     "output_type": "stream",
     "text": [
      "enter N : 10\n",
      "factor :  1\n",
      "factor :  2\n",
      "factor :  5\n",
      "factor :  10\n",
      "The no of factor :  4\n"
     ]
    }
   ],
   "source": [
    "#wap find no of factors and print factor for any number\n",
    "N = int(input(\"enter N : \"))\n",
    "i =1\n",
    "c = 0\n",
    "while(i <=N):\n",
    "    if(N % i == 0):\n",
    "        print(\"factor : \",i)\n",
    "        c =c+1\n",
    "    i =i+1\n",
    "print(\"The no of factor : \",c)"
   ]
  },
  {
   "cell_type": "code",
   "execution_count": 6,
   "metadata": {},
   "outputs": [
    {
     "name": "stdout",
     "output_type": "stream",
     "text": [
      "enter N : 3\n",
      "factor :  1\n",
      "factor :  3\n",
      "The no of factor :  2\n",
      "3  is prime number\n"
     ]
    }
   ],
   "source": [
    "# wap find given number is prime or not \n",
    "N = int(input(\"enter N : \"))\n",
    "i =1\n",
    "c = 0\n",
    "while(i <=N):\n",
    "    if(N % i == 0):\n",
    "        print(\"factor : \",i)\n",
    "        c =c+1\n",
    "    i =i+1\n",
    "print(\"The no of factor : \",c)\n",
    "if(c == 2):\n",
    "    print(N,\" is prime number\")\n",
    "else:\n",
    "    print(N,\" is not a prime \")"
   ]
  },
  {
   "cell_type": "code",
   "execution_count": 13,
   "metadata": {},
   "outputs": [
    {
     "name": "stdout",
     "output_type": "stream",
     "text": [
      "enter no of fibonic element : 10\n",
      "0  1  1  2  3  5  8  13  21  34  "
     ]
    }
   ],
   "source": [
    "# wap generate the  N no of fibonic series element\n",
    "# 10 ---> 0 , 1,1,  2, 3, 5  ,8 , 13,21,34\n",
    "N = int(input(\"enter no of fibonic element : \"))\n",
    "a = 0\n",
    "b = 1\n",
    "i =1\n",
    "while(i <= N):\n",
    "    print(a,end =\"  \")\n",
    "    c = a+b\n",
    "    a =b\n",
    "    b =c\n",
    "    i =i+1"
   ]
  },
  {
   "cell_type": "code",
   "execution_count": 15,
   "metadata": {},
   "outputs": [
    {
     "name": "stdout",
     "output_type": "stream",
     "text": [
      "enter no of fibonic element : 10\n",
      "0  1  1  2  3  5  8  13  21  34  \n",
      "sum of even fibonica elements :  44\n"
     ]
    }
   ],
   "source": [
    "# find the sum of even fibonic elements from N numbers \n",
    "N = int(input(\"enter no of fibonic element : \"))\n",
    "a = 0\n",
    "b = 1\n",
    "i =1\n",
    "sum =0\n",
    "while(i <= N):\n",
    "    print(a,end =\"  \")\n",
    "    if(a % 2 ==0):\n",
    "        sum =sum+a\n",
    "    c = a+b\n",
    "    a =b\n",
    "    b =c\n",
    "    i =i+1\n",
    "print(\"\\nsum of even fibonica elements : \",sum)"
   ]
  },
  {
   "cell_type": "code",
   "execution_count": 18,
   "metadata": {},
   "outputs": [
    {
     "name": "stdout",
     "output_type": "stream",
     "text": [
      "enter N : 6\n",
      "6  factorial is  720\n"
     ]
    }
   ],
   "source": [
    "# wap find the factorial of a number \n",
    "#5 --> 5 * 4*3*2*1---> 1*2*3*4*5---> 120\n",
    "N = int(input(\"enter N : \"))\n",
    "if(N >=0):\n",
    "    fact = 1\n",
    "    i =1\n",
    "    while(i <= N):\n",
    "        fact = fact*i\n",
    "        i =i+1\n",
    "    print(N ,\" factorial is \",fact)\n",
    "else:\n",
    "    print(\"Factorial is not possible for negative numbers\")"
   ]
  },
  {
   "cell_type": "code",
   "execution_count": 20,
   "metadata": {},
   "outputs": [
    {
     "name": "stdout",
     "output_type": "stream",
     "text": [
      "enter N : 75689\n",
      "5  no of digits in a  75689\n"
     ]
    }
   ],
   "source": [
    "# wap find no of digits in a number\n",
    "# 2345 ---> 4\n",
    "# 789  ---> 3\n",
    "N = int(input(\"enter N : \"))\n",
    "t = N\n",
    "c = 0\n",
    "while(t != 0):\n",
    "    t = t// 10\n",
    "    c =c+1\n",
    "print(c,\" no of digits in a \",N)"
   ]
  },
  {
   "cell_type": "code",
   "execution_count": 22,
   "metadata": {},
   "outputs": [
    {
     "name": "stdout",
     "output_type": "stream",
     "text": [
      "enter N : 456\n",
      " sum of digits in a  456  is  15\n"
     ]
    }
   ],
   "source": [
    "# wap find sum of the digits in a number\n",
    "N = int(input(\"enter N : \"))\n",
    "t = N\n",
    "sum = 0\n",
    "while(t != 0):\n",
    "    digit = t % 10\n",
    "    t = t// 10\n",
    "    sum =sum+digit\n",
    "print(\" sum of digits in a \",N,\" is \",sum)"
   ]
  },
  {
   "cell_type": "code",
   "execution_count": 23,
   "metadata": {},
   "outputs": [
    {
     "name": "stdout",
     "output_type": "stream",
     "text": [
      "enter N : 456\n",
      " reverse of digits a  456  is  654\n"
     ]
    }
   ],
   "source": [
    "# wap reverse of a number \n",
    "# 234 ---> 432\n",
    "N = int(input(\"enter N : \"))\n",
    "t = N\n",
    "rev = 0\n",
    "while(t != 0):\n",
    "    digit = t % 10\n",
    "    t = t// 10\n",
    "    rev =rev*10+digit\n",
    "print(\" reverse of digits a \",N,\" is \",rev)"
   ]
  },
  {
   "cell_type": "code",
   "execution_count": 25,
   "metadata": {},
   "outputs": [
    {
     "name": "stdout",
     "output_type": "stream",
     "text": [
      "enter N : 456\n",
      " reverse of digits a  456  is  654\n",
      "456  is not palindrom\n"
     ]
    }
   ],
   "source": [
    "#wap given number is palidrom or not \n",
    "N = int(input(\"enter N : \"))\n",
    "t = N\n",
    "rev = 0\n",
    "while(t != 0):\n",
    "    digit = t % 10\n",
    "    t = t// 10\n",
    "    rev =rev*10+digit\n",
    "print(\" reverse of digits a \",N,\" is \",rev)\n",
    "if(rev == N):\n",
    "    print(N ,\" is palindrom\")\n",
    "else:\n",
    "    print(N,\" is not palindrom\")"
   ]
  }
 ],
 "metadata": {
  "kernelspec": {
   "display_name": "Python 3",
   "language": "python",
   "name": "python3"
  },
  "language_info": {
   "codemirror_mode": {
    "name": "ipython",
    "version": 3
   },
   "file_extension": ".py",
   "mimetype": "text/x-python",
   "name": "python",
   "nbconvert_exporter": "python",
   "pygments_lexer": "ipython3",
   "version": "3.7.0"
  }
 },
 "nbformat": 4,
 "nbformat_minor": 2
}
