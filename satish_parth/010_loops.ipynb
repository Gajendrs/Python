{
 "cells": [
  {
   "cell_type": "markdown",
   "metadata": {},
   "source": [
    "# while"
   ]
  },
  {
   "cell_type": "code",
   "execution_count": 1,
   "metadata": {},
   "outputs": [
    {
     "name": "stdout",
     "output_type": "stream",
     "text": [
      "enter your name : anjan\n",
      "enter your age :27\n",
      "enter your ph :9640987960\n",
      "****************************\n",
      "1 : time\n",
      "Name =  anjan\n",
      "Age  =  27\n",
      "Ph   =  9640987960\n",
      "*****************************\n",
      "****************************\n",
      "2 : time\n",
      "Name =  anjan\n",
      "Age  =  27\n",
      "Ph   =  9640987960\n",
      "*****************************\n",
      "****************************\n",
      "3 : time\n",
      "Name =  anjan\n",
      "Age  =  27\n",
      "Ph   =  9640987960\n",
      "*****************************\n",
      "****************************\n",
      "4 : time\n",
      "Name =  anjan\n",
      "Age  =  27\n",
      "Ph   =  9640987960\n",
      "*****************************\n",
      "****************************\n",
      "5 : time\n",
      "Name =  anjan\n",
      "Age  =  27\n",
      "Ph   =  9640987960\n",
      "*****************************\n",
      "****************************\n",
      "6 : time\n",
      "Name =  anjan\n",
      "Age  =  27\n",
      "Ph   =  9640987960\n",
      "*****************************\n",
      "****************************\n",
      "7 : time\n",
      "Name =  anjan\n",
      "Age  =  27\n",
      "Ph   =  9640987960\n",
      "*****************************\n",
      "****************************\n",
      "8 : time\n",
      "Name =  anjan\n",
      "Age  =  27\n",
      "Ph   =  9640987960\n",
      "*****************************\n",
      "****************************\n",
      "9 : time\n",
      "Name =  anjan\n",
      "Age  =  27\n",
      "Ph   =  9640987960\n",
      "*****************************\n",
      "****************************\n",
      "10 : time\n",
      "Name =  anjan\n",
      "Age  =  27\n",
      "Ph   =  9640987960\n",
      "*****************************\n",
      "Task Is over .\n"
     ]
    }
   ],
   "source": [
    "# wap print your full details 10 times \n",
    "name  = input(\"enter your name : \")\n",
    "age   = input(\"enter your age :\")\n",
    "ph   = input(\"enter your ph :\")\n",
    "i = 1\n",
    "while(i <= 10):\n",
    "    print(\"****************************\")\n",
    "    print(i,\": time\")\n",
    "    print(\"Name = \",name)\n",
    "    print(\"Age  = \",age)\n",
    "    print(\"Ph   = \",ph)\n",
    "    print(\"*****************************\")\n",
    "    i = i+1\n",
    "else:\n",
    "    print(\"Task Is over .\")"
   ]
  },
  {
   "cell_type": "code",
   "execution_count": null,
   "metadata": {},
   "outputs": [],
   "source": [
    "# wap print 1st natural number\n",
    "'''\n",
    "10 ---> 1,2,3,4,5,6,7,8,9,10\n",
    "\n",
    "'''"
   ]
  }
 ],
 "metadata": {
  "kernelspec": {
   "display_name": "Python 3",
   "language": "python",
   "name": "python3"
  },
  "language_info": {
   "codemirror_mode": {
    "name": "ipython",
    "version": 3
   },
   "file_extension": ".py",
   "mimetype": "text/x-python",
   "name": "python",
   "nbconvert_exporter": "python",
   "pygments_lexer": "ipython3",
   "version": "3.7.0"
  }
 },
 "nbformat": 4,
 "nbformat_minor": 2
}
