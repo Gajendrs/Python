{
 "cells": [
  {
   "cell_type": "code",
   "execution_count": 1,
   "metadata": {},
   "outputs": [
    {
     "data": {
      "text/plain": [
       "-10"
      ]
     },
     "execution_count": 1,
     "metadata": {},
     "output_type": "execute_result"
    }
   ],
   "source": [
    "#unary operator\n",
    "\n",
    "# ---> a single operator operating on single operand (data)\n",
    "\n",
    "-10  # unary minus"
   ]
  },
  {
   "cell_type": "code",
   "execution_count": 2,
   "metadata": {},
   "outputs": [
    {
     "data": {
      "text/plain": [
       "10"
      ]
     },
     "execution_count": 2,
     "metadata": {},
     "output_type": "execute_result"
    }
   ],
   "source": [
    "+ 10 # unary plus\n"
   ]
  },
  {
   "cell_type": "code",
   "execution_count": 3,
   "metadata": {},
   "outputs": [
    {
     "data": {
      "text/plain": [
       "False"
      ]
     },
     "execution_count": 3,
     "metadata": {},
     "output_type": "execute_result"
    }
   ],
   "source": [
    "not 12 # logical not "
   ]
  },
  {
   "cell_type": "code",
   "execution_count": 4,
   "metadata": {},
   "outputs": [
    {
     "data": {
      "text/plain": [
       "-13"
      ]
     },
     "execution_count": 4,
     "metadata": {},
     "output_type": "execute_result"
    }
   ],
   "source": [
    "~ 12 # bitwise not "
   ]
  },
  {
   "cell_type": "markdown",
   "metadata": {},
   "source": [
    "# Binary Operator"
   ]
  },
  {
   "cell_type": "code",
   "execution_count": 5,
   "metadata": {
    "scrolled": true
   },
   "outputs": [
    {
     "name": "stdout",
     "output_type": "stream",
     "text": [
      "40\n",
      "True\n",
      "1\n"
     ]
    }
   ],
   "source": [
    "'''\n",
    "The single operator operating on two operands \n",
    "\n",
    "'''\n",
    "print(10+30)\n",
    "print(34 < 56)\n",
    "print( 3 & 5)"
   ]
  },
  {
   "cell_type": "markdown",
   "metadata": {},
   "source": [
    "# 2. Based on Operation\n",
    "\n",
    "1. arithmetic \n",
    "2. Relational\n",
    "3. Logical \n",
    "4. Assignment\n",
    "5. Special \n",
    "6. Bitwise "
   ]
  },
  {
   "cell_type": "markdown",
   "metadata": {},
   "source": [
    "# Arithmetic  Operators\n",
    "\n",
    "---> Which are used for to do all mathametical calculation\n"
   ]
  },
  {
   "cell_type": "code",
   "execution_count": 6,
   "metadata": {},
   "outputs": [
    {
     "name": "stdout",
     "output_type": "stream",
     "text": [
      "16\n",
      "10\n",
      "39\n",
      "2197\n",
      "4.333333333333333\n",
      "4\n",
      "1\n"
     ]
    }
   ],
   "source": [
    "a =13\n",
    "b = 3\n",
    "print(a+b)  # + ---> addition \n",
    "print(a-b)  # -  --> subtaction\n",
    "print(a*b)  # *  --> multiplication\n",
    "print(a**b) # ** ---> exponant  \n",
    "print(a/b)  # / ---> quocent  # float \n",
    "print(a // b) # // floor devision\n",
    "print(a%b)  # % ---> reminder (modulus)"
   ]
  },
  {
   "cell_type": "code",
   "execution_count": 11,
   "metadata": {},
   "outputs": [
    {
     "name": "stdout",
     "output_type": "stream",
     "text": [
      "enter some data : 1000\n",
      "sum =  500500.0\n"
     ]
    }
   ],
   "source": [
    "# wap find sum of the 1st N natural Numbers\n",
    "N =input(\"enter some data : \")\n",
    "N =int(N)\n",
    "sum = N * (N+1)/2\n",
    "print(\"sum = \",sum)"
   ]
  },
  {
   "cell_type": "code",
   "execution_count": null,
   "metadata": {},
   "outputs": [],
   "source": [
    "# wap find area & perimetr of square\n",
    "# wap find area & perimetr of rectangle\n",
    "# wap find area & perimetr of circle"
   ]
  },
  {
   "cell_type": "markdown",
   "metadata": {},
   "source": [
    "# Relational Operator\n",
    "\n",
    "---> Relational Operators are used for to compare any two operands "
   ]
  },
  {
   "cell_type": "code",
   "execution_count": 12,
   "metadata": {},
   "outputs": [
    {
     "name": "stdout",
     "output_type": "stream",
     "text": [
      "lessthan =  True\n",
      "greater  =  False\n",
      "equal to =  False\n",
      "not equal=  True\n",
      "less or equ =  True\n",
      "greater or equ =  False\n"
     ]
    }
   ],
   "source": [
    "a =10\n",
    "b =20\n",
    "print(\"lessthan = \",a<b)\n",
    "print(\"greater  = \",a>b)\n",
    "print(\"equal to = \",a==b)\n",
    "print(\"not equal= \",a!=b)\n",
    "print(\"less or equ = \",a<=b)\n",
    "print(\"greater or equ = \",a>=b)"
   ]
  },
  {
   "cell_type": "code",
   "execution_count": 13,
   "metadata": {},
   "outputs": [
    {
     "name": "stdout",
     "output_type": "stream",
     "text": [
      "lessthan =  False\n",
      "greater  =  False\n",
      "equal to =  True\n",
      "not equal=  False\n",
      "less or equ =  True\n",
      "greater or equ =  True\n"
     ]
    }
   ],
   "source": [
    "a =20\n",
    "b =20\n",
    "print(\"lessthan = \",a<b)\n",
    "print(\"greater  = \",a>b)\n",
    "print(\"equal to = \",a==b)\n",
    "print(\"not equal= \",a!=b)\n",
    "print(\"less or equ = \",a<=b)\n",
    "print(\"greater or equ = \",a>=b)"
   ]
  },
  {
   "cell_type": "code",
   "execution_count": 14,
   "metadata": {
    "scrolled": true
   },
   "outputs": [
    {
     "name": "stdout",
     "output_type": "stream",
     "text": [
      "lessthan =  False\n",
      "greater  =  True\n",
      "equal to =  False\n",
      "not equal=  True\n",
      "less or equ =  False\n",
      "greater or equ =  True\n"
     ]
    }
   ],
   "source": [
    "a =30\n",
    "b =20\n",
    "print(\"lessthan = \",a<b)\n",
    "print(\"greater  = \",a>b)\n",
    "print(\"equal to = \",a==b)\n",
    "print(\"not equal= \",a!=b)\n",
    "print(\"less or equ = \",a<=b)\n",
    "print(\"greater or equ = \",a>=b)"
   ]
  },
  {
   "cell_type": "code",
   "execution_count": 18,
   "metadata": {},
   "outputs": [
    {
     "name": "stdout",
     "output_type": "stream",
     "text": [
      "12  is divisble 3 -->  True\n"
     ]
    }
   ],
   "source": [
    "# wap given number is divisble by 3 or not \n",
    "n =12\n",
    "print(n,\" is divisble 3 --> \",n%3==0)"
   ]
  },
  {
   "cell_type": "code",
   "execution_count": null,
   "metadata": {},
   "outputs": [],
   "source": [
    "# wap comapre the area of square and rectangle "
   ]
  },
  {
   "cell_type": "markdown",
   "metadata": {},
   "source": [
    "# assignment operator   = \n",
    "\n",
    "---> to define the vatiable \n",
    "\n",
    "---> to assign the result to varibale "
   ]
  },
  {
   "cell_type": "code",
   "execution_count": 19,
   "metadata": {},
   "outputs": [
    {
     "data": {
      "text/plain": [
       "10"
      ]
     },
     "execution_count": 19,
     "metadata": {},
     "output_type": "execute_result"
    }
   ],
   "source": [
    "a =10\n",
    "a"
   ]
  },
  {
   "cell_type": "code",
   "execution_count": 20,
   "metadata": {},
   "outputs": [
    {
     "data": {
      "text/plain": [
       "20"
      ]
     },
     "execution_count": 20,
     "metadata": {},
     "output_type": "execute_result"
    }
   ],
   "source": [
    "b =20\n",
    "b"
   ]
  },
  {
   "cell_type": "code",
   "execution_count": 22,
   "metadata": {},
   "outputs": [
    {
     "data": {
      "text/plain": [
       "30"
      ]
     },
     "execution_count": 22,
     "metadata": {},
     "output_type": "execute_result"
    }
   ],
   "source": [
    "c = a+b\n",
    "c"
   ]
  },
  {
   "cell_type": "code",
   "execution_count": 28,
   "metadata": {},
   "outputs": [],
   "source": [
    "a =a+b #a --->a <-- 30"
   ]
  },
  {
   "cell_type": "code",
   "execution_count": 29,
   "metadata": {},
   "outputs": [
    {
     "data": {
      "text/plain": [
       "70"
      ]
     },
     "execution_count": 29,
     "metadata": {},
     "output_type": "execute_result"
    }
   ],
   "source": [
    "a"
   ]
  },
  {
   "cell_type": "code",
   "execution_count": null,
   "metadata": {},
   "outputs": [],
   "source": [
    "a =10"
   ]
  },
  {
   "cell_type": "code",
   "execution_count": 36,
   "metadata": {},
   "outputs": [],
   "source": [
    "# addition & assignment  <---to reduce the time of the execution\n",
    "\n",
    "a+=b  #a = a+b"
   ]
  },
  {
   "cell_type": "code",
   "execution_count": 37,
   "metadata": {},
   "outputs": [
    {
     "data": {
      "text/plain": [
       "70"
      ]
     },
     "execution_count": 37,
     "metadata": {},
     "output_type": "execute_result"
    }
   ],
   "source": [
    "a"
   ]
  },
  {
   "cell_type": "code",
   "execution_count": 39,
   "metadata": {},
   "outputs": [
    {
     "name": "stdout",
     "output_type": "stream",
     "text": [
      "True\n",
      "False\n",
      "False\n",
      "True\n"
     ]
    }
   ],
   "source": [
    "# in operator\n",
    "a =10\n",
    "b = [10,20,30]\n",
    "c = 40\n",
    "print(a in b)\n",
    "print(c in b)\n",
    "print(a not in b)\n",
    "print(c not in b)"
   ]
  },
  {
   "cell_type": "code",
   "execution_count": null,
   "metadata": {},
   "outputs": [],
   "source": [
    "# wap find given is character vowel or not  using in operator"
   ]
  },
  {
   "cell_type": "code",
   "execution_count": 40,
   "metadata": {},
   "outputs": [
    {
     "name": "stdout",
     "output_type": "stream",
     "text": [
      "140707567956000\n",
      "140707567956000\n",
      "140707567956640\n"
     ]
    }
   ],
   "source": [
    "a =10\n",
    "b =10\n",
    "c =30\n",
    "print(id(a))\n",
    "print(id(b))\n",
    "print(id(c))"
   ]
  },
  {
   "cell_type": "code",
   "execution_count": 41,
   "metadata": {},
   "outputs": [
    {
     "name": "stdout",
     "output_type": "stream",
     "text": [
      "True\n",
      "False\n",
      "False\n",
      "True\n"
     ]
    }
   ],
   "source": [
    "print(a is b)\n",
    "print(c is b)\n",
    "print(a is not b)\n",
    "print(c is not b)"
   ]
  }
 ],
 "metadata": {
  "kernelspec": {
   "display_name": "Python 3",
   "language": "python",
   "name": "python3"
  },
  "language_info": {
   "codemirror_mode": {
    "name": "ipython",
    "version": 3
   },
   "file_extension": ".py",
   "mimetype": "text/x-python",
   "name": "python",
   "nbconvert_exporter": "python",
   "pygments_lexer": "ipython3",
   "version": "3.7.0"
  }
 },
 "nbformat": 4,
 "nbformat_minor": 2
}
