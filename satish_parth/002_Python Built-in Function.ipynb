{
 "cells": [
  {
   "cell_type": "markdown",
   "metadata": {},
   "source": [
    "# input function\n",
    "\n",
    "---> python3 , input function is used for to read data from keyboard by user\n",
    "\n",
    "---> we can enter any dataa type its read like str"
   ]
  },
  {
   "cell_type": "code",
   "execution_count": 3,
   "metadata": {},
   "outputs": [
    {
     "name": "stdout",
     "output_type": "stream",
     "text": [
      "enter some data : 780\n",
      "780\n",
      "<class 'str'>\n",
      "971036602072\n"
     ]
    }
   ],
   "source": [
    "var = input(\"enter some data : \")\n",
    "print(var)\n",
    "print(type(var))\n",
    "print(id(var))"
   ]
  },
  {
   "cell_type": "code",
   "execution_count": 2,
   "metadata": {},
   "outputs": [
    {
     "data": {
      "text/plain": [
       "False"
      ]
     },
     "execution_count": 2,
     "metadata": {},
     "output_type": "execute_result"
    }
   ],
   "source": [
    "import keyword\n",
    "keyword.iskeyword(input)"
   ]
  },
  {
   "cell_type": "code",
   "execution_count": 4,
   "metadata": {},
   "outputs": [
    {
     "name": "stdout",
     "output_type": "stream",
     "text": [
      "enter some data : 78.45564\n",
      "78.45564\n",
      "<class 'str'>\n",
      "971036614448\n"
     ]
    }
   ],
   "source": [
    "var = input(\"enter some data : \")\n",
    "print(var)\n",
    "print(type(var))\n",
    "print(id(var))"
   ]
  },
  {
   "cell_type": "code",
   "execution_count": 4,
   "metadata": {},
   "outputs": [
    {
     "name": "stdout",
     "output_type": "stream",
     "text": [
      "enter some data : True\n",
      "True\n",
      "<class 'str'>\n",
      "655904053376\n"
     ]
    }
   ],
   "source": [
    "var = input(\"enter some data : \")\n",
    "print(var)\n",
    "print(type(var))\n",
    "print(id(var))"
   ]
  },
  {
   "cell_type": "code",
   "execution_count": 5,
   "metadata": {},
   "outputs": [
    {
     "name": "stdout",
     "output_type": "stream",
     "text": [
      "enter some data : None\n",
      "None\n",
      "<class 'str'>\n",
      "655904053488\n"
     ]
    }
   ],
   "source": [
    "var = input(\"enter some data : \")\n",
    "print(var)\n",
    "print(type(var))\n",
    "print(id(var))"
   ]
  },
  {
   "cell_type": "code",
   "execution_count": 6,
   "metadata": {},
   "outputs": [
    {
     "name": "stdout",
     "output_type": "stream",
     "text": [
      "enter some data : 7+5j\n",
      "7+5j\n",
      "<class 'str'>\n",
      "655904053544\n"
     ]
    }
   ],
   "source": [
    "var = input(\"enter some data : \")\n",
    "print(var)\n",
    "print(type(var))\n",
    "print(id(var))"
   ]
  },
  {
   "cell_type": "code",
   "execution_count": null,
   "metadata": {},
   "outputs": [],
   "source": [
    "# execute above 5 time for remaining sequential datatype"
   ]
  },
  {
   "cell_type": "markdown",
   "metadata": {},
   "source": [
    "# data type convertion function\n",
    "\n",
    "--> to convert any data type to specific daatatype\n",
    "\n",
    "---> input str data to specific datatype\n",
    "\n",
    "---> there are \n",
    "\n",
    "\n",
    "    1 . int()\n",
    "    2 . float()\n",
    "    3 . bool()\n",
    "    4 . complex()\n",
    "    5 . str()\n",
    "    6 . list()\n",
    "    7 . tuple()\n",
    "    8 . set()\n",
    "    9 . dict()"
   ]
  },
  {
   "cell_type": "code",
   "execution_count": 7,
   "metadata": {},
   "outputs": [
    {
     "name": "stdout",
     "output_type": "stream",
     "text": [
      "enter some data : 78\n",
      "78\n",
      "<class 'str'>\n",
      "971054469448\n",
      "78\n",
      "<class 'int'>\n",
      "140707612326048\n"
     ]
    }
   ],
   "source": [
    "import time\n",
    "var = input(\"enter some data : \")\n",
    "print(var)\n",
    "print(type(var))\n",
    "print(id(var))\n",
    "time.sleep(3)\n",
    "var = int(var)\n",
    "print(var)\n",
    "print(type(var))\n",
    "print(id(var))"
   ]
  },
  {
   "cell_type": "code",
   "execution_count": 9,
   "metadata": {},
   "outputs": [
    {
     "name": "stdout",
     "output_type": "stream",
     "text": [
      "enter some data : 78.89\n",
      "78.89\n",
      "<class 'str'>\n",
      "655882166544\n",
      "78.89\n",
      "<class 'float'>\n",
      "655870930496\n"
     ]
    }
   ],
   "source": [
    "var = input(\"enter some data : \")\n",
    "print(var)\n",
    "print(type(var))\n",
    "print(id(var))\n",
    "var = float(var)\n",
    "print(var)\n",
    "print(type(var))\n",
    "print(id(var))"
   ]
  },
  {
   "cell_type": "code",
   "execution_count": 10,
   "metadata": {},
   "outputs": [
    {
     "name": "stdout",
     "output_type": "stream",
     "text": [
      "enter some data : 7+4j\n",
      "7+4j\n",
      "<class 'str'>\n",
      "655882074520\n",
      "(7+4j)\n",
      "<class 'complex'>\n",
      "655899026576\n"
     ]
    }
   ],
   "source": [
    "var = input(\"enter some data : \")\n",
    "print(var)\n",
    "print(type(var))\n",
    "print(id(var))\n",
    "var = complex(var)\n",
    "print(var)\n",
    "print(type(var))\n",
    "print(id(var))"
   ]
  },
  {
   "cell_type": "code",
   "execution_count": 11,
   "metadata": {},
   "outputs": [
    {
     "name": "stdout",
     "output_type": "stream",
     "text": [
      "enter some data : True\n",
      "True\n",
      "<class 'str'>\n",
      "655882074744\n",
      "True\n",
      "<class 'bool'>\n",
      "140734412624400\n"
     ]
    }
   ],
   "source": [
    "var = input(\"enter some data : \")\n",
    "print(var)\n",
    "print(type(var))\n",
    "print(id(var))\n",
    "var = bool(var)\n",
    "print(var)\n",
    "print(type(var))\n",
    "print(id(var))"
   ]
  },
  {
   "cell_type": "code",
   "execution_count": null,
   "metadata": {},
   "outputs": [],
   "source": [
    "# execute a bove statements for remainig 5 seq data convertion"
   ]
  }
 ],
 "metadata": {
  "kernelspec": {
   "display_name": "Python 3",
   "language": "python",
   "name": "python3"
  },
  "language_info": {
   "codemirror_mode": {
    "name": "ipython",
    "version": 3
   },
   "file_extension": ".py",
   "mimetype": "text/x-python",
   "name": "python",
   "nbconvert_exporter": "python",
   "pygments_lexer": "ipython3",
   "version": "3.7.0"
  }
 },
 "nbformat": 4,
 "nbformat_minor": 2
}
