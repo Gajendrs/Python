{
 "cells": [
  {
   "cell_type": "markdown",
   "metadata": {},
   "source": [
    "# Python Basic Syntax\n",
    "\n",
    "# Syntax :-\n",
    "\n",
    "--->Syntax is a structure / Rules for writing on instructions\n",
    "\n",
    "# Instruction \n",
    "\n",
    "---> A line of a code in a program \n",
    "\n",
    "---> By using instruction  we can instruct the computer\n",
    "\n",
    "# Types of Instructions\n",
    "\n",
    "    1. Comment\n",
    "    ------------\n",
    "    \n",
    "        ---> What ever the instructions which never executable by cpu\n",
    "        \n",
    "        ---> Comments are implimented by programmer \n",
    "        \n",
    "        ---> The main Use of the comments are to give Brief explanation \n",
    "            for each and every statements\n",
    "        \n",
    "        ---> In 2 ways we can implimments\n",
    "        \n",
    "            1. Single line comment \n",
    "               \n",
    "                   ----> we can comment single line at a time ( #)\n",
    "            2. Multiline comment\n",
    "              ---> we can comment multiple lines at a time (''' ''')\n",
    "    2. Statement\n",
    "    \n",
    "        ----> An Instruction which can be executable "
   ]
  },
  {
   "cell_type": "code",
   "execution_count": 1,
   "metadata": {},
   "outputs": [
    {
     "name": "stdout",
     "output_type": "stream",
     "text": [
      "hello\n",
      "hai\n",
      "bye\n",
      "hai\n",
      "hello\n",
      "bye\n",
      "\n"
     ]
    }
   ],
   "source": [
    "# This is single line comment\n",
    "'''\n",
    "This  is  multiple line \n",
    "comments\n",
    "\n",
    "'''\n",
    "'''\n",
    "print function is displaying the data on monitor\n",
    "'''\n",
    "print(\"hello\") # single statement\n",
    "print('hai') ; print('bye') # multiple statement \n",
    "print('''hai\n",
    "hello\n",
    "bye\n",
    "''')\n",
    "# multi line statement"
   ]
  },
  {
   "cell_type": "markdown",
   "metadata": {},
   "source": [
    "# Python Names \n",
    "\n",
    "---> The Python / Any Programming Language which having 2 kind of names \n",
    "\n",
    "    1. Keywords\n",
    "    -------------\n",
    "    \n",
    "     ---> The Names / words which are already implimented with python\n",
    "     \n",
    "     ---> Every keyword which having its won specific functionality\n",
    "     \n",
    "     ---> nearly we have 35 keywords \n",
    "    \n",
    "    2. Identifier:-\n",
    "    -----------------\n",
    "    \n",
    "        ---> Which are programmer Defined Names (User defined words)\n",
    "        \n",
    "        ---> To identify the Variables , Functions , Classes \n",
    "       \n",
    "       Rules :-\n",
    "       --------\n",
    "       \n",
    "           1. we can use Alphabets ( A- Z / a -Z)\n",
    "           2. We can use Digits  ( 0 -  9)\n",
    "           3. We can use Underscore( _ )\n",
    "           4. We don't  use Digits as a 1st letter (0 - 9)\n",
    "           5. Don't use keywords\n",
    "           6. Don't use special Character ( % , &, , % $ ())"
   ]
  },
  {
   "cell_type": "code",
   "execution_count": 2,
   "metadata": {},
   "outputs": [
    {
     "name": "stdout",
     "output_type": "stream",
     "text": [
      "['False', 'None', 'True', 'and', 'as', 'assert', 'async', 'await', 'break', 'class', 'continue', 'def', 'del', 'elif', 'else', 'except', 'finally', 'for', 'from', 'global', 'if', 'import', 'in', 'is', 'lambda', 'nonlocal', 'not', 'or', 'pass', 'raise', 'return', 'try', 'while', 'with', 'yield']\n",
      "35\n"
     ]
    }
   ],
   "source": [
    "import keyword\n",
    "print(keyword.kwlist)\n",
    "print(len(keyword.kwlist))"
   ]
  },
  {
   "cell_type": "code",
   "execution_count": 3,
   "metadata": {},
   "outputs": [
    {
     "data": {
      "text/plain": [
       "['__all__',\n",
       " '__builtins__',\n",
       " '__cached__',\n",
       " '__doc__',\n",
       " '__file__',\n",
       " '__loader__',\n",
       " '__name__',\n",
       " '__package__',\n",
       " '__spec__',\n",
       " 'iskeyword',\n",
       " 'kwlist',\n",
       " 'main']"
      ]
     },
     "execution_count": 3,
     "metadata": {},
     "output_type": "execute_result"
    }
   ],
   "source": [
    "dir(keyword)"
   ]
  },
  {
   "cell_type": "code",
   "execution_count": 6,
   "metadata": {},
   "outputs": [
    {
     "data": {
      "text/plain": [
       "False"
      ]
     },
     "execution_count": 6,
     "metadata": {},
     "output_type": "execute_result"
    }
   ],
   "source": [
    "keyword.iskeyword('if1')"
   ]
  },
  {
   "cell_type": "markdown",
   "metadata": {},
   "source": [
    "# Python Variable\n",
    "\n",
    "---> Varibles are names which are used for to hold the from memory \n",
    "\n",
    "---> By using variables we can easly store the daata  to memory\n",
    "\n",
    "---> By  using vaibale we can easly access the data from the memory\n",
    "\n",
    "# We don't  need to declare the variables \n",
    "\n",
    "# we can assign  the data to the identifier"
   ]
  },
  {
   "cell_type": "code",
   "execution_count": 8,
   "metadata": {},
   "outputs": [],
   "source": [
    "# idetifier / variable\n",
    "'''\n",
    "syntax:-\n",
    "----------\n",
    "\n",
    "identifier = data \n",
    "'''\n",
    "varF1_ =1234"
   ]
  },
  {
   "cell_type": "code",
   "execution_count": 9,
   "metadata": {},
   "outputs": [],
   "source": [
    "_var =134"
   ]
  },
  {
   "cell_type": "code",
   "execution_count": 10,
   "metadata": {},
   "outputs": [
    {
     "ename": "SyntaxError",
     "evalue": "invalid syntax (<ipython-input-10-1fe9f3f63f3d>, line 1)",
     "output_type": "error",
     "traceback": [
      "\u001b[1;36m  File \u001b[1;32m\"<ipython-input-10-1fe9f3f63f3d>\"\u001b[1;36m, line \u001b[1;32m1\u001b[0m\n\u001b[1;33m    1var =1234\u001b[0m\n\u001b[1;37m       ^\u001b[0m\n\u001b[1;31mSyntaxError\u001b[0m\u001b[1;31m:\u001b[0m invalid syntax\n"
     ]
    }
   ],
   "source": [
    "1var =1234"
   ]
  },
  {
   "cell_type": "code",
   "execution_count": 15,
   "metadata": {},
   "outputs": [
    {
     "ename": "SyntaxError",
     "evalue": "can't assign to operator (<ipython-input-15-9a1bdce8c68f>, line 1)",
     "output_type": "error",
     "traceback": [
      "\u001b[1;36m  File \u001b[1;32m\"<ipython-input-15-9a1bdce8c68f>\"\u001b[1;36m, line \u001b[1;32m1\u001b[0m\n\u001b[1;33m    var-1 =134\u001b[0m\n\u001b[1;37m              ^\u001b[0m\n\u001b[1;31mSyntaxError\u001b[0m\u001b[1;31m:\u001b[0m can't assign to operator\n"
     ]
    }
   ],
   "source": [
    "var-1 =134"
   ]
  },
  {
   "cell_type": "code",
   "execution_count": 16,
   "metadata": {
    "scrolled": true
   },
   "outputs": [
    {
     "ename": "SyntaxError",
     "evalue": "invalid syntax (<ipython-input-16-5bf78261dd94>, line 1)",
     "output_type": "error",
     "traceback": [
      "\u001b[1;36m  File \u001b[1;32m\"<ipython-input-16-5bf78261dd94>\"\u001b[1;36m, line \u001b[1;32m1\u001b[0m\n\u001b[1;33m    if =123\u001b[0m\n\u001b[1;37m       ^\u001b[0m\n\u001b[1;31mSyntaxError\u001b[0m\u001b[1;31m:\u001b[0m invalid syntax\n"
     ]
    }
   ],
   "source": [
    "if =123"
   ]
  },
  {
   "cell_type": "code",
   "execution_count": 19,
   "metadata": {},
   "outputs": [
    {
     "name": "stdout",
     "output_type": "stream",
     "text": [
      "140707612326752\n"
     ]
    }
   ],
   "source": [
    "# memory location ---> id(var)\n",
    "print(id(100))"
   ]
  },
  {
   "cell_type": "code",
   "execution_count": 20,
   "metadata": {},
   "outputs": [
    {
     "name": "stdout",
     "output_type": "stream",
     "text": [
      "140707612326752\n"
     ]
    }
   ],
   "source": [
    "a =100\n",
    "print(id(a))"
   ]
  },
  {
   "cell_type": "code",
   "execution_count": 21,
   "metadata": {},
   "outputs": [
    {
     "name": "stdout",
     "output_type": "stream",
     "text": [
      "140707612329952\n"
     ]
    }
   ],
   "source": [
    "a =200\n",
    "print(id(a))"
   ]
  },
  {
   "cell_type": "code",
   "execution_count": 22,
   "metadata": {
    "scrolled": true
   },
   "outputs": [
    {
     "name": "stdout",
     "output_type": "stream",
     "text": [
      "140707612329952\n"
     ]
    }
   ],
   "source": [
    "print(id(200))"
   ]
  },
  {
   "cell_type": "code",
   "execution_count": 25,
   "metadata": {},
   "outputs": [
    {
     "data": {
      "text/plain": [
       "36"
      ]
     },
     "execution_count": 25,
     "metadata": {},
     "output_type": "execute_result"
    }
   ],
   "source": [
    "a =93477589367486387464785\n",
    "a.__sizeof__()"
   ]
  },
  {
   "cell_type": "markdown",
   "metadata": {},
   "source": [
    "# Python Datatype\n",
    "\n",
    "---> Data types are predefined classes \n",
    "\n",
    "---> Which are used for to specify what kind of data which is holded by variable\n",
    "\n",
    "---> There are 2 types \n",
    "\n",
    "    1. Fundamental Datatype\n",
    "    \n",
    "    2. Sequential Datatype\n",
    "# 1. Fundamental Datatype \n",
    "\n",
    "---> A single variable can store single data element\n",
    "\n",
    "---> There are 5 datatypes \n",
    "    1. int\n",
    "    2. float\n",
    "    3. complex\n",
    "    4. bool\n",
    "    5. None"
   ]
  },
  {
   "cell_type": "code",
   "execution_count": 26,
   "metadata": {},
   "outputs": [
    {
     "name": "stdout",
     "output_type": "stream",
     "text": [
      "123\n",
      "<class 'int'>\n",
      "140707612327488\n"
     ]
    }
   ],
   "source": [
    "var =123\n",
    "print(var)\n",
    "print(type(var))\n",
    "print(id(var))"
   ]
  },
  {
   "cell_type": "code",
   "execution_count": 27,
   "metadata": {},
   "outputs": [
    {
     "name": "stdout",
     "output_type": "stream",
     "text": [
      "123.34354\n",
      "<class 'float'>\n",
      "896577823104\n"
     ]
    }
   ],
   "source": [
    "var =123.34354\n",
    "print(var)\n",
    "print(type(var))\n",
    "print(id(var))"
   ]
  },
  {
   "cell_type": "code",
   "execution_count": 28,
   "metadata": {},
   "outputs": [
    {
     "name": "stdout",
     "output_type": "stream",
     "text": [
      "(123+34j)\n",
      "<class 'complex'>\n",
      "896577232784\n"
     ]
    }
   ],
   "source": [
    "var =123 + 34j\n",
    "print(var)\n",
    "print(type(var))\n",
    "print(id(var))"
   ]
  },
  {
   "cell_type": "code",
   "execution_count": 29,
   "metadata": {},
   "outputs": [
    {
     "name": "stdout",
     "output_type": "stream",
     "text": [
      "True\n",
      "<class 'bool'>\n",
      "140707611808272\n"
     ]
    }
   ],
   "source": [
    "var =True\n",
    "print(var)\n",
    "print(type(var))\n",
    "print(id(var))"
   ]
  },
  {
   "cell_type": "code",
   "execution_count": 30,
   "metadata": {},
   "outputs": [
    {
     "name": "stdout",
     "output_type": "stream",
     "text": [
      "False\n",
      "<class 'bool'>\n",
      "140707611808304\n"
     ]
    }
   ],
   "source": [
    "var =False\n",
    "print(var)\n",
    "print(type(var))\n",
    "print(id(var))"
   ]
  },
  {
   "cell_type": "code",
   "execution_count": 31,
   "metadata": {},
   "outputs": [
    {
     "name": "stdout",
     "output_type": "stream",
     "text": [
      "None\n",
      "<class 'NoneType'>\n",
      "140707611854864\n"
     ]
    }
   ],
   "source": [
    "var =None\n",
    "print(var)\n",
    "print(type(var))\n",
    "print(id(var))"
   ]
  },
  {
   "cell_type": "markdown",
   "metadata": {},
   "source": [
    "# 2. Sequential Datatype\n",
    "\n",
    "---> A single variable can hold multiple data elements\n",
    "\n",
    "---> There are \n",
    "\n",
    "    1. str\n",
    "    2. list\n",
    "    3. tuple\n",
    "    4. dict\n",
    "    5. set"
   ]
  },
  {
   "cell_type": "code",
   "execution_count": 32,
   "metadata": {},
   "outputs": [
    {
     "name": "stdout",
     "output_type": "stream",
     "text": [
      "123\n",
      "<class 'str'>\n",
      "896577710376\n",
      "soc\n",
      "<class 'str'>\n",
      "896577710432\n",
      "123\n",
      "<class 'str'>\n",
      "896577710376\n",
      "123\n",
      "<class 'str'>\n",
      "896577710376\n"
     ]
    }
   ],
   "source": [
    "var ='123'\n",
    "print(var)\n",
    "print(type(var))\n",
    "print(id(var))\n",
    "var =\"soc\"\n",
    "print(var)\n",
    "print(type(var))\n",
    "print(id(var))\n",
    "var ='''123'''\n",
    "print(var)\n",
    "print(type(var))\n",
    "print(id(var))\n",
    "var =\"\"\"123\"\"\"\n",
    "print(var)\n",
    "print(type(var))\n",
    "print(id(var))"
   ]
  },
  {
   "cell_type": "code",
   "execution_count": 34,
   "metadata": {},
   "outputs": [
    {
     "name": "stdout",
     "output_type": "stream",
     "text": [
      "[123, 23, 56, 67]\n",
      "<class 'list'>\n",
      "896559892872\n"
     ]
    }
   ],
   "source": [
    "var =[123,23,56,67]\n",
    "print(var)\n",
    "print(type(var))\n",
    "print(id(var))"
   ]
  },
  {
   "cell_type": "code",
   "execution_count": 35,
   "metadata": {},
   "outputs": [
    {
     "name": "stdout",
     "output_type": "stream",
     "text": [
      "(123, 67, 34, 67)\n",
      "<class 'tuple'>\n",
      "896577684728\n"
     ]
    }
   ],
   "source": [
    "var =(123,67,34,67)\n",
    "print(var)\n",
    "print(type(var))\n",
    "print(id(var))"
   ]
  },
  {
   "cell_type": "code",
   "execution_count": 12,
   "metadata": {},
   "outputs": [
    {
     "name": "stdout",
     "output_type": "stream",
     "text": [
      "{123: 'soc', 45: 'python'}\n",
      "<class 'dict'>\n",
      "360461464560\n"
     ]
    }
   ],
   "source": [
    "var ={123:\"soc\" , 45:\"python\"}\n",
    "print(var)\n",
    "print(type(var))\n",
    "print(id(var))"
   ]
  },
  {
   "cell_type": "code",
   "execution_count": 36,
   "metadata": {},
   "outputs": [
    {
     "name": "stdout",
     "output_type": "stream",
     "text": [
      "{67, 32, 34, 123}\n",
      "<class 'set'>\n",
      "896577634600\n"
     ]
    }
   ],
   "source": [
    "var ={123,34,67,32}\n",
    "print(var)\n",
    "print(type(var))\n",
    "print(id(var))"
   ]
  }
 ],
 "metadata": {
  "kernelspec": {
   "display_name": "Python 3",
   "language": "python",
   "name": "python3"
  },
  "language_info": {
   "codemirror_mode": {
    "name": "ipython",
    "version": 3
   },
   "file_extension": ".py",
   "mimetype": "text/x-python",
   "name": "python",
   "nbconvert_exporter": "python",
   "pygments_lexer": "ipython3",
   "version": "3.7.0"
  }
 },
 "nbformat": 4,
 "nbformat_minor": 2
}
