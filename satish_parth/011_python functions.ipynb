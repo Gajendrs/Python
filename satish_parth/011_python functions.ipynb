{
 "cells": [
  {
   "cell_type": "markdown",
   "metadata": {},
   "source": [
    "# what function\n",
    "\n",
    "----> Function is a sub program of a main program\n",
    "\n",
    "---> Function is a collection of statements for doing any one specific task \n",
    "\n",
    "---> Functions are the blocks\n",
    "\n"
   ]
  },
  {
   "cell_type": "markdown",
   "metadata": {},
   "source": [
    "# Use of functions\n",
    "\n",
    "---> To reduce the code size\n",
    "\n",
    "---> Reusability purpose of the task"
   ]
  },
  {
   "cell_type": "markdown",
   "metadata": {},
   "source": [
    "# Types Of functions \n",
    "\n",
    "---> there are 2 types \n",
    "\n",
    "1. predefined function \n",
    "\n",
    "---> the functions which are already defined it \n",
    "\n",
    "int () , float(), str() ,list(), tuple(),set(), dict(), bool(),complex()\n",
    "\n",
    "bin(), hex() ,oct()\n",
    "\n",
    "sum() , max() , min() , ord() , chr()\n",
    "\n",
    "dir() , help()\n",
    "\n",
    "range() \n",
    "\n",
    "2. User defined function\n",
    "\n",
    "---->whatever the functions which was defined programmer as per his own requirements\n",
    "\n",
    "---> so that we can reduce the code size"
   ]
  },
  {
   "cell_type": "markdown",
   "metadata": {},
   "source": [
    "# Function Components\n",
    "\n",
    "---> Any function which haviing 2 components \n",
    "\n",
    "1. Function Defination\n",
    "\n",
    "----> The whole logic of the task we have to write with in one block \n",
    "\n",
    "---> def  is a keyword is used for to create the function\n",
    "\n",
    "syntax:-\n",
    "-----------\n",
    "def  function_name( arguments):\n",
    "\n",
    "    statement1\n",
    "    statement2\n",
    "    ----------\n",
    "    ----------\n",
    "    ----------\n",
    "    return data\n",
    "\n",
    "\n",
    "2. Function Call\n",
    "\n",
    "---> which is used for to execute the function defination\n",
    "\n",
    "syntax:-\n",
    "----------\n",
    "var = function_name(arguments)\n"
   ]
  },
  {
   "cell_type": "code",
   "execution_count": 4,
   "metadata": {},
   "outputs": [
    {
     "name": "stdout",
     "output_type": "stream",
     "text": [
      "**************************\n",
      "name  =  anjan kumar\n",
      "age   =  27 years \n",
      "mail  =  mail@gmail.com\n",
      "ph    =  9640 987 964 \n",
      "**************************\n",
      "name  =  anjan kumar\n",
      "age   =  27 years \n",
      "mail  =  mail@gmail.com\n",
      "ph    =  9640 987 964 \n",
      "**************************\n",
      "name  =  anjan kumar\n",
      "age   =  27 years \n",
      "mail  =  mail@gmail.com\n",
      "ph    =  9640 987 964 \n",
      "**************************\n",
      "name  =  anjan kumar\n",
      "age   =  27 years \n",
      "mail  =  mail@gmail.com\n",
      "ph    =  9640 987 964 \n",
      "**************************\n"
     ]
    }
   ],
   "source": [
    "# function defination\n",
    "def details():\n",
    "    print(\"name  =  anjan kumar\")\n",
    "    print(\"age   =  27 years \")\n",
    "    print(\"mail  =  mail@gmail.com\")\n",
    "    print(\"ph    =  9640 987 964 \")\n",
    "    \n",
    "print('**************************')\n",
    "details() # function call\n",
    "print('**************************')\n",
    "details() # function call\n",
    "print('**************************')\n",
    "details() # function call\n",
    "print('**************************')\n",
    "details() # function call\n",
    "print('**************************')\n"
   ]
  },
  {
   "cell_type": "code",
   "execution_count": 3,
   "metadata": {},
   "outputs": [
    {
     "name": "stdout",
     "output_type": "stream",
     "text": [
      "enter N : 7\n",
      "given number is prime\n",
      "enter N : 9\n",
      "its not a prime\n"
     ]
    }
   ],
   "source": [
    "#waf find given number is prime or not\n",
    "def isprime():\n",
    "    n = int(input(\"enter N : \"))\n",
    "    for i in range(2,n):\n",
    "        if(n%i ==0):\n",
    "            print(\"its not a prime\")\n",
    "            break\n",
    "    else:\n",
    "        print(\"given number is prime\")\n",
    "#function call\n",
    "isprime()\n",
    "isprime()"
   ]
  },
  {
   "cell_type": "markdown",
   "metadata": {},
   "source": [
    "# function arguments \n",
    "\n",
    "'''\n",
    "while we are calling the function we can send the data from calling \n",
    "function(function call) to function defination(called function)\n",
    "\n",
    "'''\n",
    "\n",
    "# there are 2 types of arguments\n",
    "\n",
    "1. actual arguments( function call )\n",
    "2. formal arguments (function defination )"
   ]
  },
  {
   "cell_type": "code",
   "execution_count": 4,
   "metadata": {},
   "outputs": [
    {
     "name": "stdout",
     "output_type": "stream",
     "text": [
      "c= 101\n",
      "c= 500\n",
      "c= 123\n"
     ]
    }
   ],
   "source": [
    "#addition of two numbers\n",
    "def add(a,b): # a,b are formal arguments\n",
    "    c=a+b\n",
    "    print(\"c=\",c)\n",
    "    \n",
    "add(34,67)# 34,67 are actual argumentd\n",
    "add(100,400)\n",
    "add(45,78)\n",
    "    \n",
    "    "
   ]
  },
  {
   "cell_type": "code",
   "execution_count": 1,
   "metadata": {},
   "outputs": [
    {
     "name": "stdout",
     "output_type": "stream",
     "text": [
      "enter N : 45\n",
      "its not a prime\n",
      "enter N : 23\n",
      "given number is prime\n"
     ]
    }
   ],
   "source": [
    "#waf find given number is prime or not\n",
    "def isprime(n):\n",
    "    for i in range(2,n):\n",
    "        if(n%i ==0):\n",
    "            print(\"its not a prime\")\n",
    "            break\n",
    "    else:\n",
    "        print(\"given number is prime\")\n",
    "\n",
    "n = int(input(\"enter N : \"))\n",
    "#function call\n",
    "isprime(n)\n",
    "n = int(input(\"enter N : \"))\n",
    "#function call\n",
    "isprime(n)"
   ]
  },
  {
   "cell_type": "code",
   "execution_count": 3,
   "metadata": {},
   "outputs": [
    {
     "name": "stdout",
     "output_type": "stream",
     "text": [
      "enter N : 56\n",
      "its not a prime\n",
      "enter N : 27\n",
      "its not a prime\n"
     ]
    }
   ],
   "source": [
    "#waf find given number is prime or not\n",
    "def isprime(n):\n",
    "    for i in range(2,n):\n",
    "        if(n%i ==0):\n",
    "            print(\"its not a prime\")\n",
    "            break\n",
    "    else:\n",
    "        print(\"given number is prime\")\n",
    "\n",
    "def main():\n",
    "    n = int(input(\"enter N : \"))\n",
    "    #function call\n",
    "    isprime(n)\n",
    "    n = int(input(\"enter N : \"))\n",
    "    #function call\n",
    "    isprime(n)\n",
    "if(__name__ == \"__main__\"):\n",
    "    main()"
   ]
  },
  {
   "cell_type": "code",
   "execution_count": 4,
   "metadata": {},
   "outputs": [
    {
     "ename": "TypeError",
     "evalue": "isprime() missing 1 required positional argument: 'n'",
     "output_type": "error",
     "traceback": [
      "\u001b[1;31m---------------------------------------------------------------------------\u001b[0m",
      "\u001b[1;31mTypeError\u001b[0m                                 Traceback (most recent call last)",
      "\u001b[1;32m<ipython-input-4-a0a672f49a72>\u001b[0m in \u001b[0;36m<module>\u001b[1;34m()\u001b[0m\n\u001b[0;32m     16\u001b[0m     \u001b[0misprime\u001b[0m\u001b[1;33m(\u001b[0m\u001b[1;33m)\u001b[0m\u001b[1;33m\u001b[0m\u001b[0m\n\u001b[0;32m     17\u001b[0m \u001b[1;32mif\u001b[0m\u001b[1;33m(\u001b[0m\u001b[0m__name__\u001b[0m \u001b[1;33m==\u001b[0m \u001b[1;34m\"__main__\"\u001b[0m\u001b[1;33m)\u001b[0m\u001b[1;33m:\u001b[0m\u001b[1;33m\u001b[0m\u001b[0m\n\u001b[1;32m---> 18\u001b[1;33m     \u001b[0mmain\u001b[0m\u001b[1;33m(\u001b[0m\u001b[1;33m)\u001b[0m\u001b[1;33m\u001b[0m\u001b[0m\n\u001b[0m",
      "\u001b[1;32m<ipython-input-4-a0a672f49a72>\u001b[0m in \u001b[0;36mmain\u001b[1;34m()\u001b[0m\n\u001b[0;32m     11\u001b[0m     \u001b[1;31m#n = int(input(\"enter N : \"))\u001b[0m\u001b[1;33m\u001b[0m\u001b[1;33m\u001b[0m\u001b[0m\n\u001b[0;32m     12\u001b[0m     \u001b[1;31m#function call\u001b[0m\u001b[1;33m\u001b[0m\u001b[1;33m\u001b[0m\u001b[0m\n\u001b[1;32m---> 13\u001b[1;33m     \u001b[0misprime\u001b[0m\u001b[1;33m(\u001b[0m\u001b[1;33m)\u001b[0m\u001b[1;33m\u001b[0m\u001b[0m\n\u001b[0m\u001b[0;32m     14\u001b[0m     \u001b[1;31m#n = int(input(\"enter N : \"))\u001b[0m\u001b[1;33m\u001b[0m\u001b[1;33m\u001b[0m\u001b[0m\n\u001b[0;32m     15\u001b[0m     \u001b[1;31m#function call\u001b[0m\u001b[1;33m\u001b[0m\u001b[1;33m\u001b[0m\u001b[0m\n",
      "\u001b[1;31mTypeError\u001b[0m: isprime() missing 1 required positional argument: 'n'"
     ]
    }
   ],
   "source": [
    "#waf find given number is prime or not\n",
    "def isprime(n):\n",
    "    for i in range(2,n):\n",
    "        if(n%i ==0):\n",
    "            print(\"its not a prime\")\n",
    "            break\n",
    "    else:\n",
    "        print(\"given number is prime\")\n",
    "\n",
    "def main():\n",
    "    #n = int(input(\"enter N : \"))\n",
    "    #function call\n",
    "    isprime()\n",
    "    #n = int(input(\"enter N : \"))\n",
    "    #function call\n",
    "    isprime()\n",
    "if(__name__ == \"__main__\"):\n",
    "    main()"
   ]
  },
  {
   "cell_type": "code",
   "execution_count": 9,
   "metadata": {},
   "outputs": [
    {
     "name": "stdout",
     "output_type": "stream",
     "text": [
      "23 given number is prime\n",
      "45 its not a prime\n"
     ]
    }
   ],
   "source": [
    "#waf find given number is prime or not\n",
    "# default arguments\n",
    "'''\n",
    "even no actual arguments then formal arguments having some default \n",
    "daat\n",
    "'''\n",
    "def isprime(n=13):\n",
    "    for i in range(2,n):\n",
    "        if(n%i ==0):\n",
    "            print(n,\"its not a prime\")\n",
    "            break\n",
    "    else:\n",
    "        print(n,\"given number is prime\")\n",
    "\n",
    "def main():\n",
    "    #n = int(input(\"enter N : \"))\n",
    "    #function call\n",
    "    isprime(23)\n",
    "    #n = int(input(\"enter N : \"))\n",
    "    #function call\n",
    "    isprime(45)\n",
    "if(__name__ == \"__main__\"):\n",
    "    main()"
   ]
  },
  {
   "cell_type": "code",
   "execution_count": 6,
   "metadata": {},
   "outputs": [
    {
     "name": "stdout",
     "output_type": "stream",
     "text": [
      "13 given number is prime\n",
      "13 given number is prime\n"
     ]
    }
   ],
   "source": [
    "#waf find given number is prime or not\n",
    "# default arguments\n",
    "'''\n",
    "even no actual arguments then formal arguments having some default \n",
    "daat\n",
    "'''\n",
    "def isprime(n=13):\n",
    "    for i in range(2,n):\n",
    "        if(n%i ==0):\n",
    "            print(n,\"its not a prime\")\n",
    "            break\n",
    "    else:\n",
    "        print(n,\"given number is prime\")\n",
    "\n",
    "def main():\n",
    "    #n = int(input(\"enter N : \"))\n",
    "    #function call\n",
    "    isprime()\n",
    "    #n = int(input(\"enter N : \"))\n",
    "    #function call\n",
    "    isprime()\n",
    "if(__name__ == \"__main__\"):\n",
    "    main()"
   ]
  },
  {
   "cell_type": "code",
   "execution_count": 10,
   "metadata": {},
   "outputs": [
    {
     "name": "stdout",
     "output_type": "stream",
     "text": [
      "hello\n"
     ]
    }
   ],
   "source": [
    "# return \n",
    "\n",
    "'''\n",
    "1 . to send the data from function defincation to function call\n",
    "\n",
    "2. to terminate the function\n",
    "\n",
    "'''\n",
    "def fun():\n",
    "    print(\"hello\")\n",
    "    return\n",
    "    print(\"hai\")\n",
    "fun()"
   ]
  },
  {
   "cell_type": "code",
   "execution_count": 11,
   "metadata": {},
   "outputs": [
    {
     "name": "stdout",
     "output_type": "stream",
     "text": [
      "hai\n",
      "hello\n",
      "100\n"
     ]
    }
   ],
   "source": [
    "def fun():\n",
    "    print(\"hai\")\n",
    "    print(\"hello\")\n",
    "    return 100\n",
    "a = fun()\n",
    "print(a)"
   ]
  },
  {
   "cell_type": "code",
   "execution_count": null,
   "metadata": {},
   "outputs": [],
   "source": [
    "* * * * *  * * * * *\n",
    "* * * *      * * * *\n",
    "* * *          * * *\n",
    "* *              * *\n",
    "*                  *\n",
    "*                  *\n",
    "* *              * *\n",
    "* * *          * * *\n",
    "* * * *      * * * *\n",
    "* * * * *  * * * * *\n"
   ]
  },
  {
   "cell_type": "code",
   "execution_count": 12,
   "metadata": {},
   "outputs": [
    {
     "name": "stdout",
     "output_type": "stream",
     "text": [
      "enter x1 : 89\n",
      "enter x2 : 10\n",
      "89  +  10  =  99\n",
      "89  -  10  =  79\n",
      "89  *  10  =  890\n"
     ]
    }
   ],
   "source": [
    "# wap do all mathametical function\n",
    "def add(a=10,b=20):\n",
    "    c =a+b\n",
    "    return c\n",
    "def sub(a=10,b=20):\n",
    "    c =a-b\n",
    "    return c\n",
    "def mul(a = 10,b=20):\n",
    "    c =a*b\n",
    "    return c\n",
    "x1 = int(input(\"enter x1 : \"))\n",
    "x2 = int(input(\"enter x2 : \"))\n",
    "print(x1,\" + \",x2,\" = \",add(x1,x2))\n",
    "print(x1,\" - \",x2,\" = \",sub(x1,x2))\n",
    "print(x1,\" * \",x2,\" = \",mul(x1,x2))\n",
    "\n"
   ]
  }
 ],
 "metadata": {
  "kernelspec": {
   "display_name": "Python 3",
   "language": "python",
   "name": "python3"
  },
  "language_info": {
   "codemirror_mode": {
    "name": "ipython",
    "version": 3
   },
   "file_extension": ".py",
   "mimetype": "text/x-python",
   "name": "python",
   "nbconvert_exporter": "python",
   "pygments_lexer": "ipython3",
   "version": "3.7.0"
  }
 },
 "nbformat": 4,
 "nbformat_minor": 2
}
