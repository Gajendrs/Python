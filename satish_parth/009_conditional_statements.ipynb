{
 "cells": [
  {
   "cell_type": "markdown",
   "metadata": {},
   "source": [
    "# simple if"
   ]
  },
  {
   "cell_type": "code",
   "execution_count": 2,
   "metadata": {},
   "outputs": [
    {
     "name": "stdout",
     "output_type": "stream",
     "text": [
      "enter N : 9\n"
     ]
    }
   ],
   "source": [
    "'''\n",
    "WAP find power of 2 when given number is even\n",
    "'''\n",
    "N = input(\"enter N : \")\n",
    "N = int(N)\n",
    "if(N%2 == 0):\n",
    "    power = N **2\n",
    "    print(N ,\" Power of 2 is : \",power)"
   ]
  },
  {
   "cell_type": "code",
   "execution_count": 6,
   "metadata": {},
   "outputs": [
    {
     "name": "stdout",
     "output_type": "stream",
     "text": [
      "enter N : -4\n",
      "Factorial is not possible for given number \n"
     ]
    }
   ],
   "source": [
    "'''\n",
    "WAP print factorail is not possible based on condition\n",
    "'''\n",
    "N = input(\"enter N : \")\n",
    "N = int(N)\n",
    "if(N < 0):\n",
    "    print(\"Factorial is not possible for given number \")"
   ]
  },
  {
   "cell_type": "code",
   "execution_count": 10,
   "metadata": {},
   "outputs": [
    {
     "name": "stdout",
     "output_type": "stream",
     "text": [
      "enter age of you in years : 26\n",
      "Name :  Anjan Kumar\n",
      "mail :  abc@gmail.com\n",
      "ph   :  9640987960\n"
     ]
    }
   ],
   "source": [
    "# wap print your details when age is more than 18 \n",
    "Name =\"Anjan Kumar\"\n",
    "mail = 'abc@gmail.com'\n",
    "ph  = '9640987960'\n",
    "age = input(\"enter age of you in years : \")\n",
    "age = float(age)\n",
    "if(age >18):\n",
    "    print(\"Name : \",Name)\n",
    "    print(\"mail : \",mail)\n",
    "    print(\"ph   : \",ph)"
   ]
  },
  {
   "cell_type": "code",
   "execution_count": 17,
   "metadata": {},
   "outputs": [
    {
     "name": "stdout",
     "output_type": "stream",
     "text": [
      "enter num1 : 9\n",
      "enter num2 : 2\n",
      "mul =  18\n"
     ]
    }
   ],
   "source": [
    "'''\n",
    "wap find num1 power of a num2   when num1 is divisible by num2\n",
    "other wise find find multiplication of num1 & num2\n",
    "'''\n",
    "num1 = input(\"enter num1 : \")\n",
    "num1 = int(num1)\n",
    "num2 = input(\"enter num2 : \")\n",
    "num2 = int(num2)\n",
    "if(num1 %num2 ==0):\n",
    "    power = num1 ** num2\n",
    "    print(\"power = \",power)\n",
    "else:\n",
    "    mul = num1 * num2\n",
    "    print(\"mul = \",mul)"
   ]
  },
  {
   "cell_type": "markdown",
   "metadata": {},
   "source": [
    "# elif ladder"
   ]
  },
  {
   "cell_type": "code",
   "execution_count": 3,
   "metadata": {},
   "outputs": [
    {
     "name": "stdout",
     "output_type": "stream",
     "text": [
      "enter s1 : 89\n",
      "enter s2 : 78\n",
      "enter s3 : 89\n",
      "enter s4 : 95\n",
      "enter s5 : 99\n",
      " A Grade with Distinction\n"
     ]
    }
   ],
   "source": [
    "# wap impliment grading sysytem\n",
    "s1 = int(input(\"enter s1 : \"))\n",
    "s2 = int(input(\"enter s2 : \"))\n",
    "s3 = int(input(\"enter s3 : \"))\n",
    "s4 = int(input(\"enter s4 : \"))\n",
    "s5 = int(input(\"enter s5 : \"))\n",
    "total = s1+s2+s3+s4+s5\n",
    "avg  = total /500\n",
    "per = avg * 100\n",
    "if(per > 70):\n",
    "    print(\" A Grade with Distinction\")\n",
    "elif(per > 60):\n",
    "    print(\"A Grade \")\n",
    "elif(per > 50):\n",
    "    print(\"B Brade\")\n",
    "elif (per > 40):\n",
    "    print(\"C grade\")\n",
    "else:\n",
    "    print(\"Butter Luck Next time\")"
   ]
  },
  {
   "cell_type": "markdown",
   "metadata": {},
   "source": [
    "# nested  if"
   ]
  },
  {
   "cell_type": "markdown",
   "metadata": {},
   "source": [
    "--> if , else , elif which contains atleast if , if & else , elif ladder"
   ]
  },
  {
   "cell_type": "code",
   "execution_count": 5,
   "metadata": {},
   "outputs": [
    {
     "name": "stdout",
     "output_type": "stream",
     "text": [
      "enter a :78\n",
      "enter b :89\n",
      "enter c :45\n",
      "big =  89\n"
     ]
    }
   ],
   "source": [
    "# wap find biggest number from 3 numbers\n",
    "\n",
    "a = int(input(\"enter a :\"))\n",
    "b = int(input(\"enter b :\"))\n",
    "c = int(input(\"enter c :\"))\n",
    "if(a < b):\n",
    "    if(b < c):\n",
    "        print(\"big = \",c)\n",
    "    else:\n",
    "        print(\"big = \",b)\n",
    "else:\n",
    "    if(a< c):\n",
    "        print(\"big = \",c)\n",
    "    else:\n",
    "        print(\"big = \",a)"
   ]
  },
  {
   "cell_type": "code",
   "execution_count": 6,
   "metadata": {},
   "outputs": [
    {
     "name": "stdout",
     "output_type": "stream",
     "text": [
      "enter a :100\n",
      "enter b :1010\n",
      "enter c :5000\n",
      "big =  5000\n"
     ]
    }
   ],
   "source": [
    "# wap find biggest number from 3 numbers \n",
    "a = int(input(\"enter a :\"))\n",
    "b = int(input(\"enter b :\"))\n",
    "c = int(input(\"enter c :\"))\n",
    "if(a < b):\n",
    "    big =  b\n",
    "    if(big < c):\n",
    "        big = c\n",
    "else:\n",
    "    big =a\n",
    "    if(big< c):\n",
    "        big = c\n",
    "print(\"big = \",big)\n",
    "   "
   ]
  },
  {
   "cell_type": "code",
   "execution_count": 7,
   "metadata": {},
   "outputs": [],
   "source": [
    "# wap find smallest number from 3 numbers"
   ]
  },
  {
   "cell_type": "code",
   "execution_count": 8,
   "metadata": {},
   "outputs": [],
   "source": [
    "# wap find given year is leap year or not"
   ]
  }
 ],
 "metadata": {
  "kernelspec": {
   "display_name": "Python 3",
   "language": "python",
   "name": "python3"
  },
  "language_info": {
   "codemirror_mode": {
    "name": "ipython",
    "version": 3
   },
   "file_extension": ".py",
   "mimetype": "text/x-python",
   "name": "python",
   "nbconvert_exporter": "python",
   "pygments_lexer": "ipython3",
   "version": "3.7.0"
  }
 },
 "nbformat": 4,
 "nbformat_minor": 2
}
