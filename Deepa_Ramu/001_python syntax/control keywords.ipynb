{
 "cells": [
  {
   "cell_type": "code",
   "execution_count": null,
   "metadata": {},
   "outputs": [],
   "source": [
    "#pass \n",
    "'''\n",
    "pass is a control keyword , we can pass the block \n",
    "'''\n",
    "if(True):\n",
    "    pass\n",
    "else:\n",
    "    pass\n",
    "\n",
    "for i in range(10):\n",
    "    pass\n",
    "while(False):\n",
    "    pass"
   ]
  },
  {
   "cell_type": "code",
   "execution_count": null,
   "metadata": {},
   "outputs": [],
   "source": [
    "'''\n",
    "Break keyword is used for to terminate the loop even the \n",
    "codition is true\n",
    "'''\n",
    "while(True):\n",
    "    print(\"hello\")\n",
    "    break"
   ]
  },
  {
   "cell_type": "code",
   "execution_count": null,
   "metadata": {},
   "outputs": [],
   "source": [
    "'''\n",
    "\n",
    "'''\n",
    "while(True):\n",
    "    print(\"hai\")\n",
    "    continue\n",
    "    print(\"hello\")\n",
    "\n"
   ]
  },
  {
   "cell_type": "code",
   "execution_count": null,
   "metadata": {},
   "outputs": [],
   "source": [
    "# wap genarate the below  after print hello\n",
    "for i in range(100000000):\n",
    "    pass\n",
    "print(\"hello\")"
   ]
  },
  {
   "cell_type": "code",
   "execution_count": null,
   "metadata": {},
   "outputs": [],
   "source": [
    "# print 1 to 100 but stop at 55\n",
    "i =1\n",
    "while(i <=100):\n",
    "    if(i == 55):\n",
    "        break\n",
    "    print(\"i = \",i)\n",
    "    i = i+1"
   ]
  },
  {
   "cell_type": "code",
   "execution_count": 3,
   "metadata": {},
   "outputs": [
    {
     "name": "stdout",
     "output_type": "stream",
     "text": [
      "enter int : 4\n",
      "its not prime number\n"
     ]
    }
   ],
   "source": [
    "# wap find given number is prime or not \n",
    "i =2\n",
    "n = input(\"enter int : \")\n",
    "n =int(n)\n",
    "while(i < n):\n",
    "    if(n % i == 0):\n",
    "        print(\"its not prime number\")\n",
    "        break\n",
    "    i = i+1\n",
    "else:\n",
    "    print(\"given number is prime number\")"
   ]
  },
  {
   "cell_type": "code",
   "execution_count": 5,
   "metadata": {},
   "outputs": [
    {
     "name": "stdout",
     "output_type": "stream",
     "text": [
      "enter maximum element : 10\n",
      "ele =  2\n",
      "ele =  4\n",
      "ele =  6\n",
      "ele =  8\n",
      "ele =  10\n"
     ]
    }
   ],
   "source": [
    "# wap print print even number from 1 to 100\n",
    "\n",
    "n =input(\"enter maximum element : \")\n",
    "n = int(n)\n",
    "for ele in range(1, n+1):\n",
    "    if(ele %2 != 0):\n",
    "        continue\n",
    "    print(\"ele = \",ele)"
   ]
  },
  {
   "cell_type": "code",
   "execution_count": null,
   "metadata": {},
   "outputs": [],
   "source": [
    "# print prime numbers in between 10 to 100"
   ]
  }
 ],
 "metadata": {
  "kernelspec": {
   "display_name": "Python 3",
   "language": "python",
   "name": "python3"
  },
  "language_info": {
   "codemirror_mode": {
    "name": "ipython",
    "version": 3
   },
   "file_extension": ".py",
   "mimetype": "text/x-python",
   "name": "python",
   "nbconvert_exporter": "python",
   "pygments_lexer": "ipython3",
   "version": "3.7.0"
  }
 },
 "nbformat": 4,
 "nbformat_minor": 2
}
