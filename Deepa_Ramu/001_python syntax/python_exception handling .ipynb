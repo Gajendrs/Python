{
 "cells": [
  {
   "cell_type": "code",
   "execution_count": 1,
   "metadata": {},
   "outputs": [
    {
     "name": "stdout",
     "output_type": "stream",
     "text": [
      "hello\n"
     ]
    }
   ],
   "source": [
    "print(\"hello\")"
   ]
  },
  {
   "cell_type": "code",
   "execution_count": 3,
   "metadata": {},
   "outputs": [
    {
     "ename": "SyntaxError",
     "evalue": "EOL while scanning string literal (<ipython-input-3-7bbc1c3d3037>, line 1)",
     "output_type": "error",
     "traceback": [
      "\u001b[1;36m  File \u001b[1;32m\"<ipython-input-3-7bbc1c3d3037>\"\u001b[1;36m, line \u001b[1;32m1\u001b[0m\n\u001b[1;33m    print('hello\")\u001b[0m\n\u001b[1;37m                  ^\u001b[0m\n\u001b[1;31mSyntaxError\u001b[0m\u001b[1;31m:\u001b[0m EOL while scanning string literal\n"
     ]
    }
   ],
   "source": [
    "print('hello\")"
   ]
  },
  {
   "cell_type": "code",
   "execution_count": 4,
   "metadata": {},
   "outputs": [
    {
     "ename": "SyntaxError",
     "evalue": "unexpected EOF while parsing (<ipython-input-4-0b37b907169d>, line 1)",
     "output_type": "error",
     "traceback": [
      "\u001b[1;36m  File \u001b[1;32m\"<ipython-input-4-0b37b907169d>\"\u001b[1;36m, line \u001b[1;32m1\u001b[0m\n\u001b[1;33m    print('hello'\u001b[0m\n\u001b[1;37m                 ^\u001b[0m\n\u001b[1;31mSyntaxError\u001b[0m\u001b[1;31m:\u001b[0m unexpected EOF while parsing\n"
     ]
    }
   ],
   "source": [
    "print('hello'"
   ]
  },
  {
   "cell_type": "code",
   "execution_count": 6,
   "metadata": {},
   "outputs": [
    {
     "name": "stdout",
     "output_type": "stream",
     "text": [
      "hello\n",
      "hai\n"
     ]
    }
   ],
   "source": [
    "if(True):\n",
    "    print(\"hello\")\n",
    "    print(\"hai\")"
   ]
  },
  {
   "cell_type": "code",
   "execution_count": 7,
   "metadata": {},
   "outputs": [
    {
     "name": "stdout",
     "output_type": "stream",
     "text": [
      "hello\n"
     ]
    },
    {
     "ename": "ZeroDivisionError",
     "evalue": "division by zero",
     "output_type": "error",
     "traceback": [
      "\u001b[1;31m---------------------------------------------------------------------------\u001b[0m",
      "\u001b[1;31mZeroDivisionError\u001b[0m                         Traceback (most recent call last)",
      "\u001b[1;32m<ipython-input-7-33521ca74fc3>\u001b[0m in \u001b[0;36m<module>\u001b[1;34m()\u001b[0m\n\u001b[0;32m      1\u001b[0m \u001b[0mprint\u001b[0m\u001b[1;33m(\u001b[0m\u001b[1;34m\"hello\"\u001b[0m\u001b[1;33m)\u001b[0m\u001b[1;33m\u001b[0m\u001b[0m\n\u001b[1;32m----> 2\u001b[1;33m \u001b[0mprint\u001b[0m\u001b[1;33m(\u001b[0m\u001b[1;36m1\u001b[0m\u001b[1;33m/\u001b[0m\u001b[1;36m0\u001b[0m\u001b[1;33m)\u001b[0m\u001b[1;33m\u001b[0m\u001b[0m\n\u001b[0m\u001b[0;32m      3\u001b[0m \u001b[0mprint\u001b[0m\u001b[1;33m(\u001b[0m\u001b[1;34m\"hai\"\u001b[0m\u001b[1;33m)\u001b[0m\u001b[1;33m\u001b[0m\u001b[0m\n",
      "\u001b[1;31mZeroDivisionError\u001b[0m: division by zero"
     ]
    }
   ],
   "source": [
    "print(\"hello\")\n",
    "print(1/0)\n",
    "print(\"hai\")"
   ]
  },
  {
   "cell_type": "markdown",
   "metadata": {},
   "source": [
    "# exception handling \n",
    "\n",
    "---> we don't want to stop the execution of the program even we got \n",
    "exception\n",
    "\n",
    "---> we need two important keywords \n",
    "\n",
    "    1. try\n",
    "    2. except"
   ]
  },
  {
   "cell_type": "code",
   "execution_count": null,
   "metadata": {},
   "outputs": [],
   "source": [
    "# try \n",
    "'''\n",
    "---> try is a block , which having body of the program\n",
    "---> which always try to check the excetion \n",
    "---> whenever we got the exception, it can stop execution try \n",
    "block\n",
    "---> thrown the exception\n",
    "\n",
    "'''\n",
    "#except\n",
    "'''\n",
    "---> whenever we got exception ,except keyword can handling the \n",
    "exception\n",
    "'''"
   ]
  },
  {
   "cell_type": "code",
   "execution_count": 8,
   "metadata": {},
   "outputs": [
    {
     "name": "stdout",
     "output_type": "stream",
     "text": [
      "hello\n",
      "hai\n",
      "bye\n"
     ]
    }
   ],
   "source": [
    "try:\n",
    "    print(\"hello\")\n",
    "    print(\"hai\")\n",
    "    #print(1/0)\n",
    "    print(\"bye\")\n",
    "except:\n",
    "    print(\"i got exception\")\n",
    "    print(\"so that i can execute\")"
   ]
  },
  {
   "cell_type": "code",
   "execution_count": 9,
   "metadata": {},
   "outputs": [
    {
     "name": "stdout",
     "output_type": "stream",
     "text": [
      "hello\n",
      "hai\n",
      "i got exception\n",
      "so that i can execute\n"
     ]
    }
   ],
   "source": [
    "try:\n",
    "    print(\"hello\")\n",
    "    print(\"hai\")\n",
    "    print(1/0)\n",
    "    print(\"bye\")\n",
    "except:\n",
    "    print(\"i got exception\")\n",
    "    print(\"so that i can execute\")"
   ]
  },
  {
   "cell_type": "markdown",
   "metadata": {},
   "source": [
    "we have two more keywords (optional)\n",
    "1. else\n",
    "    ---> else block will execute when no more exception\n",
    "\n",
    "2. finally\n",
    "    ---> finally is a block it can execute in any situation "
   ]
  },
  {
   "cell_type": "code",
   "execution_count": 10,
   "metadata": {},
   "outputs": [
    {
     "name": "stdout",
     "output_type": "stream",
     "text": [
      "hello\n",
      "hai\n",
      "i got exception\n",
      "so that i can execute\n",
      "finally can execute in any situation\n"
     ]
    }
   ],
   "source": [
    "try:\n",
    "    print(\"hello\")\n",
    "    print(\"hai\")\n",
    "    print(1/0)\n",
    "    print(\"bye\")\n",
    "except:\n",
    "    print(\"i got exception\")\n",
    "    print(\"so that i can execute\")\n",
    "else:\n",
    "    print(\" i can execute when no more exception\")\n",
    "finally:\n",
    "    print(\"finally can execute in any situation\")"
   ]
  },
  {
   "cell_type": "code",
   "execution_count": 11,
   "metadata": {},
   "outputs": [
    {
     "name": "stdout",
     "output_type": "stream",
     "text": [
      "hello\n",
      "hai\n",
      "bye\n",
      " i can execute when no more exception\n",
      "finally can execute in any situation\n"
     ]
    }
   ],
   "source": [
    "try:\n",
    "    print(\"hello\")\n",
    "    print(\"hai\")\n",
    "    #print(1/0)\n",
    "    print(\"bye\")\n",
    "except:\n",
    "    print(\"i got exception\")\n",
    "    print(\"so that i can execute\")\n",
    "else:\n",
    "    print(\" i can execute when no more exception\")\n",
    "finally:\n",
    "    print(\"finally can execute in any situation\")"
   ]
  },
  {
   "cell_type": "code",
   "execution_count": 12,
   "metadata": {},
   "outputs": [
    {
     "name": "stdout",
     "output_type": "stream",
     "text": [
      "hello\n",
      "hai\n",
      "i got exception\n",
      "so that i can execute\n",
      "finally can execute in any situation\n"
     ]
    }
   ],
   "source": [
    "try:\n",
    "    print(\"hello\")\n",
    "    print(\"hai\")\n",
    "    raise\n",
    "    print(\"bye\")\n",
    "except:\n",
    "    print(\"i got exception\")\n",
    "    print(\"so that i can execute\")\n",
    "else:\n",
    "    print(\" i can execute when no more exception\")\n",
    "finally:\n",
    "    print(\"finally can execute in any situation\")"
   ]
  },
  {
   "cell_type": "code",
   "execution_count": 13,
   "metadata": {},
   "outputs": [
    {
     "name": "stdout",
     "output_type": "stream",
     "text": [
      "hello\n",
      "hai\n",
      "i got exception\n",
      "so that i can execute\n",
      "finally can execute in any situation\n"
     ]
    }
   ],
   "source": [
    "try:\n",
    "    print(\"hello\")\n",
    "    print(\"hai\")\n",
    "    import dfnndfjkbdfkjkbbdfjdbnjgbngj\n",
    "    print(\"bye\")\n",
    "except:\n",
    "    print(\"i got exception\")\n",
    "    print(\"so that i can execute\")\n",
    "else:\n",
    "    print(\" i can execute when no more exception\")\n",
    "finally:\n",
    "    print(\"finally can execute in any situation\")"
   ]
  },
  {
   "cell_type": "code",
   "execution_count": 14,
   "metadata": {},
   "outputs": [
    {
     "name": "stdout",
     "output_type": "stream",
     "text": [
      "hello\n",
      "hai\n",
      "i got exception\n",
      "so that i can execute\n",
      "finally can execute in any situation\n"
     ]
    }
   ],
   "source": [
    "try:\n",
    "    print(\"hello\")\n",
    "    print(\"hai\")\n",
    "    open(\"dkjkjbfjvfdjvfv\",'r')\n",
    "    print(\"bye\")\n",
    "except:\n",
    "    print(\"i got exception\")\n",
    "    print(\"so that i can execute\")\n",
    "else:\n",
    "    print(\" i can execute when no more exception\")\n",
    "finally:\n",
    "    print(\"finally can execute in any situation\")"
   ]
  },
  {
   "cell_type": "code",
   "execution_count": 15,
   "metadata": {},
   "outputs": [
    {
     "name": "stdout",
     "output_type": "stream",
     "text": [
      "hello\n",
      "hai\n",
      "i got exception\n",
      "so that i can execute\n",
      "finally can execute in any situation\n"
     ]
    }
   ],
   "source": [
    "try:\n",
    "    print(\"hello\")\n",
    "    print(\"hai\")\n",
    "    int(5+6j)\n",
    "    print(\"bye\")\n",
    "except:\n",
    "    print(\"i got exception\")\n",
    "    print(\"so that i can execute\")\n",
    "else:\n",
    "    print(\" i can execute when no more exception\")\n",
    "finally:\n",
    "    print(\"finally can execute in any situation\")"
   ]
  },
  {
   "cell_type": "code",
   "execution_count": 16,
   "metadata": {},
   "outputs": [
    {
     "name": "stdout",
     "output_type": "stream",
     "text": [
      "hello\n",
      "hai\n",
      "i got exception\n",
      "so that i can execute\n",
      "finally can execute in any situation\n"
     ]
    }
   ],
   "source": [
    "try:\n",
    "    print(\"hello\")\n",
    "    print(\"hai\")\n",
    "    int('djskjdjf')\n",
    "    print(\"bye\")\n",
    "except:\n",
    "    print(\"i got exception\")\n",
    "    print(\"so that i can execute\")\n",
    "else:\n",
    "    print(\" i can execute when no more exception\")\n",
    "finally:\n",
    "    print(\"finally can execute in any situation\")"
   ]
  },
  {
   "cell_type": "code",
   "execution_count": 17,
   "metadata": {},
   "outputs": [
    {
     "ename": "ValueError",
     "evalue": "invalid literal for int() with base 10: 'sfjfd'",
     "output_type": "error",
     "traceback": [
      "\u001b[1;31m---------------------------------------------------------------------------\u001b[0m",
      "\u001b[1;31mValueError\u001b[0m                                Traceback (most recent call last)",
      "\u001b[1;32m<ipython-input-17-d274f04fc3a7>\u001b[0m in \u001b[0;36m<module>\u001b[1;34m()\u001b[0m\n\u001b[1;32m----> 1\u001b[1;33m \u001b[0mint\u001b[0m\u001b[1;33m(\u001b[0m\u001b[1;34m'sfjfd'\u001b[0m\u001b[1;33m)\u001b[0m\u001b[1;33m\u001b[0m\u001b[0m\n\u001b[0m",
      "\u001b[1;31mValueError\u001b[0m: invalid literal for int() with base 10: 'sfjfd'"
     ]
    }
   ],
   "source": [
    "int('sfjfd')"
   ]
  },
  {
   "cell_type": "code",
   "execution_count": 18,
   "metadata": {},
   "outputs": [
    {
     "ename": "TypeError",
     "evalue": "can't convert complex to int",
     "output_type": "error",
     "traceback": [
      "\u001b[1;31m---------------------------------------------------------------------------\u001b[0m",
      "\u001b[1;31mTypeError\u001b[0m                                 Traceback (most recent call last)",
      "\u001b[1;32m<ipython-input-18-b33c6f23b5c1>\u001b[0m in \u001b[0;36m<module>\u001b[1;34m()\u001b[0m\n\u001b[1;32m----> 1\u001b[1;33m \u001b[0mint\u001b[0m\u001b[1;33m(\u001b[0m\u001b[1;36m6\u001b[0m\u001b[1;33m+\u001b[0m\u001b[1;36m5j\u001b[0m\u001b[1;33m)\u001b[0m\u001b[1;33m\u001b[0m\u001b[0m\n\u001b[0m",
      "\u001b[1;31mTypeError\u001b[0m: can't convert complex to int"
     ]
    }
   ],
   "source": [
    "int(6+5j)"
   ]
  },
  {
   "cell_type": "code",
   "execution_count": 19,
   "metadata": {},
   "outputs": [
    {
     "ename": "FileNotFoundError",
     "evalue": "[Errno 2] No such file or directory: 'kjfkfjkdgnfkg'",
     "output_type": "error",
     "traceback": [
      "\u001b[1;31m---------------------------------------------------------------------------\u001b[0m",
      "\u001b[1;31mFileNotFoundError\u001b[0m                         Traceback (most recent call last)",
      "\u001b[1;32m<ipython-input-19-96d7a5418c5a>\u001b[0m in \u001b[0;36m<module>\u001b[1;34m()\u001b[0m\n\u001b[1;32m----> 1\u001b[1;33m \u001b[0mopen\u001b[0m\u001b[1;33m(\u001b[0m\u001b[1;34m\"kjfkfjkdgnfkg\"\u001b[0m\u001b[1;33m,\u001b[0m\u001b[1;34m'r'\u001b[0m\u001b[1;33m)\u001b[0m\u001b[1;33m\u001b[0m\u001b[0m\n\u001b[0m",
      "\u001b[1;31mFileNotFoundError\u001b[0m: [Errno 2] No such file or directory: 'kjfkfjkdgnfkg'"
     ]
    }
   ],
   "source": [
    "open(\"kjfkfjkdgnfkg\",'r')"
   ]
  },
  {
   "cell_type": "code",
   "execution_count": 20,
   "metadata": {},
   "outputs": [
    {
     "ename": "ModuleNotFoundError",
     "evalue": "No module named 'fdjgndjgnkgjdnjkgd'",
     "output_type": "error",
     "traceback": [
      "\u001b[1;31m---------------------------------------------------------------------------\u001b[0m",
      "\u001b[1;31mModuleNotFoundError\u001b[0m                       Traceback (most recent call last)",
      "\u001b[1;32m<ipython-input-20-1c8e6c76f6f6>\u001b[0m in \u001b[0;36m<module>\u001b[1;34m()\u001b[0m\n\u001b[1;32m----> 1\u001b[1;33m \u001b[1;32mimport\u001b[0m \u001b[0mfdjgndjgnkgjdnjkgd\u001b[0m\u001b[1;33m\u001b[0m\u001b[0m\n\u001b[0m",
      "\u001b[1;31mModuleNotFoundError\u001b[0m: No module named 'fdjgndjgnkgjdnjkgd'"
     ]
    }
   ],
   "source": [
    "import fdjgndjgnkgjdnjkgd"
   ]
  },
  {
   "cell_type": "code",
   "execution_count": 21,
   "metadata": {},
   "outputs": [
    {
     "name": "stdout",
     "output_type": "stream",
     "text": [
      "hello\n",
      "hai\n",
      "i got Zero Devision\n",
      "finally can execute in any situation\n"
     ]
    }
   ],
   "source": [
    "try:\n",
    "    print(\"hello\")\n",
    "    print(\"hai\")\n",
    "    print(1/0)\n",
    "    print(\"bye\")\n",
    "except ZeroDivisionError:\n",
    "    print(\"i got Zero Devision\")\n",
    "except:\n",
    "    print(\"i got exception\")\n",
    "    print(\"so that i can execute\")\n",
    "else:\n",
    "    print(\" i can execute when no more exception\")\n",
    "finally:\n",
    "    print(\"finally can execute in any situation\")"
   ]
  },
  {
   "cell_type": "code",
   "execution_count": 28,
   "metadata": {},
   "outputs": [
    {
     "name": "stdout",
     "output_type": "stream",
     "text": [
      "hello\n",
      "hai\n",
      "Name Error\n",
      "finally can execute in any situation\n"
     ]
    }
   ],
   "source": [
    "try:\n",
    "    print(\"hello\")\n",
    "    print(\"hai\")\n",
    "    print(a)\n",
    "    print(\"bye\")\n",
    "except ZeroDivisionError:\n",
    "    print(\"i got Zero Devision\")\n",
    "except ValueError:\n",
    "    print(\"i got value Error\")\n",
    "except FileNotFoundError:\n",
    "    print(\"File Error\")\n",
    "except ModuleNotFoundError:\n",
    "    print('ModuleNotFoundError')\n",
    "except NameError:\n",
    "    print('Name Error')\n",
    "except:\n",
    "    print(\"i got exception\")\n",
    "    print(\"so that i can execute\")\n",
    "else:\n",
    "    print(\" i can execute when no more exception\")\n",
    "finally:\n",
    "    print(\"finally can execute in any situation\")"
   ]
  }
 ],
 "metadata": {
  "kernelspec": {
   "display_name": "Python 3",
   "language": "python",
   "name": "python3"
  },
  "language_info": {
   "codemirror_mode": {
    "name": "ipython",
    "version": 3
   },
   "file_extension": ".py",
   "mimetype": "text/x-python",
   "name": "python",
   "nbconvert_exporter": "python",
   "pygments_lexer": "ipython3",
   "version": "3.7.0"
  }
 },
 "nbformat": 4,
 "nbformat_minor": 2
}
