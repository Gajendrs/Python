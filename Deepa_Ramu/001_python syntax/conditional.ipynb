{
 "cells": [
  {
   "cell_type": "code",
   "execution_count": 6,
   "metadata": {},
   "outputs": [
    {
     "name": "stdout",
     "output_type": "stream",
     "text": [
      "enter your name Anjan Kumar\n",
      "enter your age 25\n",
      "enter your ph num9640 987 960\n",
      "enter your emailsocsoftech@gmail.com\n",
      "Name =  Anjan Kumar\n",
      "age  =  25\n",
      "phon =  9640 987 960\n",
      "email=  socsoftech@gmail.com\n"
     ]
    }
   ],
   "source": [
    "# print your details whenever you have more than 18 year\n",
    "Name = input(\"enter your name \")\n",
    "age  = input(\"enter your age \")\n",
    "age  = int(age)\n",
    "ph   = input(\"enter your ph num\")\n",
    "email= input(\"enter your email\")\n",
    "if(age > 18):\n",
    "    print(\"Name = \",Name)\n",
    "    print(\"age  = \",age)\n",
    "    print(\"phon = \",ph)\n",
    "    print(\"email= \",email)"
   ]
  },
  {
   "cell_type": "code",
   "execution_count": 16,
   "metadata": {},
   "outputs": [
    {
     "name": "stdout",
     "output_type": "stream",
     "text": [
      "enter some int88\n",
      "Square of  88  is  7744\n"
     ]
    }
   ],
   "source": [
    "# wap find square of number when number is even\n",
    "num = input(\"enter some int\")\n",
    "num = int(num)\n",
    "\n",
    "if(num % 2 == 0):\n",
    "    sqr =num * num\n",
    "    print(\"Square of \",num,\" is \",sqr)"
   ]
  },
  {
   "cell_type": "markdown",
   "metadata": {},
   "source": [
    "1. WAP when given number is divisible of both 3 and 5 then multiple number with  3 and 5\n",
    "\n",
    "2. Wap print compare areas of two square   when sum of areas are more than 100 sq.m"
   ]
  },
  {
   "cell_type": "code",
   "execution_count": 1,
   "metadata": {},
   "outputs": [
    {
     "name": "stdout",
     "output_type": "stream",
     "text": [
      "enter a number15\n",
      "225\n",
      "if closed\n"
     ]
    }
   ],
   "source": [
    "# WAP when given number is divisible of both 3 and 5 \n",
    "#  then multiple number with 3 and 5\n",
    "num = input(\"enter a number\")\n",
    "num = int(num)\n",
    "if((num %3 ==0)and (num%5 == 0)):\n",
    "    print(num * 3*5)\n",
    "    print(\"if closed\")"
   ]
  },
  {
   "cell_type": "code",
   "execution_count": 3,
   "metadata": {},
   "outputs": [
    {
     "name": "stdout",
     "output_type": "stream",
     "text": [
      "enter side of square1 in meter5\n",
      "enter side of square2 in meter6\n"
     ]
    }
   ],
   "source": [
    "s1 =input(\"enter side of square1 in meter\")\n",
    "s2 =input(\"enter side of square2 in meter\")\n",
    "s1 =int(s1)\n",
    "s2 =int(s2)\n",
    "area1 = s1 * s1\n",
    "area2 = s2 * s2\n",
    "if((area1+area2 > 100)):\n",
    "    print(area1 ,\" > \",area2,\" is \",area1 > area2)\n",
    "    print(area1 ,\" < \",area2,\" is \",area1 < area2)\n",
    "    print(area1 ,\" >= \",area2,\" is \",area1 >= area2)\n",
    "    print(area1 ,\" <= \",area2,\" is \",area1 <= area2)\n",
    "    print(area1 ,\" == \",area2,\" is \",area1 == area2)\n",
    "    print(area1 ,\" != \",area2,\" is \",area1 != area2)"
   ]
  },
  {
   "cell_type": "code",
   "execution_count": 5,
   "metadata": {},
   "outputs": [
    {
     "name": "stdout",
     "output_type": "stream",
     "text": [
      " i am executing bcz condition is False \n"
     ]
    }
   ],
   "source": [
    "if(False):\n",
    "    print(\" i am executing bcz condition is true\")\n",
    "else:\n",
    "    print(\" i am executing bcz condition is False \")"
   ]
  },
  {
   "cell_type": "code",
   "execution_count": 8,
   "metadata": {},
   "outputs": [
    {
     "name": "stdout",
     "output_type": "stream",
     "text": [
      "enter a  factorial number -9\n",
      " factorial is not posible\n"
     ]
    }
   ],
   "source": [
    "# wrt given number is posible is factorial \n",
    "num =input(\"enter a  factorial number \")\n",
    "num =int(num)\n",
    "if(num <0):\n",
    "    print(\" factorial is not posible\")\n",
    "else:\n",
    "    print(\"factorial is posible\")\n",
    "\n",
    "\n"
   ]
  },
  {
   "cell_type": "code",
   "execution_count": 14,
   "metadata": {},
   "outputs": [],
   "source": [
    "# nested if \n",
    "if(False):\n",
    "    print(\"This is outer if statement\")\n",
    "    if(False):\n",
    "        print(\"This is inner if statement\")"
   ]
  },
  {
   "cell_type": "code",
   "execution_count": 2,
   "metadata": {},
   "outputs": [
    {
     "name": "stdout",
     "output_type": "stream",
     "text": [
      "enter a50\n",
      "enter b20\n",
      "enter c30\n",
      "a is big =  50\n"
     ]
    }
   ],
   "source": [
    "# print biggest number from 3 numbers \n",
    "a = int(input(\"enter a\"))\n",
    "b = int(input(\"enter b\"))\n",
    "c = int(input(\"enter c\"))\n",
    "if(a > b):\n",
    "    if(a > c):\n",
    "        print(\"a is big = \",a)\n",
    "    else:\n",
    "        print(\"c is big =\".c)\n",
    "else:\n",
    "    if(b > c):\n",
    "        print(\"b is big = \",b)\n",
    "    else:\n",
    "        print(\"c is big =\",c)\n",
    "    \n"
   ]
  },
  {
   "cell_type": "code",
   "execution_count": 13,
   "metadata": {},
   "outputs": [
    {
     "name": "stdout",
     "output_type": "stream",
     "text": [
      "enter a charactera\n",
      "its vowel\n"
     ]
    }
   ],
   "source": [
    "#given character is vowel or not\n",
    "\n",
    "ch =input(\"enter a character\")\n",
    "l =len(ch)\n",
    "if(l ==1):\n",
    "    if(ch.isalpha()):\n",
    "        if(ch in \"aeiouAEIOU\"):\n",
    "            print(\"its vowel\")\n",
    "        else:\n",
    "            print(\"its consonant\")\n",
    "    else:\n",
    "        print(\"please enter single alphabet\")\n",
    "else:\n",
    "    print(\" please enter single character\")"
   ]
  },
  {
   "cell_type": "code",
   "execution_count": 21,
   "metadata": {},
   "outputs": [
    {
     "name": "stdout",
     "output_type": "stream",
     "text": [
      "enter how many tickets need : 3\n",
      " mv1 is having tickets\n",
      "i am exiting\n"
     ]
    }
   ],
   "source": [
    "mv1 = 4;mv2 = 3;mv3 = 100;mv4 = 0;mv5 = 1\n",
    "tick =input(\"enter how many tickets need : \")\n",
    "tick = int(tick)\n",
    "if(tick<=mv1):\n",
    "    print(\" mv1 is having tickets\")\n",
    "elif(tick <= mv2):\n",
    "    print(\"mv2 is having tickets\")\n",
    "elif(tick <= mv3):\n",
    "    print(\"mv3 is havinf tickets\")\n",
    "elif(tick <= mv4):\n",
    "    print(\"mv4 is having tickets\")\n",
    "elif(tick <= mv5):\n",
    "    print(\"mv5 is havinh tickets\")\n",
    "else:\n",
    "    print(\"Knon movie is not having tickets\")\n",
    "\n",
    "print(\"i am exiting\")"
   ]
  },
  {
   "cell_type": "code",
   "execution_count": 23,
   "metadata": {},
   "outputs": [
    {
     "name": "stdout",
     "output_type": "stream",
     "text": [
      "range(0, 10)\n"
     ]
    }
   ],
   "source": [
    "print(range(10))"
   ]
  }
 ],
 "metadata": {
  "kernelspec": {
   "display_name": "Python 3",
   "language": "python",
   "name": "python3"
  },
  "language_info": {
   "codemirror_mode": {
    "name": "ipython",
    "version": 3
   },
   "file_extension": ".py",
   "mimetype": "text/x-python",
   "name": "python",
   "nbconvert_exporter": "python",
   "pygments_lexer": "ipython3",
   "version": "3.7.0"
  }
 },
 "nbformat": 4,
 "nbformat_minor": 2
}
