{
 "cells": [
  {
   "cell_type": "code",
   "execution_count": 1,
   "metadata": {},
   "outputs": [
    {
     "name": "stdout",
     "output_type": "stream",
     "text": [
      "enter n 5\n",
      "1\n",
      "2\n",
      "3\n",
      "4\n",
      "5\n",
      " i am else block\n",
      "i  can execute when condition is false\n"
     ]
    }
   ],
   "source": [
    "# while \n",
    "'''\n",
    "while(condition):\n",
    "    statememnt\n",
    "    ---------\n",
    "    ---------\n",
    "else:\n",
    "    st1\n",
    "    ---\n",
    "    ---\n",
    "'''\n",
    "# wap print 1 to n(user entered number)\n",
    "n = input(\"enter n \")\n",
    "n = int(n)\n",
    "i =1 \n",
    "while(i <= n):\n",
    "    print(i)\n",
    "    i =i +1\n",
    "else:\n",
    "    print(\" i am else block\")\n",
    "    print(\"i  can execute when condition is false\")"
   ]
  },
  {
   "cell_type": "code",
   "execution_count": 2,
   "metadata": {},
   "outputs": [
    {
     "name": "stdout",
     "output_type": "stream",
     "text": [
      "enter n 5\n",
      "1\n",
      "2\n",
      "3\n",
      "4\n",
      "5\n"
     ]
    }
   ],
   "source": [
    "# while \n",
    "'''\n",
    "while(condition):\n",
    "    statememnt\n",
    "    ---------\n",
    "    ---------\n",
    "else:\n",
    "    st1\n",
    "    ---\n",
    "    ---\n",
    "'''\n",
    "# wap print 1 to n(user entered number)\n",
    "n = input(\"enter n \")\n",
    "n = int(n)\n",
    "i =1 \n",
    "while(i <= n):\n",
    "    print(i)\n",
    "    i =i +1\n"
   ]
  },
  {
   "cell_type": "code",
   "execution_count": 3,
   "metadata": {},
   "outputs": [
    {
     "name": "stdout",
     "output_type": "stream",
     "text": [
      "enter a number5\n",
      "5  *  1  =  5\n",
      "5  *  2  =  10\n",
      "5  *  3  =  15\n",
      "5  *  4  =  20\n",
      "5  *  5  =  25\n",
      "5  *  6  =  30\n",
      "5  *  7  =  35\n",
      "5  *  8  =  40\n",
      "5  *  9  =  45\n",
      "5  *  10  =  50\n"
     ]
    }
   ],
   "source": [
    "# wap print multiplication table for any number \n",
    "'''\n",
    "5 \n",
    "5 * 1 = 5\n",
    "5 * 2 = 10\n",
    "\n",
    "5 *10 =50\n",
    "'''\n",
    "n = input(\"enter a number\")\n",
    "n = int(n)\n",
    "i = 1\n",
    "while(i <= 10):\n",
    "    print(n,\" * \",i,\" = \",n*i)\n",
    "    i = i+1\n"
   ]
  },
  {
   "cell_type": "code",
   "execution_count": 4,
   "metadata": {},
   "outputs": [
    {
     "name": "stdout",
     "output_type": "stream",
     "text": [
      "enter your name : anjan\n",
      "enter how many times 6\n",
      "name =  anjan\n",
      "name =  anjan\n",
      "name =  anjan\n",
      "name =  anjan\n",
      "name =  anjan\n",
      "name =  anjan\n"
     ]
    }
   ],
   "source": [
    "# wap print your name 10 time \n",
    "name =input(\"enter your name : \")\n",
    "n = input(\"enter how many times \")\n",
    "n =int(n)\n",
    "i =1\n",
    "while(i <= n):\n",
    "    print(\"name = \",name)\n",
    "    i =i+1\n"
   ]
  },
  {
   "cell_type": "code",
   "execution_count": 5,
   "metadata": {},
   "outputs": [
    {
     "name": "stdout",
     "output_type": "stream",
     "text": [
      "enter a number 100\n",
      "1  is factor for  100\n",
      "2  is factor for  100\n",
      "4  is factor for  100\n",
      "5  is factor for  100\n",
      "10  is factor for  100\n",
      "20  is factor for  100\n",
      "25  is factor for  100\n",
      "50  is factor for  100\n",
      "100  is factor for  100\n",
      "no of factors for  100  is  9\n"
     ]
    }
   ],
   "source": [
    "# wap find the no of factor of a number \n",
    "n = input(\"enter a number \")\n",
    "n =int(n)\n",
    "i =1\n",
    "f_c =0\n",
    "while(i <= n):\n",
    "    if( n % i == 0):\n",
    "        print(i,\" is factor for \",n)\n",
    "        f_c = f_c +1\n",
    "    i =i+1\n",
    "print(\"no of factors for \",n,\" is \",f_c)"
   ]
  },
  {
   "cell_type": "code",
   "execution_count": 7,
   "metadata": {},
   "outputs": [
    {
     "name": "stdout",
     "output_type": "stream",
     "text": [
      "enter a number 9\n",
      "its not prime\n"
     ]
    }
   ],
   "source": [
    "# wap given number is prime number or not \n",
    "'''\n",
    "total  no of factor are 2 \n",
    "'''\n",
    "n = input(\"enter a number \")\n",
    "n =int(n)\n",
    "i =1\n",
    "f_c =0\n",
    "while(i <= n):\n",
    "    if( n % i == 0):\n",
    "        f_c = f_c +1\n",
    "    i =i+1\n",
    "if(f_c == 2):\n",
    "    print(\"its prime number\")\n",
    "else:\n",
    "    print(\"its not prime\")"
   ]
  },
  {
   "cell_type": "code",
   "execution_count": null,
   "metadata": {},
   "outputs": [],
   "source": [
    "# wap print sum of the digits in a number \n",
    "# 123 ---> 6\n",
    "# wap reverse of a number \n",
    "# 123 ---> 321\n",
    "# wap given number is palidrom or not\n",
    "# 121 --> 121\n",
    "# wap sum of cubes of a digits of number\n",
    "# 123 --> 1^3 + 2^3 +3^3\n",
    "# wap given number is armstrong or not\n",
    "# 123 --> 1^3 + 2^3 +3^3--> 123\n",
    "\n"
   ]
  },
  {
   "cell_type": "code",
   "execution_count": 10,
   "metadata": {},
   "outputs": [
    {
     "name": "stdout",
     "output_type": "stream",
     "text": [
      "enter a number159\n",
      "159  is reversed  951\n"
     ]
    }
   ],
   "source": [
    "# reverse of a number\n",
    "n = input(\"enter a number\")\n",
    "n = int(n)\n",
    "t =n\n",
    "num=0\n",
    "while(t != 0):\n",
    "    rem = t % 10\n",
    "    num = num *10  +rem\n",
    "    t = t // 10\n",
    "print(n,\" is reversed \",num)\n",
    "\n"
   ]
  },
  {
   "cell_type": "markdown",
   "metadata": {},
   "source": [
    "For loop"
   ]
  },
  {
   "cell_type": "code",
   "execution_count": 1,
   "metadata": {},
   "outputs": [
    {
     "name": "stdout",
     "output_type": "stream",
     "text": [
      "h\n",
      "e\n",
      "l\n",
      "l\n",
      "o\n",
      "when no more updatation\n"
     ]
    }
   ],
   "source": [
    "# wap print data elements in any seq data type variable\n",
    "seq =\"hello\"\n",
    "for v in seq:\n",
    "    print(v)\n",
    "else:\n",
    "    print(\"when no more updatation\")"
   ]
  },
  {
   "cell_type": "code",
   "execution_count": 2,
   "metadata": {},
   "outputs": [
    {
     "name": "stdout",
     "output_type": "stream",
     "text": [
      "1\n",
      "2\n",
      "4\n",
      "6\n",
      "7\n",
      "when no more updatation\n"
     ]
    }
   ],
   "source": [
    "# wap print data elements in any seq data type variable\n",
    "seq =[1,2,4,6,7]\n",
    "for v in seq:\n",
    "    print(v)\n",
    "else:\n",
    "    print(\"when no more updatation\")"
   ]
  },
  {
   "cell_type": "code",
   "execution_count": 5,
   "metadata": {},
   "outputs": [
    {
     "name": "stdout",
     "output_type": "stream",
     "text": [
      "22\n",
      "len of the seq is  22\n"
     ]
    }
   ],
   "source": [
    "# wap  find len of the seq  data variable with out using lenth fun\n",
    "\n",
    "s = \"hello i am anjan kumar\"\n",
    "#print(len(s))\n",
    "l =0\n",
    "for i in s:\n",
    "    l = l+1\n",
    "else:\n",
    "    print(\"len of the seq is \",l)\n"
   ]
  },
  {
   "cell_type": "code",
   "execution_count": 7,
   "metadata": {},
   "outputs": [
    {
     "name": "stdout",
     "output_type": "stream",
     "text": [
      "15\n",
      "sum of the seq :  15\n"
     ]
    }
   ],
   "source": [
    "# wap find sum  of the data elements in a sequential variaable\n",
    "a = [1,2,3,4,5]\n",
    "#print(sum(a))\n",
    "s = 0\n",
    "for i in a:\n",
    "    s = s+i\n",
    "else:\n",
    "    print(\"sum of the seq : \",s)"
   ]
  },
  {
   "cell_type": "code",
   "execution_count": 8,
   "metadata": {},
   "outputs": [
    {
     "name": "stdout",
     "output_type": "stream",
     "text": [
      "even list is :  [2, 0, 8, 4, 90]\n"
     ]
    }
   ],
   "source": [
    "# create a new list which having only even number \n",
    "l =[1,7,3,9,2,0,3,8,4,90,45]\n",
    "l_e =[]\n",
    "for i in l:\n",
    "    if(i % 2 == 0):\n",
    "        l_e.append(i)\n",
    "else:\n",
    "    print(\"even list is : \",l_e)"
   ]
  },
  {
   "cell_type": "code",
   "execution_count": 11,
   "metadata": {},
   "outputs": [
    {
     "name": "stdout",
     "output_type": "stream",
     "text": [
      "enter int 15\n",
      "sum of 1st  15  natural numbers  120\n"
     ]
    }
   ],
   "source": [
    "# wap find sum of n natural number \n",
    "n =input(\"enter int \")\n",
    "n =int(n)\n",
    "s =0\n",
    "for e in range(1,n+1):\n",
    "    s =s+e\n",
    "else:\n",
    "    print(\"sum of 1st \",n,\" natural numbers \",s)\n",
    "    "
   ]
  },
  {
   "cell_type": "code",
   "execution_count": 14,
   "metadata": {},
   "outputs": [
    {
     "name": "stdout",
     "output_type": "stream",
     "text": [
      "enter an int10\n",
      "factor =  1\n",
      "factor =  2\n",
      "factor =  5\n",
      "factor =  10\n",
      "total factors =  4\n"
     ]
    }
   ],
   "source": [
    "# wap find the no of factor of a number \n",
    "# 5--->2\n",
    "# 6-->4\n",
    "#10-->4\n",
    "n = input(\"enter an int\")\n",
    "n =int(n)\n",
    "f_c =0\n",
    "for v in  range(1,n+1):\n",
    "    if(n % v == 0):\n",
    "        print(\"factor = \", v)\n",
    "        f_c += 1\n",
    "else:\n",
    "    print(\"total factors = \",f_c)\n",
    "    \n",
    "    \n",
    "    "
   ]
  },
  {
   "cell_type": "code",
   "execution_count": 16,
   "metadata": {},
   "outputs": [
    {
     "name": "stdout",
     "output_type": "stream",
     "text": [
      "enter an int5\n",
      "is prime\n"
     ]
    }
   ],
   "source": [
    "# wap given number is prime\n",
    "\n",
    "n = input(\"enter an int\")\n",
    "n =int(n)\n",
    "f_c =0\n",
    "for v in  range(1,n+1):\n",
    "    if(n % v == 0):\n",
    "        #print(\"factor = \", v)\n",
    "        f_c += 1\n",
    "if(f_c == 2):\n",
    "    print(\"is prime\")\n",
    "else:\n",
    "    print(\"its not a prime\")\n",
    "    \n",
    "    \n",
    "    "
   ]
  },
  {
   "cell_type": "code",
   "execution_count": 17,
   "metadata": {},
   "outputs": [
    {
     "data": {
      "text/plain": [
       "False"
      ]
     },
     "execution_count": 17,
     "metadata": {},
     "output_type": "execute_result"
    }
   ],
   "source": [
    "a =[1,2,3,4]\n",
    "b=[1,2,3,4]\n",
    "a is b"
   ]
  },
  {
   "cell_type": "code",
   "execution_count": 18,
   "metadata": {},
   "outputs": [
    {
     "data": {
      "text/plain": [
       "True"
      ]
     },
     "execution_count": 18,
     "metadata": {},
     "output_type": "execute_result"
    }
   ],
   "source": [
    "a == b"
   ]
  },
  {
   "cell_type": "code",
   "execution_count": 17,
   "metadata": {},
   "outputs": [
    {
     "name": "stdout",
     "output_type": "stream",
     "text": [
      "enter no of rows : 2\n",
      "enter no of col : 5\n",
      "*  *  *  *  *  \n",
      "*  *  *  *  *  \n"
     ]
    }
   ],
   "source": [
    "'''\n",
    "*  *  *  *  *\n",
    "*  *  *  *  * \n",
    "*  *  *  *  *\n",
    "*  *  *  *  *\n",
    "'''\n",
    "row = int(input(\"enter no of rows : \"))\n",
    "col = int(input(\"enter no of col : \"))\n",
    "for j in range(row):\n",
    "    for i in range(col):\n",
    "        print('* ',end =' ')\n",
    "    print('')"
   ]
  },
  {
   "cell_type": "code",
   "execution_count": 18,
   "metadata": {},
   "outputs": [
    {
     "name": "stdout",
     "output_type": "stream",
     "text": [
      "enter no of rows : 4\n",
      "enter no of col : 5\n",
      "1  1  1  1  1  \n",
      "1  1  1  1  1  \n",
      "1  1  1  1  1  \n",
      "1  1  1  1  1  \n"
     ]
    }
   ],
   "source": [
    "'''\n",
    "1  1  1  1  1\n",
    "1  1  1  1  1\n",
    "1  1  1  1  1\n",
    "1  1  1  1  1\n",
    "'''\n",
    "row = int(input(\"enter no of rows : \"))\n",
    "col = int(input(\"enter no of col : \"))\n",
    "for j in range(row):\n",
    "    for i in range(col):\n",
    "        print('1 ',end =' ')\n",
    "    print('')"
   ]
  },
  {
   "cell_type": "code",
   "execution_count": 19,
   "metadata": {},
   "outputs": [
    {
     "name": "stdout",
     "output_type": "stream",
     "text": [
      "enter no of rows : 5\n",
      "enter no of col : 4\n",
      "1    1    1    1    \n",
      "2    2    2    2    \n",
      "3    3    3    3    \n",
      "4    4    4    4    \n",
      "5    5    5    5    \n"
     ]
    }
   ],
   "source": [
    "'''\n",
    "1  1  1  1  1\n",
    "2  2  2  2  2\n",
    "3  3  3  3  3\n",
    "4  4  4  4  4\n",
    "5  5  5  5  5\n",
    "'''\n",
    "row = int(input(\"enter no of rows : \"))\n",
    "col = int(input(\"enter no of col : \"))\n",
    "for r in range(1,row+1):\n",
    "    for c in range(1,col+1):\n",
    "        print(r,\"  \",end =' ')\n",
    "    print('')"
   ]
  },
  {
   "cell_type": "code",
   "execution_count": 21,
   "metadata": {},
   "outputs": [
    {
     "name": "stdout",
     "output_type": "stream",
     "text": [
      "enter no of rows : 5\n",
      "enter no of col : 4\n",
      "1    2    3    4    \n",
      "1    2    3    4    \n",
      "1    2    3    4    \n",
      "1    2    3    4    \n",
      "1    2    3    4    \n"
     ]
    }
   ],
   "source": [
    "'''\n",
    "1  2  3  4  5\n",
    "1  2  3  4  5\n",
    "1  2  3  4  5\n",
    "1  2  3  4  5\n",
    "'''\n",
    "row = int(input(\"enter no of rows : \"))\n",
    "col = int(input(\"enter no of col : \"))\n",
    "for r in range(1,row+1):\n",
    "    for c in range(1,col+1):\n",
    "        print(c,\"  \",end =' ')\n",
    "    print('')"
   ]
  },
  {
   "cell_type": "code",
   "execution_count": null,
   "metadata": {},
   "outputs": [],
   "source": [
    "Task :\n",
    "----------\n",
    "2    3    4    5    6\n",
    "\n",
    "3    4    5    6    7\n",
    "\n",
    "4    5    6    7    8\n",
    "\n",
    "5    6    7    8    9\n",
    "\n",
    "6    7    8    9    10\n"
   ]
  },
  {
   "cell_type": "code",
   "execution_count": 24,
   "metadata": {},
   "outputs": [
    {
     "name": "stdout",
     "output_type": "stream",
     "text": [
      "enter no of rows : 5\n",
      "*   \n",
      "*   *   \n",
      "*   *   *   \n",
      "*   *   *   *   \n",
      "*   *   *   *   *   \n"
     ]
    }
   ],
   "source": [
    "'''\n",
    "*\n",
    "*  *\n",
    "*  *  *\n",
    "*  *  *  *\n",
    "*  *  *  *  *\n",
    "'''\n",
    "row = int(input(\"enter no of rows : \"))\n",
    "#col = int(input(\"enter no of col : \"))\n",
    "for r in range(1,row+1):\n",
    "    for c in range(1,r+1):\n",
    "        print('*  ',end =' ')\n",
    "    print('')"
   ]
  },
  {
   "cell_type": "code",
   "execution_count": null,
   "metadata": {},
   "outputs": [],
   "source": [
    "# task\n",
    "'''\n",
    "1 \n",
    "1  2\n",
    "1  2  3\n",
    "1  2  3  4\n",
    "1  2  3  4\n",
    "'''\n"
   ]
  },
  {
   "cell_type": "code",
   "execution_count": null,
   "metadata": {},
   "outputs": [],
   "source": [
    "#task3\n",
    "'''\n",
    "1\n",
    "2  2\n",
    "3  3  3\n",
    "4  4  4  4\n",
    "5  5  5  5  5\n",
    "\n",
    "\n",
    "'''"
   ]
  },
  {
   "cell_type": "code",
   "execution_count": null,
   "metadata": {},
   "outputs": [],
   "source": [
    "'''\n",
    "2 \n",
    "3  4\n",
    "4  5  6\n",
    "5  6  7  8\n",
    "\n",
    "'''"
   ]
  },
  {
   "cell_type": "code",
   "execution_count": null,
   "metadata": {},
   "outputs": [],
   "source": []
  }
 ],
 "metadata": {
  "kernelspec": {
   "display_name": "Python 3",
   "language": "python",
   "name": "python3"
  },
  "language_info": {
   "codemirror_mode": {
    "name": "ipython",
    "version": 3
   },
   "file_extension": ".py",
   "mimetype": "text/x-python",
   "name": "python",
   "nbconvert_exporter": "python",
   "pygments_lexer": "ipython3",
   "version": "3.7.0"
  }
 },
 "nbformat": 4,
 "nbformat_minor": 2
}
