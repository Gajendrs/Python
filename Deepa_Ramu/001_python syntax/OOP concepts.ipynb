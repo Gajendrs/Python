{
 "cells": [
  {
   "cell_type": "code",
   "execution_count": 7,
   "metadata": {},
   "outputs": [
    {
     "name": "stdout",
     "output_type": "stream",
     "text": [
      "123\n",
      "*****\n",
      "123\n",
      "*****\n",
      "340\n",
      "*****\n",
      "340\n",
      "*****\n"
     ]
    }
   ],
   "source": [
    "# class \n",
    "class Class_name():\n",
    "    a = 123\n",
    "    def fun(self):\n",
    "        print(\"*****\")\n",
    "        print(self.a)\n",
    "        print(\"*****\")\n",
    "obj =Class_name()\n",
    "print(obj.a)\n",
    "obj.fun()\n",
    "obj1 =Class_name()\n",
    "obj1.a= 340\n",
    "print(obj1.a)\n",
    "obj1.fun()"
   ]
  },
  {
   "cell_type": "code",
   "execution_count": 4,
   "metadata": {},
   "outputs": [
    {
     "name": "stdout",
     "output_type": "stream",
     "text": [
      "123\n",
      "*****\n",
      "123\n",
      "*****\n"
     ]
    }
   ],
   "source": [
    "# object\n",
    "obj =Class_name()\n",
    "print(obj.a)\n",
    "obj.fun()\n"
   ]
  },
  {
   "cell_type": "code",
   "execution_count": 1,
   "metadata": {},
   "outputs": [
    {
     "name": "stdout",
     "output_type": "stream",
     "text": [
      "name =  deepa\n",
      "roll =  420\n",
      "class=  B.Tech\n",
      "name =  Ramu\n",
      "roll =  458\n",
      "class=  B.Com\n"
     ]
    }
   ],
   "source": [
    "#create student class with name id  and details methode\n",
    "class Student():\n",
    "    name=''  # class variable \n",
    "    roll=''\n",
    "    clas=''\n",
    "    def details(self):\n",
    "        print('name = ',self.name)\n",
    "        print('roll = ',self.roll)\n",
    "        print('class= ',self.clas)\n",
    "    def set_det(self,name,roll,clas):\n",
    "        self.name=name\n",
    "        self.roll= roll\n",
    "        self.clas= clas\n",
    "std1=Student()\n",
    "std2=Student()\n",
    "std1.set_det('deepa',420,'B.Tech')\n",
    "std2.set_det('Ramu',458,'B.Com')\n",
    "std1.details()\n",
    "std2.details()"
   ]
  },
  {
   "cell_type": "code",
   "execution_count": null,
   "metadata": {},
   "outputs": [],
   "source": [
    "#create employee  class with name id  and details methode"
   ]
  },
  {
   "cell_type": "code",
   "execution_count": 4,
   "metadata": {
    "scrolled": true
   },
   "outputs": [
    {
     "name": "stdout",
     "output_type": "stream",
     "text": [
      "i am constructor\n",
      "i am constructor\n",
      "name =  deepa\n",
      "roll =  420\n",
      "class=  B.Tech\n",
      "name =  Ramu\n",
      "roll =  458\n",
      "class=  B.Com\n"
     ]
    }
   ],
   "source": [
    "#create student class with name id  and details methode\n",
    "class Student():\n",
    "    # constructor methode\n",
    "    '''\n",
    "    Constructor is a methode is automatically execute \n",
    "    while creating a object\n",
    "    '''\n",
    "    def __init__(self,name,roll,clas):# parametrized constructor\n",
    "        print(\"i am constructor\")\n",
    "        self.name=name # instance varIABLES\n",
    "        self.roll= roll\n",
    "        self.clas= clas\n",
    "    def details(self):\n",
    "        print('name = ',self.name)\n",
    "        print('roll = ',self.roll)\n",
    "        print('class= ',self.clas)\n",
    "\n",
    "std1=Student('deepa',420,'B.Tech')\n",
    "std2=Student('Ramu',458,'B.Com')\n",
    "\n",
    "std1.details()\n",
    "std2.details()"
   ]
  },
  {
   "cell_type": "code",
   "execution_count": 7,
   "metadata": {},
   "outputs": [
    {
     "name": "stdout",
     "output_type": "stream",
     "text": [
      " i am non parameterized constructor\n",
      " i am non parameterized constructor\n",
      " i am non parameterized constructor\n"
     ]
    }
   ],
   "source": [
    "class Std():\n",
    "    def __init__(self):\n",
    "        print(\" i am non parameterized constructor\")\n",
    "    def met(self):\n",
    "        print(\"i am normal method\")\n",
    "obj1 = Std()\n",
    "obj2 = Std()\n",
    "obj3 = Std()"
   ]
  },
  {
   "cell_type": "code",
   "execution_count": 8,
   "metadata": {
    "scrolled": true
   },
   "outputs": [
    {
     "name": "stdout",
     "output_type": "stream",
     "text": [
      " i am non parameterized constructor\n",
      " i am non parameterized constructor\n",
      " i am non parameterized constructor\n",
      "i am distructor\n",
      "i am distructor\n"
     ]
    }
   ],
   "source": [
    "class Std():\n",
    "    def __init__(self):\n",
    "        print(\" i am non parameterized constructor\")\n",
    "    def __del__(self):\n",
    "        print(\"i am distructor\")\n",
    "obj1 = Std()\n",
    "obj2 = Std()\n",
    "obj3 = Std()\n",
    "del obj1\n",
    "del obj3"
   ]
  },
  {
   "cell_type": "code",
   "execution_count": 10,
   "metadata": {},
   "outputs": [
    {
     "name": "stdout",
     "output_type": "stream",
     "text": [
      "123\n"
     ]
    },
    {
     "ename": "AttributeError",
     "evalue": "'Std' object has no attribute '__cl'",
     "output_type": "error",
     "traceback": [
      "\u001b[1;31m---------------------------------------------------------------------------\u001b[0m",
      "\u001b[1;31mAttributeError\u001b[0m                            Traceback (most recent call last)",
      "\u001b[1;32m<ipython-input-10-f07293367fda>\u001b[0m in \u001b[0;36m<module>\u001b[1;34m()\u001b[0m\n\u001b[0;32m      5\u001b[0m \u001b[0mobj\u001b[0m \u001b[1;33m=\u001b[0m \u001b[0mStd\u001b[0m\u001b[1;33m(\u001b[0m\u001b[1;33m)\u001b[0m\u001b[1;33m\u001b[0m\u001b[0m\n\u001b[0;32m      6\u001b[0m \u001b[0mprint\u001b[0m\u001b[1;33m(\u001b[0m\u001b[0mobj\u001b[0m\u001b[1;33m.\u001b[0m\u001b[0mcls\u001b[0m\u001b[1;33m)\u001b[0m\u001b[1;33m\u001b[0m\u001b[0m\n\u001b[1;32m----> 7\u001b[1;33m \u001b[0mprint\u001b[0m\u001b[1;33m(\u001b[0m\u001b[0mobj\u001b[0m\u001b[1;33m.\u001b[0m\u001b[0m__cl\u001b[0m\u001b[1;33m)\u001b[0m\u001b[1;33m\u001b[0m\u001b[0m\n\u001b[0m",
      "\u001b[1;31mAttributeError\u001b[0m: 'Std' object has no attribute '__cl'"
     ]
    }
   ],
   "source": [
    "# data hiding\n",
    "class Std():\n",
    "    cls = \"123\" # public class variable \n",
    "    __cl  ='222'# private class variable \n",
    "obj = Std()\n",
    "print(obj.cls)\n",
    "print(obj.__cl)"
   ]
  },
  {
   "cell_type": "code",
   "execution_count": 11,
   "metadata": {},
   "outputs": [
    {
     "name": "stdout",
     "output_type": "stream",
     "text": [
      "123\n",
      "222\n"
     ]
    }
   ],
   "source": [
    "# data encapulation\n",
    "class Std():\n",
    "    cls = \"123\" # public class variable \n",
    "    __cl  ='222'# private class variable \n",
    "obj = Std()\n",
    "print(obj.cls)\n",
    "print(obj._Std__cl)"
   ]
  },
  {
   "cell_type": "code",
   "execution_count": 12,
   "metadata": {},
   "outputs": [
    {
     "data": {
      "text/plain": [
       "30"
      ]
     },
     "execution_count": 12,
     "metadata": {},
     "output_type": "execute_result"
    }
   ],
   "source": [
    "# operator overloading \n",
    "10 +20"
   ]
  },
  {
   "cell_type": "code",
   "execution_count": 13,
   "metadata": {},
   "outputs": [
    {
     "data": {
      "text/plain": [
       "'1020'"
      ]
     },
     "execution_count": 13,
     "metadata": {},
     "output_type": "execute_result"
    }
   ],
   "source": [
    "'10'+'20'"
   ]
  },
  {
   "cell_type": "code",
   "execution_count": 14,
   "metadata": {},
   "outputs": [
    {
     "data": {
      "text/plain": [
       "-20"
      ]
     },
     "execution_count": 14,
     "metadata": {},
     "output_type": "execute_result"
    }
   ],
   "source": [
    "10+30\n",
    "10-30"
   ]
  },
  {
   "cell_type": "code",
   "execution_count": 15,
   "metadata": {},
   "outputs": [
    {
     "name": "stdout",
     "output_type": "stream",
     "text": [
      " i am fun with single arg\n",
      " i am fun with single arg\n"
     ]
    }
   ],
   "source": [
    "# methode overridding\n",
    "class Std():\n",
    "    def fun(self):\n",
    "        print(\" i am fun with no arg\")\n",
    "    def fun(self,a=2):\n",
    "        print(\" i am fun with single arg\")\n",
    "obj =Std()\n",
    "obj.fun()\n",
    "obj.fun(23)\n",
    "# method overloading is not supported by python "
   ]
  },
  {
   "cell_type": "code",
   "execution_count": 1,
   "metadata": {},
   "outputs": [
    {
     "name": "stdout",
     "output_type": "stream",
     "text": [
      " i am Class1  method\n",
      " i am Class2  method\n"
     ]
    }
   ],
   "source": [
    "# Polymorphis\n",
    "'''\n",
    "\n",
    "method overloading is not supported by python \n",
    "so that polymorphism\n",
    "\n",
    "---> A same function can do multiple tasks\n",
    "\n",
    "'''\n",
    "class Class1():\n",
    "    def fun(self):\n",
    "        print(\" i am Class1  method\")\n",
    "class Class2():\n",
    "    def fun(self):\n",
    "        print(\" i am Class2  method\")\n",
    "obj1 =Class1()\n",
    "obj2 = Class2()\n",
    "obj1.fun()\n",
    "obj2.fun()"
   ]
  },
  {
   "cell_type": "code",
   "execution_count": 4,
   "metadata": {},
   "outputs": [
    {
     "name": "stdout",
     "output_type": "stream",
     "text": [
      "I am Derived class Property\n",
      "I am Base class property\n"
     ]
    }
   ],
   "source": [
    "#inheritance \n",
    "'''\n",
    "one class properties  ---> another class\n",
    "1. simple inheritance\n",
    "2. multilevel inheritance\n",
    "3. Multiple Inheritance\n",
    "'''\n",
    "# simple inheritance\n",
    "'''\n",
    "single Base class(parant ) properties --> Derived / child class\n",
    "'''\n",
    "class Base(): #  parant \n",
    "    def base_met(self):\n",
    "        print(\"I am Base class property\")\n",
    "class Derived(Base): # child\n",
    "    def Deri_met(self):\n",
    "        print(\"I am Derived class Property\")\n",
    "obj = Derived()\n",
    "obj.Deri_met()\n",
    "obj.base_met()"
   ]
  },
  {
   "cell_type": "code",
   "execution_count": 7,
   "metadata": {},
   "outputs": [
    {
     "name": "stdout",
     "output_type": "stream",
     "text": [
      "I am Derived class Property\n",
      "I am Base1 class property\n",
      "I am Base2 class property\n"
     ]
    }
   ],
   "source": [
    "# multiple inheritance\n",
    "'''\n",
    "Single derived class with mutliple base classes \n",
    "'''\n",
    "class Base1(): #  parant \n",
    "    def base1_met(self):\n",
    "        print(\"I am Base1 class property\")\n",
    "class Base2(): #  parant \n",
    "    def base2_met(self):\n",
    "        print(\"I am Base2 class property\")\n",
    "class Derived(Base1,Base2): # child\n",
    "    def Deri_met(self):\n",
    "        print(\"I am Derived class Property\")\n",
    "obj = Derived()\n",
    "obj.Deri_met()\n",
    "obj.base1_met()\n",
    "obj.base2_met()"
   ]
  },
  {
   "cell_type": "code",
   "execution_count": 9,
   "metadata": {},
   "outputs": [
    {
     "name": "stdout",
     "output_type": "stream",
     "text": [
      "I am Derived class Property\n",
      "I am Base1 class property\n",
      "I am Base2 class property\n"
     ]
    }
   ],
   "source": [
    "# multilevel inheritance\n",
    "'''\n",
    "multiplle  derived class with mutliple base classes \n",
    "'''\n",
    "class Base1(): #  parant \n",
    "    def base1_met(self):\n",
    "        print(\"I am Base1 class property\")\n",
    "class Base2(Base1): # child for base1\n",
    "    def base2_met(self):\n",
    "        print(\"I am Base2 class property\")\n",
    "class Derived(Base2): # child\n",
    "    def Deri_met(self):\n",
    "        print(\"I am Derived class Property\")\n",
    "obj = Derived()\n",
    "obj.Deri_met()\n",
    "obj.base1_met()\n",
    "obj.base2_met()"
   ]
  },
  {
   "cell_type": "code",
   "execution_count": null,
   "metadata": {},
   "outputs": [],
   "source": []
  }
 ],
 "metadata": {
  "kernelspec": {
   "display_name": "Python 3",
   "language": "python",
   "name": "python3"
  },
  "language_info": {
   "codemirror_mode": {
    "name": "ipython",
    "version": 3
   },
   "file_extension": ".py",
   "mimetype": "text/x-python",
   "name": "python",
   "nbconvert_exporter": "python",
   "pygments_lexer": "ipython3",
   "version": "3.7.0"
  }
 },
 "nbformat": 4,
 "nbformat_minor": 2
}
