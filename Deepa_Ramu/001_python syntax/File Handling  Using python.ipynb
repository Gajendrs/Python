{
 "cells": [
  {
   "cell_type": "markdown",
   "metadata": {},
   "source": [
    "# File :-\n",
    "\n",
    "----> File is a part of the storage device \n",
    "\n",
    "----> File can store related information\n",
    "\n",
    "# Types of the files\n",
    "\n",
    "---> There are 2 types \n",
    "\n",
    "    1. Text Files\n",
    "    \n",
    "    2. Binary Files \n",
    "\n",
    "# Text File (t)\n",
    "\n",
    "---> The file can store alphanumaric Characters\n",
    "\n",
    "---> So that we can usaly write it and read it \n",
    "\n",
    "---> Examples \n",
    "\n",
    "    1) .doc file\n",
    "    2) .txt\n",
    "    3) .c / .py / .java ( program sourse code  file)\n",
    "\n",
    "# Binary File (b)\n",
    "\n",
    "---> The file can store only binary data( 0,1)\n",
    "\n",
    "---> so that its not easy to write and not easy to read\n",
    "\n",
    "---> examples\n",
    "\n",
    "    1) mp3 /mp4 /vlc / ---> video files\n",
    "    2) .jpg /.png -------> image file"
   ]
  },
  {
   "cell_type": "markdown",
   "metadata": {},
   "source": [
    "# File handling \n",
    "\n",
    "---> using python functions we have to do the file operation\n",
    "\n",
    "---> There are the following file operations are aviable \n",
    "\n",
    "    1.  creating / opening  ( open)\n",
    "    2.  closing   (close)\n",
    "    3.  reading   (read) \n",
    "    4.  writing   (write)\n",
    "# creating / opening file \n",
    "\n",
    "---> For doing this operation we have open function \n",
    "\n",
    "syntax:-\n",
    "------------\n",
    "\n",
    "file_obj  = open(\"filename_path\",\"mode\")\n",
    "\n",
    "file_name_path:-\n",
    "-----------------------\n",
    "---> we have to give file name with location in your computer\n",
    "\n",
    "mode :\n",
    "----------\n",
    "read --> 'r' ---> default \n",
    "\n",
    "write --> 'w'\n",
    "\n",
    "append --> 'a'\n"
   ]
  },
  {
   "cell_type": "code",
   "execution_count": 23,
   "metadata": {},
   "outputs": [
    {
     "name": "stdout",
     "output_type": "stream",
     "text": [
      "anjan kumar \n",
      "\n"
     ]
    }
   ],
   "source": [
    "# delaut mode is r mode\n",
    "'''\n",
    "-->  if it is r mode the file is not existed then its raise error\n",
    "--->if you open the file in read mode we can't write the data into\n",
    "   the file\n",
    "---> the content of file is safe mode\n",
    "'''\n",
    "fo = open('anjan.txt')\n",
    "#data = fo.readline()\n",
    "#data= fo.readlines()\n",
    "#data =fo.read()\n",
    "data=fo.read(13)\n",
    "#data =\"hello\"\n",
    "#fo.write(data)\n",
    "print(data)\n",
    "fo.close()"
   ]
  },
  {
   "cell_type": "code",
   "execution_count": 30,
   "metadata": {},
   "outputs": [
    {
     "name": "stdout",
     "output_type": "stream",
     "text": [
      "enter some data : welcome to AI World by anjan kumar \n"
     ]
    }
   ],
   "source": [
    "'''\n",
    "---> if we open a file using write mode ,file existed with content\n",
    "the file content will lose\n",
    "\n",
    "---> file is not existed then creats new file \n",
    "\n",
    "---> file is not possible to read\n",
    "'''\n",
    "fo = open('anjan.txt','w')\n",
    "data = input(\"enter some data : \")\n",
    "fo.write(data)\n",
    "#fo.read()\n",
    "fo.close()"
   ]
  },
  {
   "cell_type": "code",
   "execution_count": 35,
   "metadata": {},
   "outputs": [],
   "source": [
    "'''\n",
    "---> if we open a file using write mode ,file existed with content\n",
    "the file content will safe\n",
    "\n",
    "---> file is not existed then creats new file \n",
    "\n",
    "---> file is not possible to read\n",
    "\n",
    "---> we can't modify existing data \n",
    "\n",
    "---> we can write new data at end of the file \n",
    "'''\n",
    "\n",
    "fo =open('anjan.txt','a')\n",
    "fo.write(\" hello this is anjan kumar \")\n",
    "#fo.read()\n",
    "fo.close()"
   ]
  }
 ],
 "metadata": {
  "kernelspec": {
   "display_name": "Python 3",
   "language": "python",
   "name": "python3"
  },
  "language_info": {
   "codemirror_mode": {
    "name": "ipython",
    "version": 3
   },
   "file_extension": ".py",
   "mimetype": "text/x-python",
   "name": "python",
   "nbconvert_exporter": "python",
   "pygments_lexer": "ipython3",
   "version": "3.7.0"
  }
 },
 "nbformat": 4,
 "nbformat_minor": 2
}
