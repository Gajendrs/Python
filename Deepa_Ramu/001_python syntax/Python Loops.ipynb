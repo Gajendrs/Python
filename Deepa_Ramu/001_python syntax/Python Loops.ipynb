{
 "cells": [
  {
   "cell_type": "markdown",
   "metadata": {},
   "source": [
    "#                         Python Loops\n",
    "#                         --------------------\n",
    "\n",
    "# Whats is Loops ?\n",
    "\n",
    "#  -----> Loops are used for repeate a task \n",
    "\n",
    "# multiple times continuosly \n",
    "\n",
    "#  -----> To reduce the code size of the program\n",
    "\n",
    "# ------> We can easly understand the program \n"
   ]
  },
  {
   "cell_type": "markdown",
   "metadata": {},
   "source": [
    "# What are different types of loops are available \n",
    "\n",
    "# In python we have only 2 loops are available \n",
    "\n",
    "# 1 . while \n",
    "\n",
    "# 2 . for \n",
    "\n",
    "\n"
   ]
  },
  {
   "cell_type": "markdown",
   "metadata": {},
   "source": [
    "#  while Loop : -\n",
    "# -----------------\n",
    "\n",
    "# ----> To repeat the tast until unless the condition False \n",
    "\n",
    "# syntax :-\n",
    "# -----------\n",
    "\n",
    "\n",
    "# while (condition) :\n",
    "    #statemen1\n",
    "    #---------------\n",
    "    #--------------\n",
    "# else:\n",
    "    #stastement2\n",
    "    #------------------\n",
    "    #---------------------\n",
    "    \n",
    "\n",
    "\n",
    "\n",
    "\n"
   ]
  },
  {
   "cell_type": "code",
   "execution_count": 1,
   "metadata": {},
   "outputs": [
    {
     "name": "stdout",
     "output_type": "stream",
     "text": [
      "1\n",
      "2\n",
      "3\n",
      "4\n",
      "5\n",
      "6\n",
      "7\n",
      "8\n",
      "9\n",
      "10\n",
      "i am else block\n",
      "i can execute when condition is false\n"
     ]
    }
   ],
   "source": [
    "# write loop to print 1 to 10\n",
    "i = 1 # initilization\n",
    "while(i <=10):\n",
    "    print(i)\n",
    "    i = i +1\n",
    "else:\n",
    "    print(\"i am else block\")\n",
    "    print(\"i can execute when condition is false\")\n"
   ]
  },
  {
   "cell_type": "code",
   "execution_count": 3,
   "metadata": {},
   "outputs": [
    {
     "name": "stdout",
     "output_type": "stream",
     "text": [
      "enter n value9\n",
      "9  *  1  =  9\n",
      "9  *  2  =  18\n",
      "9  *  3  =  27\n",
      "9  *  4  =  36\n",
      "9  *  5  =  45\n",
      "9  *  6  =  54\n",
      "9  *  7  =  63\n",
      "9  *  8  =  72\n",
      "9  *  9  =  81\n",
      "9  *  10  =  90\n"
     ]
    }
   ],
   "source": [
    "# impilemnt the multiplication table \n",
    "'''\n",
    "5 * 1 = 5\n",
    "5 * 2 = 10\n",
    "5 * 3 = 15\n",
    "------\n",
    "5 * 10 = 15\n",
    "'''\n",
    "n = input(\"enter n value\")\n",
    "n = int(n)\n",
    "i = 1\n",
    "while(i <= 10):\n",
    "    print(n,\" * \",i,\" = \",n*i)\n",
    "    i = i +1\n",
    "    "
   ]
  },
  {
   "cell_type": "markdown",
   "metadata": {},
   "source": []
  }
 ],
 "metadata": {
  "kernelspec": {
   "display_name": "Python 3",
   "language": "python",
   "name": "python3"
  },
  "language_info": {
   "codemirror_mode": {
    "name": "ipython",
    "version": 3
   },
   "file_extension": ".py",
   "mimetype": "text/x-python",
   "name": "python",
   "nbconvert_exporter": "python",
   "pygments_lexer": "ipython3",
   "version": "3.7.0"
  }
 },
 "nbformat": 4,
 "nbformat_minor": 2
}
