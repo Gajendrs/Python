{
 "cells": [
  {
   "cell_type": "markdown",
   "metadata": {},
   "source": [
    "Python Conditional Statemenet\n"
   ]
  },
  {
   "cell_type": "code",
   "execution_count": null,
   "metadata": {},
   "outputs": [],
   "source": [
    "if(True):\n",
    "    print(\"hello\")\n",
    "    print(\"hai\")\n",
    "    print(\"Bye\")"
   ]
  },
  {
   "cell_type": "code",
   "execution_count": null,
   "metadata": {},
   "outputs": [],
   "source": [
    "if(False):\n",
    "    print(\"hello\")\n",
    "    print(\"hai\")\n",
    "    print(\"Bye\")"
   ]
  },
  {
   "cell_type": "code",
   "execution_count": null,
   "metadata": {},
   "outputs": [],
   "source": [
    "# wap find square of a number when given number is even number\n",
    "num = input(\"enter number  :  \")\n",
    "num = int(num)\n",
    "if(num % 2 == 0):\n",
    "    sqr = num ** 2\n",
    "    print('sqr = ',sqr)\n",
    "\n",
    "print(\"i am out off if \")\n",
    "\n",
    "\n"
   ]
  },
  {
   "cell_type": "code",
   "execution_count": null,
   "metadata": {},
   "outputs": [],
   "source": [
    "# wap find multiplication of a number with 3 and 5 when it is \n",
    "# divisble of  both 3 and 5\n",
    "num = input(\"enter num \")\n",
    "num = int(num)\n",
    "a=\"anjan\"\n",
    "if(num % 3 == 0  and  num % 5 == 0):\n",
    "    mul = num * 3 * 5\n",
    "    print(\"mul = %d \"%mul)\n",
    "    \n",
    "    "
   ]
  },
  {
   "cell_type": "code",
   "execution_count": null,
   "metadata": {},
   "outputs": [],
   "source": [
    "# wap print factorial is not posible when given number is less than 0\n",
    "\n",
    "# wap find the area of the square when side is more than 10 meter\n",
    "\n",
    "# wap print given triangle is equilitral triangle "
   ]
  },
  {
   "cell_type": "markdown",
   "metadata": {},
   "source": [
    "Looping Statement\n",
    "\n",
    "1. while"
   ]
  },
  {
   "cell_type": "code",
   "execution_count": null,
   "metadata": {},
   "outputs": [],
   "source": [
    "while(True):\n",
    "    print(\"hello\")\n",
    "else:\n",
    "    print(\"else\")"
   ]
  },
  {
   "cell_type": "code",
   "execution_count": 1,
   "metadata": {},
   "outputs": [
    {
     "name": "stdout",
     "output_type": "stream",
     "text": [
      "else\n"
     ]
    }
   ],
   "source": [
    "while(False):\n",
    "    print(\"while\")\n",
    "else:\n",
    "    print(\"else\")"
   ]
  },
  {
   "cell_type": "code",
   "execution_count": 2,
   "metadata": {},
   "outputs": [
    {
     "name": "stdout",
     "output_type": "stream",
     "text": [
      "enter some int 5\n",
      " i =  1\n",
      " i =  2\n",
      " i =  3\n",
      " i =  4\n",
      " i =  5\n",
      "i is reached to n \n"
     ]
    }
   ],
   "source": [
    "# wap print 1  to n(user choice )\n",
    "n = input(\"enter some int \")\n",
    "n = int(n)\n",
    "i =1\n",
    "while(i <= n):\n",
    "    print(\" i = \",i)\n",
    "    i = i+1\n",
    "else:\n",
    "    print(\"i is reached to n \")"
   ]
  },
  {
   "cell_type": "code",
   "execution_count": 4,
   "metadata": {},
   "outputs": [
    {
     "name": "stdout",
     "output_type": "stream",
     "text": [
      "enter n 15\n",
      "15  *  1  =  15\n",
      "15  *  2  =  30\n",
      "15  *  3  =  45\n",
      "15  *  4  =  60\n",
      "15  *  5  =  75\n",
      "15  *  6  =  90\n",
      "15  *  7  =  105\n",
      "15  *  8  =  120\n",
      "15  *  9  =  135\n",
      "15  *  10  =  150\n"
     ]
    }
   ],
   "source": [
    "# wap print multiplication table \n",
    "'''\n",
    "5\n",
    "5 * 1 = 5\n",
    "5 * 2 = 10\n",
    "5 * 3 = 15\n",
    "----\n",
    "5 * 10 = 50\n",
    "'''\n",
    "n = input(\"enter n \")\n",
    "n = int(n)\n",
    "i =1\n",
    "while(i <=10):\n",
    "    print(n,\" * \",i,\" = \",n*i)\n",
    "    i = i+1\n",
    "    "
   ]
  },
  {
   "cell_type": "code",
   "execution_count": null,
   "metadata": {},
   "outputs": [],
   "source": [
    "# wap print all data elements in any seq\n",
    "seq = [1,2,5,2,9,7]\n",
    "for ele in seq:\n",
    "    print(\"ele = \",ele)\n",
    "else:\n",
    "    print(\"no more updatation\")"
   ]
  },
  {
   "cell_type": "code",
   "execution_count": null,
   "metadata": {},
   "outputs": [],
   "source": [
    "# len of seq varibale\n",
    "seq =input(\"enter\")\n",
    "seq = list(seq)\n",
    "i =0\n",
    "for ele in seq :\n",
    "    seq[i]=int(ele)\n",
    "    i=i+1\n",
    "print(\"len = \",i)\n",
    "print(seq)  \n",
    "    "
   ]
  }
 ],
 "metadata": {
  "kernelspec": {
   "display_name": "Python 3",
   "language": "python",
   "name": "python3"
  },
  "language_info": {
   "codemirror_mode": {
    "name": "ipython",
    "version": 3
   },
   "file_extension": ".py",
   "mimetype": "text/x-python",
   "name": "python",
   "nbconvert_exporter": "python",
   "pygments_lexer": "ipython3",
   "version": "3.7.0"
  }
 },
 "nbformat": 4,
 "nbformat_minor": 2
}
