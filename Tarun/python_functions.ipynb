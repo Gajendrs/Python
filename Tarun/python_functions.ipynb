{
 "cells": [
  {
   "cell_type": "code",
   "execution_count": 1,
   "metadata": {},
   "outputs": [],
   "source": [
    "# function defination\n",
    "\n",
    "def anjan():\n",
    "    print(\"anjan can train AI\")\n",
    "    print(\"anjan can train Data science \")\n",
    "    print(\"anjan become a researcher\")"
   ]
  },
  {
   "cell_type": "code",
   "execution_count": 2,
   "metadata": {},
   "outputs": [
    {
     "name": "stdout",
     "output_type": "stream",
     "text": [
      "anjan can train AI\n",
      "anjan can train Data science \n",
      "anjan become a researcher\n"
     ]
    }
   ],
   "source": [
    "# function call \n",
    "anjan()"
   ]
  },
  {
   "cell_type": "code",
   "execution_count": 4,
   "metadata": {},
   "outputs": [],
   "source": [
    "# paramterized function\n",
    "\n",
    "# function defination\n",
    "\n",
    "def anjan(var,var1):\n",
    "    print(var)\n",
    "    print(var1)\n",
    "    print(\"anjan can train AI\")\n",
    "    print(\"anjan can train Data science \")\n",
    "    print(\"anjan become a researcher\")"
   ]
  },
  {
   "cell_type": "code",
   "execution_count": 5,
   "metadata": {},
   "outputs": [
    {
     "name": "stdout",
     "output_type": "stream",
     "text": [
      "23\n",
      "56\n",
      "anjan can train AI\n",
      "anjan can train Data science \n",
      "anjan become a researcher\n"
     ]
    }
   ],
   "source": [
    "anjan(23,56)"
   ]
  },
  {
   "cell_type": "code",
   "execution_count": 7,
   "metadata": {},
   "outputs": [],
   "source": [
    "# function defination\n",
    "\n",
    "def anjan(var,var1):\n",
    "    print(var)\n",
    "    print(var1)\n",
    "    print(\"anjan can train AI\")\n",
    "    print(\"anjan can train Data science \")\n",
    "    print(\"anjan become a researcher\")\n",
    "    return var+var1"
   ]
  },
  {
   "cell_type": "code",
   "execution_count": 8,
   "metadata": {},
   "outputs": [
    {
     "name": "stdout",
     "output_type": "stream",
     "text": [
      "34\n",
      "56\n",
      "anjan can train AI\n",
      "anjan can train Data science \n",
      "anjan become a researcher\n"
     ]
    }
   ],
   "source": [
    "va = anjan(34,56) # function call"
   ]
  },
  {
   "cell_type": "code",
   "execution_count": 9,
   "metadata": {},
   "outputs": [
    {
     "name": "stdout",
     "output_type": "stream",
     "text": [
      "90\n"
     ]
    }
   ],
   "source": [
    "print(va)"
   ]
  },
  {
   "cell_type": "code",
   "execution_count": 14,
   "metadata": {},
   "outputs": [],
   "source": [
    "# default arguments \n",
    "# function defination\n",
    "\n",
    "def anjan(var=123,var1=4):\n",
    "    print(var)\n",
    "    print(var1)\n",
    "    print(\"anjan can train AI\")\n",
    "    print(\"anjan can train Data science \")\n",
    "    print(\"anjan become a researcher\")\n",
    "    return var+var1"
   ]
  },
  {
   "cell_type": "code",
   "execution_count": 16,
   "metadata": {},
   "outputs": [
    {
     "name": "stdout",
     "output_type": "stream",
     "text": [
      "123\n",
      "4\n",
      "anjan can train AI\n",
      "anjan can train Data science \n",
      "anjan become a researcher\n",
      "127\n"
     ]
    }
   ],
   "source": [
    "#va = anjan(45,55)\n",
    "va =anjan() \n",
    "print(va)"
   ]
  },
  {
   "cell_type": "code",
   "execution_count": 19,
   "metadata": {},
   "outputs": [],
   "source": [
    "# packing \n",
    "def pack(*args):\n",
    "    print(args)"
   ]
  },
  {
   "cell_type": "code",
   "execution_count": 20,
   "metadata": {},
   "outputs": [
    {
     "name": "stdout",
     "output_type": "stream",
     "text": [
      "(12, 34, 67, 98, 23, 56, 34)\n"
     ]
    }
   ],
   "source": [
    "pack(12,34,67,98,23,56,34)"
   ]
  },
  {
   "cell_type": "code",
   "execution_count": 22,
   "metadata": {},
   "outputs": [],
   "source": [
    "# unpacking \n",
    "def unpack(a1 ,a2,a3):\n",
    "    print(a1+a2+a3)"
   ]
  },
  {
   "cell_type": "code",
   "execution_count": 23,
   "metadata": {},
   "outputs": [
    {
     "name": "stdout",
     "output_type": "stream",
     "text": [
      "69\n"
     ]
    }
   ],
   "source": [
    "a =[12,34,23]\n",
    "unpack(*a)"
   ]
  },
  {
   "cell_type": "code",
   "execution_count": null,
   "metadata": {},
   "outputs": [],
   "source": []
  }
 ],
 "metadata": {
  "kernelspec": {
   "display_name": "Python 3",
   "language": "python",
   "name": "python3"
  },
  "language_info": {
   "codemirror_mode": {
    "name": "ipython",
    "version": 3
   },
   "file_extension": ".py",
   "mimetype": "text/x-python",
   "name": "python",
   "nbconvert_exporter": "python",
   "pygments_lexer": "ipython3",
   "version": "3.7.0"
  }
 },
 "nbformat": 4,
 "nbformat_minor": 2
}
