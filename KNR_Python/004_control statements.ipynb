{
 "cells": [
  {
   "cell_type": "code",
   "execution_count": 2,
   "metadata": {},
   "outputs": [
    {
     "name": "stdout",
     "output_type": "stream",
     "text": [
      "enter your name  :  anjan\n",
      " how old are you :  16\n",
      "enter your phone :  9640987960\n",
      "i am out of if block\n"
     ]
    }
   ],
   "source": [
    "# simple if\n",
    "'''\n",
    "wap print your full details when your age is more than 18\n",
    "'''\n",
    "name = input(\"enter your name  :  \")\n",
    "age  = int(input(\" how old are you :  \"))\n",
    "ph   = input(\"enter your phone :  \")\n",
    "if(age > 18):\n",
    "    print(\"name = \",name)\n",
    "    print(\"age  = \",age)\n",
    "    print(\"phon = \",ph)\n",
    "print(\"i am out of if block\")\n"
   ]
  },
  {
   "cell_type": "code",
   "execution_count": 4,
   "metadata": {},
   "outputs": [
    {
     "name": "stdout",
     "output_type": "stream",
     "text": [
      "enter a number-78\n",
      "factorial is not possible for this number\n"
     ]
    }
   ],
   "source": [
    "'''\n",
    "factorial \n",
    "'''\n",
    "num =input(\"enter a number\")\n",
    "num =int(num)\n",
    "if(num < 0):\n",
    "    print(\"factorial is not possible for this number\")"
   ]
  },
  {
   "cell_type": "code",
   "execution_count": 6,
   "metadata": {},
   "outputs": [
    {
     "name": "stdout",
     "output_type": "stream",
     "text": [
      "enter a number-78\n",
      "factorial is not possible for this number\n",
      "i am out of if block\n"
     ]
    }
   ],
   "source": [
    "'''\n",
    "factorial \n",
    "'''\n",
    "num =input(\"enter a number\")\n",
    "num =int(num)\n",
    "if (num < 0):\n",
    "    print(\"factorial is not possible for this number\")\n",
    "else:\n",
    "    print(\"factorial is  possible for this number\")\n",
    "print(\"i am out of if block\")"
   ]
  },
  {
   "cell_type": "code",
   "execution_count": 11,
   "metadata": {},
   "outputs": [
    {
     "name": "stdout",
     "output_type": "stream",
     "text": [
      "enter a characterie\n",
      "ie is consonant\n"
     ]
    }
   ],
   "source": [
    "ch =input(\"enter a character\")\n",
    "l =len(ch)\n",
    "\n",
    "if(ch in  \"aeiouAEIOU\"):\n",
    "    print(ch,\"is vowel\")\n",
    "else : \n",
    "    print(ch, \"is consonant\")\n",
    "    "
   ]
  },
  {
   "cell_type": "code",
   "execution_count": 15,
   "metadata": {},
   "outputs": [
    {
     "name": "stdout",
     "output_type": "stream",
     "text": [
      "enter a characteri\n",
      "i is vowel\n"
     ]
    }
   ],
   "source": [
    "ch =input(\"enter a character\")\n",
    "l =len(ch)\n",
    "if(l == 1):\n",
    "    if(ch.isalpha()):\n",
    "        if(ch in  \"aeiouAEIOU\"):\n",
    "            print(ch,\"is vowel\")\n",
    "        else : \n",
    "            print(ch, \"is consonant\")\n",
    "    else:\n",
    "        print(\"enter character\")\n",
    "else:\n",
    "    print(\"you entered wrong string\")"
   ]
  },
  {
   "cell_type": "code",
   "execution_count": 21,
   "metadata": {},
   "outputs": [
    {
     "name": "stdout",
     "output_type": "stream",
     "text": [
      "30\n"
     ]
    }
   ],
   "source": [
    "a=10\n",
    "b=20\n",
    "c =a+b\n",
    "print(c)"
   ]
  },
  {
   "cell_type": "code",
   "execution_count": 29,
   "metadata": {},
   "outputs": [
    {
     "name": "stdout",
     "output_type": "stream",
     "text": [
      "enter fact-7\n",
      "not possible\n"
     ]
    }
   ],
   "source": [
    "num =input(\"enter fact\")\n",
    "num =int(num)\n",
    "fact =1\n",
    "if(num >=0):\n",
    "    \n",
    "    for i in range(1,num+1):\n",
    "        fact =fact*i\n",
    "    print(fact)\n",
    "else:\n",
    "    print(\"not possible\")\n",
    "    "
   ]
  },
  {
   "cell_type": "code",
   "execution_count": 33,
   "metadata": {},
   "outputs": [
    {
     "name": "stdout",
     "output_type": "stream",
     "text": [
      "enter per 45\n",
      "C Grade\n"
     ]
    }
   ],
   "source": [
    "per= input(\"enter per \")\n",
    "per =int(per)\n",
    "if(per > 70):\n",
    "    print(\" A Grade &distinction\")\n",
    "elif(per > 60):\n",
    "    print(\" A Grade\")\n",
    "elif(per > 50):\n",
    "    print(\"B Grade\")\n",
    "elif(per > 40):\n",
    "    print(\"C Grade\")\n",
    "else:\n",
    "    print(\"you failed\")\n"
   ]
  },
  {
   "cell_type": "code",
   "execution_count": 1,
   "metadata": {},
   "outputs": [
    {
     "name": "stdout",
     "output_type": "stream",
     "text": [
      "enter no of times : 5\n",
      "anjan kumar\n",
      "anjan kumar\n",
      "anjan kumar\n",
      "anjan kumar\n",
      "anjan kumar\n"
     ]
    }
   ],
   "source": [
    "n =input(\"enter no of times : \")\n",
    "n =int(n)\n",
    "i =1\n",
    "while(i <=n):\n",
    "    print(\"anjan kumar\")\n",
    "    i = i+1"
   ]
  },
  {
   "cell_type": "code",
   "execution_count": 2,
   "metadata": {},
   "outputs": [
    {
     "name": "stdout",
     "output_type": "stream",
     "text": [
      "enter  your int : 5\n",
      "5  *  1  =  5\n",
      "5  *  2  =  10\n",
      "5  *  3  =  15\n",
      "5  *  4  =  20\n",
      "5  *  5  =  25\n",
      "5  *  6  =  30\n",
      "5  *  7  =  35\n",
      "5  *  8  =  40\n",
      "5  *  9  =  45\n",
      "5  *  10  =  50\n",
      " while condition is fails\n"
     ]
    }
   ],
   "source": [
    "'''\n",
    "5 \n",
    "\n",
    "5 * 1 = 5\n",
    "5 * 2 = 10\n",
    "---\n",
    "---\n",
    "5 * 10 = 50\n",
    "'''\n",
    "n = input(\"enter  your int : \")\n",
    "n = int(n)\n",
    "i =1\n",
    "while(i <= 10):\n",
    "    print(n,\" * \",i,\" = \",n*i)\n",
    "    i = i+1\n",
    "else:\n",
    "    print(\" while condition is fails\")"
   ]
  },
  {
   "cell_type": "code",
   "execution_count": 10,
   "metadata": {},
   "outputs": [
    {
     "name": "stdout",
     "output_type": "stream",
     "text": [
      "enter a number : -5\n",
      "for -ve numbers fact not possible\n"
     ]
    }
   ],
   "source": [
    "# factorial of a number \n",
    "#5! --> 5*4*3*2*1 =120\n",
    "n = input(\"enter a number : \")\n",
    "n = int(n)\n",
    "t = n\n",
    "fact =1\n",
    "if(n == 0 or  n== 1):\n",
    "    print(n,\"! = 1\")\n",
    "elif(n >1):\n",
    "    while(n!=1):\n",
    "        fact = fact *n\n",
    "        n = n-1\n",
    "    print(t,\"! =\",fact)\n",
    "else:\n",
    "    print(\"for -ve numbers fact not possible\")"
   ]
  },
  {
   "cell_type": "code",
   "execution_count": 12,
   "metadata": {},
   "outputs": [
    {
     "name": "stdout",
     "output_type": "stream",
     "text": [
      "enter a number9\n",
      "9 is not prime\n"
     ]
    }
   ],
   "source": [
    "#prime number\n",
    "n = input(\"enter a number\")\n",
    "n =int(n) ; f_c =0 ; i =1\n",
    "while(i <= n):\n",
    "    if(n % i == 0):\n",
    "        f_c =f_c+1\n",
    "    i = i+1\n",
    "if(f_c == 2):\n",
    "    print(n, \"is prime\")\n",
    "else:\n",
    "    print(n,\"is not prime\")\n",
    "\n"
   ]
  },
  {
   "cell_type": "code",
   "execution_count": 13,
   "metadata": {},
   "outputs": [
    {
     "name": "stdout",
     "output_type": "stream",
     "text": [
      "enter n : 5\n",
      "1\n",
      "2\n",
      "3\n",
      "4\n",
      "5\n",
      "no more updatation\n"
     ]
    }
   ],
   "source": [
    "# wap print 1 to 10 with out while\n",
    "n =input(\"enter n : \")\n",
    "n = int(n)\n",
    "for var in range(1,n+1):\n",
    "    print(var)\n",
    "else:\n",
    "    print(\"no more updatation\")\n",
    "\n"
   ]
  },
  {
   "cell_type": "code",
   "execution_count": 15,
   "metadata": {},
   "outputs": [
    {
     "name": "stdout",
     "output_type": "stream",
     "text": [
      "enter n : 50\n",
      "sum of  50  natural numbers is  1275\n"
     ]
    }
   ],
   "source": [
    "# sum of 1st n natural number\n",
    "n =input(\"enter n : \")\n",
    "n = int(n)\n",
    "sum = 0\n",
    "for var in range(1,n+1):\n",
    "    sum = sum +var\n",
    "print(\"sum of \",n,\" natural numbers is \", sum)\n",
    "\n"
   ]
  },
  {
   "cell_type": "code",
   "execution_count": null,
   "metadata": {},
   "outputs": [],
   "source": [
    "# wap sum of the digits in number\n",
    "# 567 --->18\n",
    "# wap reverse of a number \n",
    "# 567 --> 765\n",
    "# wap given number palidrom or not\n",
    "#565 --->565\n",
    "#wap given number is armstrong  number or not \n",
    "\n",
    "#123--> 1^3+2^3+3^3--->123\n"
   ]
  },
  {
   "cell_type": "code",
   "execution_count": 5,
   "metadata": {},
   "outputs": [
    {
     "name": "stdout",
     "output_type": "stream",
     "text": [
      "11  is prime \n",
      "13  is prime \n",
      "17  is prime \n",
      "19  is prime \n",
      "23  is prime \n",
      "29  is prime \n",
      "31  is prime \n",
      "37  is prime \n",
      "41  is prime \n",
      "43  is prime \n",
      "47  is prime \n",
      "53  is prime \n",
      "59  is prime \n",
      "61  is prime \n",
      "67  is prime \n",
      "71  is prime \n",
      "73  is prime \n",
      "79  is prime \n",
      "83  is prime \n",
      "89  is prime \n",
      "97  is prime \n"
     ]
    }
   ],
   "source": [
    "for n in range(10,101):\n",
    "    for d in range(2, n):\n",
    "        if(n % d == 0):\n",
    "            break \n",
    "    else:\n",
    "        print(n,\" is prime \")"
   ]
  }
 ],
 "metadata": {
  "kernelspec": {
   "display_name": "Python 3",
   "language": "python",
   "name": "python3"
  },
  "language_info": {
   "codemirror_mode": {
    "name": "ipython",
    "version": 3
   },
   "file_extension": ".py",
   "mimetype": "text/x-python",
   "name": "python",
   "nbconvert_exporter": "python",
   "pygments_lexer": "ipython3",
   "version": "3.7.0"
  }
 },
 "nbformat": 4,
 "nbformat_minor": 2
}
