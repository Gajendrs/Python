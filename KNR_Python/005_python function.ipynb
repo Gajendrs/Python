{
 "cells": [
  {
   "cell_type": "markdown",
   "metadata": {},
   "source": [
    "Predefined function"
   ]
  },
  {
   "cell_type": "code",
   "execution_count": 1,
   "metadata": {},
   "outputs": [
    {
     "name": "stdout",
     "output_type": "stream",
     "text": [
      "5\n",
      "100\n",
      "12\n",
      "313\n",
      "97\n",
      "c\n",
      "890\n",
      "<class 'list'>\n",
      "317283234568\n"
     ]
    }
   ],
   "source": [
    "a =[12,45,67,89,100]\n",
    "print(len(a))\n",
    "print(max(a))\n",
    "print(min(a))\n",
    "print(sum(a))\n",
    "print(ord('a'))\n",
    "print(chr(99))\n",
    "print(int('890'))\n",
    "print(type(a))\n",
    "print(id(a))"
   ]
  },
  {
   "cell_type": "code",
   "execution_count": 3,
   "metadata": {},
   "outputs": [
    {
     "name": "stdout",
     "output_type": "stream",
     "text": [
      "name  : \n",
      "phone : \n",
      "mail  : \n"
     ]
    }
   ],
   "source": [
    "# waf print your details \n",
    "# functions without paramaters\n",
    "def print_details():\n",
    "    print(\"name  : \")\n",
    "    print(\"phone : \")\n",
    "    print(\"mail  : \")\n",
    "print_details()"
   ]
  },
  {
   "cell_type": "code",
   "execution_count": 7,
   "metadata": {},
   "outputs": [
    {
     "name": "stdout",
     "output_type": "stream",
     "text": [
      "name  :  sai\n",
      "phone :  987\n",
      "mail  :  sai@gmail.com\n",
      "***********************\n",
      "name  :  krisha\n",
      "phone :  960\n",
      "mail  :  krishna@gmail.com\n"
     ]
    }
   ],
   "source": [
    "# functions with paramaters\n",
    "def print_details(name,ph,mail):\n",
    "    print(\"name  : \",name)\n",
    "    print(\"phone : \",ph)\n",
    "    print(\"mail  : \",mail)\n",
    "print_details('sai',987,'sai@gmail.com')\n",
    "print('***********************')\n",
    "print_details('krisha',960,'krishna@gmail.com')"
   ]
  },
  {
   "cell_type": "code",
   "execution_count": 8,
   "metadata": {},
   "outputs": [
    {
     "name": "stdout",
     "output_type": "stream",
     "text": [
      "*****************\n",
      "v =  200\n"
     ]
    }
   ],
   "source": [
    "# function with arguments and return value\n",
    "def mul(a, b):\n",
    "    c =a*b\n",
    "    return c\n",
    "print(\"*****************\")\n",
    "v =mul(10,20)\n",
    "print(\"v = \",v)"
   ]
  },
  {
   "cell_type": "code",
   "execution_count": 13,
   "metadata": {},
   "outputs": [
    {
     "name": "stdout",
     "output_type": "stream",
     "text": [
      "a =  100\n",
      "b =  200\n"
     ]
    }
   ],
   "source": [
    "# function with default arguments \n",
    "def fun_name(a=10,b=20):\n",
    "    print(\"a = \",a)\n",
    "    print(\"b = \",b)\n",
    "fun_name(100,200)"
   ]
  },
  {
   "cell_type": "code",
   "execution_count": 15,
   "metadata": {},
   "outputs": [
    {
     "name": "stdout",
     "output_type": "stream",
     "text": [
      "23\n",
      "23\n"
     ]
    }
   ],
   "source": [
    "# global variable declarations\n",
    "def fun():\n",
    "    global loc_a\n",
    "    loc_a =23  # local variable for fun function\n",
    "    print(loc_a)\n",
    "fun()\n",
    "print(loc_a)"
   ]
  },
  {
   "cell_type": "code",
   "execution_count": null,
   "metadata": {},
   "outputs": [],
   "source": []
  },
  {
   "cell_type": "code",
   "execution_count": 16,
   "metadata": {},
   "outputs": [
    {
     "name": "stdout",
     "output_type": "stream",
     "text": [
      " 1st out \n",
      "2nd out\n",
      "1st in\n"
     ]
    }
   ],
   "source": [
    "def out_fun():\n",
    "    print(\" 1st out \")\n",
    "    def in_fun():\n",
    "        print(\"1st in\")\n",
    "    print(\"2nd out\")\n",
    "    in_fun()\n",
    "out_fun()"
   ]
  },
  {
   "cell_type": "code",
   "execution_count": 18,
   "metadata": {},
   "outputs": [
    {
     "name": "stdout",
     "output_type": "stream",
     "text": [
      "469\n"
     ]
    }
   ],
   "source": [
    "# packing arguments\n",
    "def fun(*a):\n",
    "    s= sum(a)\n",
    "    print(s)\n",
    "fun(4,5,6,8,89,78,89,56,78,56)"
   ]
  },
  {
   "cell_type": "code",
   "execution_count": 19,
   "metadata": {},
   "outputs": [
    {
     "name": "stdout",
     "output_type": "stream",
     "text": [
      "12\n",
      "56\n",
      "78\n"
     ]
    }
   ],
   "source": [
    "# function unpacking \n",
    "def fun(a,b,c):\n",
    "    print(a)\n",
    "    print(b)\n",
    "    print(c)\n",
    "s =[12,56,78]\n",
    "fun(*s)"
   ]
  },
  {
   "cell_type": "code",
   "execution_count": 1,
   "metadata": {},
   "outputs": [
    {
     "name": "stdout",
     "output_type": "stream",
     "text": [
      "i am rec\n",
      "i am rec\n",
      "i am rec\n",
      "i am rec\n",
      "i am rec\n"
     ]
    }
   ],
   "source": [
    "def rec_fun(i=1):\n",
    "    print(\"i am rec\")\n",
    "    i = i+1\n",
    "    if(i <=5):\n",
    "        rec_fun(i)\n",
    "rec_fun(1)"
   ]
  },
  {
   "cell_type": "code",
   "execution_count": 4,
   "metadata": {},
   "outputs": [
    {
     "name": "stdout",
     "output_type": "stream",
     "text": [
      "enters digits78a\n",
      "False\n"
     ]
    }
   ],
   "source": [
    "a =input(\"enters digits\")\n",
    "def isdigit(st):\n",
    "    for ch in st:\n",
    "        if not(ch>='0' and ch <='9'):\n",
    "            return False\n",
    "    else:\n",
    "        return True\n",
    "print(isdigit(a))"
   ]
  },
  {
   "cell_type": "code",
   "execution_count": 10,
   "metadata": {},
   "outputs": [
    {
     "name": "stdout",
     "output_type": "stream",
     "text": [
      "False\n"
     ]
    }
   ],
   "source": [
    "def isalpha(st):\n",
    "    for ch in st:\n",
    "        if not ((ch>='a' and ch <='z')or(ch>='A' and ch<='Z')):\n",
    "            return False\n",
    "    else:\n",
    "        return True\n",
    "print(isalpha('assDFF'))"
   ]
  }
 ],
 "metadata": {
  "kernelspec": {
   "display_name": "Python 3",
   "language": "python",
   "name": "python3"
  },
  "language_info": {
   "codemirror_mode": {
    "name": "ipython",
    "version": 3
   },
   "file_extension": ".py",
   "mimetype": "text/x-python",
   "name": "python",
   "nbconvert_exporter": "python",
   "pygments_lexer": "ipython3",
   "version": "3.7.0"
  }
 },
 "nbformat": 4,
 "nbformat_minor": 2
}
