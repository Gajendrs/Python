{
 "cells": [
  {
   "cell_type": "code",
   "execution_count": 6,
   "metadata": {},
   "outputs": [
    {
     "name": "stdout",
     "output_type": "stream",
     "text": [
      "# -*- coding: utf-8 -*-\n",
      "\"\"\"\n",
      "Created on Wed Mar 13 14:40:47 2019\n",
      "\n",
      "@author: dell\n",
      "\"\"\"\n",
      "\n",
      "def add(a =10, b=20):\n",
      "    return a+b\n",
      "\n",
      "def sub(a =45, b=20):\n",
      "    return a-b\n"
     ]
    }
   ],
   "source": [
    "file_obj = open(\"module.py\",\"r\")\n",
    "data =file_obj.read()\n",
    "print(data)\n",
    "file_obj.close()"
   ]
  },
  {
   "cell_type": "code",
   "execution_count": 13,
   "metadata": {},
   "outputs": [],
   "source": [
    "# new file creation\n",
    "file_obj = open(\"new.txt\",\"w\")\n",
    "file_obj.write(\"i am anjan kumar\\ni am AI Trainer\\n\")\n",
    "#file_obj.read()\n",
    "file_obj.close()"
   ]
  },
  {
   "cell_type": "code",
   "execution_count": 10,
   "metadata": {},
   "outputs": [],
   "source": [
    "# file is existed \n",
    "file_obj = open(\"new.txt\",\"w\")\n",
    "#file_obj.write(\"i am anjan kumar\\ni am AI Trainer\\n\")\n",
    "file_obj.close()"
   ]
  },
  {
   "cell_type": "code",
   "execution_count": 17,
   "metadata": {},
   "outputs": [
    {
     "ename": "UnsupportedOperation",
     "evalue": "not readable",
     "output_type": "error",
     "traceback": [
      "\u001b[1;31m---------------------------------------------------------------------------\u001b[0m",
      "\u001b[1;31mUnsupportedOperation\u001b[0m                      Traceback (most recent call last)",
      "\u001b[1;32m<ipython-input-17-927d1ad76efc>\u001b[0m in \u001b[0;36m<module>\u001b[1;34m()\u001b[0m\n\u001b[0;32m      1\u001b[0m \u001b[0mfile_obj\u001b[0m \u001b[1;33m=\u001b[0m \u001b[0mopen\u001b[0m\u001b[1;33m(\u001b[0m\u001b[1;34m\"new1.txt\"\u001b[0m\u001b[1;33m,\u001b[0m\u001b[1;34m\"a\"\u001b[0m\u001b[1;33m)\u001b[0m\u001b[1;33m\u001b[0m\u001b[0m\n\u001b[0;32m      2\u001b[0m \u001b[0mfile_obj\u001b[0m\u001b[1;33m.\u001b[0m\u001b[0mwrite\u001b[0m\u001b[1;33m(\u001b[0m\u001b[1;34m\"\\ni am anjan kumar\\nI am AI Engineer\"\u001b[0m\u001b[1;33m)\u001b[0m\u001b[1;33m\u001b[0m\u001b[0m\n\u001b[1;32m----> 3\u001b[1;33m \u001b[0mfile_obj\u001b[0m\u001b[1;33m.\u001b[0m\u001b[0mread\u001b[0m\u001b[1;33m(\u001b[0m\u001b[1;33m)\u001b[0m\u001b[1;33m\u001b[0m\u001b[0m\n\u001b[0m\u001b[0;32m      4\u001b[0m \u001b[0mfile_obj\u001b[0m\u001b[1;33m.\u001b[0m\u001b[0mclose\u001b[0m\u001b[1;33m(\u001b[0m\u001b[1;33m)\u001b[0m\u001b[1;33m\u001b[0m\u001b[0m\n",
      "\u001b[1;31mUnsupportedOperation\u001b[0m: not readable"
     ]
    }
   ],
   "source": [
    "file_obj = open(\"new1.txt\",\"a\")\n",
    "file_obj.write(\"\\ni am anjan kumar\\nI am AI Engineer\")\n",
    "file_obj.read()\n",
    "file_obj.close()"
   ]
  },
  {
   "cell_type": "code",
   "execution_count": 24,
   "metadata": {},
   "outputs": [
    {
     "name": "stdout",
     "output_type": "stream",
     "text": [
      "i am anjan \n"
     ]
    }
   ],
   "source": [
    "f = open(\"anjan.txt\",\"w+\")\n",
    "f.write(\"i am anjan \")\n",
    "f.seek(0,0)# biggining file\n",
    "data = f.read()\n",
    "print(data)"
   ]
  },
  {
   "cell_type": "code",
   "execution_count": 27,
   "metadata": {},
   "outputs": [
    {
     "name": "stdout",
     "output_type": "stream",
     "text": [
      "i am anjan i am python trainer\n"
     ]
    }
   ],
   "source": [
    "f = open(\"anjan.txt\",\"r+\")\n",
    "f.write(\"i am anjan i am python trainer\")\n",
    "f.seek(0,0)# biggining file\n",
    "data = f.read()\n",
    "print(data)\n"
   ]
  },
  {
   "cell_type": "code",
   "execution_count": 30,
   "metadata": {},
   "outputs": [
    {
     "name": "stdout",
     "output_type": "stream",
     "text": [
      "55\n",
      "80\n",
      "\n",
      "i am appendingpython trainer\n",
      "i am appending new data\n",
      "i am appending new data\n"
     ]
    }
   ],
   "source": [
    "f = open(\"anjan.txt\",\"a+\")\n",
    "print(f.tell())\n",
    "f.write(\"\\ni am appending new data\")\n",
    "print(f.tell())\n",
    "f.seek(0,0)# biggining file\n",
    "data = f.read()\n",
    "print(data)\n"
   ]
  }
 ],
 "metadata": {
  "kernelspec": {
   "display_name": "Python 3",
   "language": "python",
   "name": "python3"
  },
  "language_info": {
   "codemirror_mode": {
    "name": "ipython",
    "version": 3
   },
   "file_extension": ".py",
   "mimetype": "text/x-python",
   "name": "python",
   "nbconvert_exporter": "python",
   "pygments_lexer": "ipython3",
   "version": "3.7.0"
  }
 },
 "nbformat": 4,
 "nbformat_minor": 2
}
