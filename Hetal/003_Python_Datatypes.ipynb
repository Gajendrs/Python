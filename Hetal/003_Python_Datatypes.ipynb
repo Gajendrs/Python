{
 "cells": [
  {
   "cell_type": "markdown",
   "metadata": {},
   "source": [
    "Fundamental Datatype"
   ]
  },
  {
   "cell_type": "code",
   "execution_count": 1,
   "metadata": {},
   "outputs": [
    {
     "name": "stdout",
     "output_type": "stream",
     "text": [
      "123\n",
      "140709983813184\n",
      "<class 'int'>\n"
     ]
    }
   ],
   "source": [
    "# int \n",
    "v = 123\n",
    "print(v)\n",
    "print(id(v))\n",
    "print(type(v))"
   ]
  },
  {
   "cell_type": "code",
   "execution_count": 2,
   "metadata": {},
   "outputs": [
    {
     "name": "stdout",
     "output_type": "stream",
     "text": [
      "123.234\n",
      "427817000704\n",
      "<class 'float'>\n"
     ]
    }
   ],
   "source": [
    "# float \n",
    "v = 123.234\n",
    "print(v)\n",
    "print(id(v))\n",
    "print(type(v))"
   ]
  },
  {
   "cell_type": "code",
   "execution_count": 3,
   "metadata": {},
   "outputs": [
    {
     "name": "stdout",
     "output_type": "stream",
     "text": [
      "True\n",
      "140709983293968\n",
      "<class 'bool'>\n",
      "False\n",
      "140709983294000\n",
      "<class 'bool'>\n"
     ]
    }
   ],
   "source": [
    "# bool\n",
    "v = True\n",
    "print(v)\n",
    "print(id(v))\n",
    "print(type(v))\n",
    "\n",
    "# bool\n",
    "v = False\n",
    "print(v)\n",
    "print(id(v))\n",
    "print(type(v))"
   ]
  },
  {
   "cell_type": "code",
   "execution_count": 5,
   "metadata": {},
   "outputs": [
    {
     "name": "stdout",
     "output_type": "stream",
     "text": [
      "(123+45j)\n",
      "427845537584\n",
      "<class 'complex'>\n"
     ]
    }
   ],
   "source": [
    "# complex\n",
    "v = 123 + 45j\n",
    "print(v)\n",
    "print(id(v))\n",
    "print(type(v))"
   ]
  },
  {
   "cell_type": "code",
   "execution_count": 9,
   "metadata": {},
   "outputs": [
    {
     "name": "stdout",
     "output_type": "stream",
     "text": [
      "None\n",
      "140709983340560\n",
      "<class 'NoneType'>\n"
     ]
    }
   ],
   "source": [
    "# None\n",
    "v = None\n",
    "print(v)\n",
    "print(id(v))\n",
    "print(type(v))"
   ]
  },
  {
   "cell_type": "code",
   "execution_count": 11,
   "metadata": {},
   "outputs": [],
   "source": [
    "a =None\n",
    "a"
   ]
  },
  {
   "cell_type": "markdown",
   "metadata": {},
   "source": [
    "# sequential datatype"
   ]
  },
  {
   "cell_type": "code",
   "execution_count": 12,
   "metadata": {},
   "outputs": [
    {
     "name": "stdout",
     "output_type": "stream",
     "text": [
      "soc\n",
      "427819852384\n",
      "<class 'str'>\n"
     ]
    }
   ],
   "source": [
    "# string  ----> str class name \n",
    "'''\n",
    "group of character it can store with in '' / \"\" / ''' ''' / \"\"\" \"\"\"\n",
    "'''\n",
    "v = 'soc'\n",
    "print(v)\n",
    "print(id(v))\n",
    "print(type(v))"
   ]
  },
  {
   "cell_type": "code",
   "execution_count": 14,
   "metadata": {},
   "outputs": [
    {
     "name": "stdout",
     "output_type": "stream",
     "text": [
      "soc\n",
      "427819852384\n",
      "<class 'str'>\n"
     ]
    }
   ],
   "source": [
    "v = \"soc\"\n",
    "print(v)\n",
    "print(id(v))\n",
    "print(type(v))"
   ]
  },
  {
   "cell_type": "code",
   "execution_count": 15,
   "metadata": {},
   "outputs": [
    {
     "name": "stdout",
     "output_type": "stream",
     "text": [
      "soc\n",
      "427819852384\n",
      "<class 'str'>\n"
     ]
    }
   ],
   "source": [
    "v = '''soc'''\n",
    "print(v)\n",
    "print(id(v))\n",
    "print(type(v))"
   ]
  },
  {
   "cell_type": "code",
   "execution_count": 16,
   "metadata": {},
   "outputs": [
    {
     "name": "stdout",
     "output_type": "stream",
     "text": [
      "soc\n",
      "427819852384\n",
      "<class 'str'>\n"
     ]
    }
   ],
   "source": [
    "v = \"\"\"soc\"\"\"\n",
    "print(v)\n",
    "print(id(v))\n",
    "print(type(v))"
   ]
  },
  {
   "cell_type": "code",
   "execution_count": 17,
   "metadata": {},
   "outputs": [
    {
     "name": "stdout",
     "output_type": "stream",
     "text": [
      "[12, 34, 123]\n",
      "427845960968\n",
      "<class 'list'>\n"
     ]
    }
   ],
   "source": [
    "# list  -- []\n",
    "v = [12,34,123]\n",
    "print(v)\n",
    "print(id(v))\n",
    "print(type(v))"
   ]
  },
  {
   "cell_type": "code",
   "execution_count": 18,
   "metadata": {},
   "outputs": [
    {
     "name": "stdout",
     "output_type": "stream",
     "text": [
      "(12, 34, 123)\n",
      "427850135592\n",
      "<class 'tuple'>\n"
     ]
    }
   ],
   "source": [
    "# tuple  -- ()\n",
    "v = (12,34,123)\n",
    "print(v)\n",
    "print(id(v))\n",
    "print(type(v))"
   ]
  },
  {
   "cell_type": "code",
   "execution_count": 19,
   "metadata": {},
   "outputs": [
    {
     "name": "stdout",
     "output_type": "stream",
     "text": [
      "{34, 123, 12}\n",
      "427845940168\n",
      "<class 'set'>\n"
     ]
    }
   ],
   "source": [
    "# set  -- {}\n",
    "v = {12,34,123}\n",
    "print(v)\n",
    "print(id(v))\n",
    "print(type(v))"
   ]
  },
  {
   "cell_type": "code",
   "execution_count": 20,
   "metadata": {},
   "outputs": [
    {
     "name": "stdout",
     "output_type": "stream",
     "text": [
      "{12: 45, 67: 56}\n",
      "427850101096\n",
      "<class 'dict'>\n"
     ]
    }
   ],
   "source": [
    "# dict --- {}\n",
    "\n",
    "v = {12 : 45 , 67 : 56}\n",
    "print(v)\n",
    "print(id(v))\n",
    "print(type(v))"
   ]
  }
 ],
 "metadata": {
  "kernelspec": {
   "display_name": "Python 3",
   "language": "python",
   "name": "python3"
  },
  "language_info": {
   "codemirror_mode": {
    "name": "ipython",
    "version": 3
   },
   "file_extension": ".py",
   "mimetype": "text/x-python",
   "name": "python",
   "nbconvert_exporter": "python",
   "pygments_lexer": "ipython3",
   "version": "3.7.0"
  }
 },
 "nbformat": 4,
 "nbformat_minor": 2
}
