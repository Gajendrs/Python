{
 "cells": [
  {
   "cell_type": "markdown",
   "metadata": {},
   "source": [
    "# input function"
   ]
  },
  {
   "cell_type": "code",
   "execution_count": 7,
   "metadata": {},
   "outputs": [
    {
     "name": "stdout",
     "output_type": "stream",
     "text": [
      "enter some data78\n",
      "78\n",
      "<class 'str'>\n",
      "964240253480\n",
      "78\n",
      "<class 'int'>\n",
      "140715807340704\n"
     ]
    }
   ],
   "source": [
    "'''\n",
    "1. input is used for to read the data from keyboard by user\n",
    "\n",
    "2. we can enter data type value the return data typaae is str\n",
    "'''\n",
    "\n",
    "var = input(\"enter some data\")\n",
    "print(var)\n",
    "print(type(var))\n",
    "print(id(var))\n",
    "var = int(var)\n",
    "print(var)\n",
    "print(type(var))\n",
    "print(id(var))"
   ]
  }
 ],
 "metadata": {
  "kernelspec": {
   "display_name": "Python 3",
   "language": "python",
   "name": "python3"
  },
  "language_info": {
   "codemirror_mode": {
    "name": "ipython",
    "version": 3
   },
   "file_extension": ".py",
   "mimetype": "text/x-python",
   "name": "python",
   "nbconvert_exporter": "python",
   "pygments_lexer": "ipython3",
   "version": "3.7.0"
  }
 },
 "nbformat": 4,
 "nbformat_minor": 2
}
