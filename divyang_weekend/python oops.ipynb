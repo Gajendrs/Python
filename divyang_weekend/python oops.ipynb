{
 "cells": [
  {
   "cell_type": "markdown",
   "metadata": {},
   "source": [
    "OOP ( Object Oriented Programming Language )\n",
    "----------------------------------------------------------------------\n",
    "\n",
    "---> If any programming Language which allows  the following Properties \n",
    "\n",
    "    1. Polymorphism \n",
    "    2. Inheritance \n",
    "    3. Methode Overridding / OverLoading \n",
    "    4. Operator Overridding / OverLoading \n",
    "    5. Data Hiding / Encapsulation\n",
    "    6. Data abstraction \n",
    "    \n",
    "---> If you want to achieve the above all properties we required the following concept \n",
    "\n",
    "    1. class \n",
    "    2. object\n",
    "       \n",
    " \n"
   ]
  },
  {
   "cell_type": "markdown",
   "metadata": {},
   "source": [
    "Class :-\n",
    "---------\n",
    "\n",
    "---> Template for an object \n",
    "\n",
    "---> Imaginary part for an object \n",
    "\n",
    "---> Blueprint for an object \n",
    "\n",
    "---> Logical Entity for an object \n",
    "\n",
    "---> we don't need any space in memory \n",
    "\n",
    "syntax :-\n",
    "-----------\n",
    "\n",
    "class Class_Name( ):\n",
    "\n",
    "    Attribute  # variable \n",
    "    \n",
    "    Beheviours # methodes "
   ]
  },
  {
   "cell_type": "code",
   "execution_count": 3,
   "metadata": {},
   "outputs": [],
   "source": [
    "# example for class \n",
    "\n",
    "class Liquid :\n",
    "    # attributes\n",
    "    quantity = \"\"\n",
    "    quality = \"\"\n",
    "    # Behaviour\n",
    "    def shape(self):\n",
    "        print(\"the shape of the liquid is change as per\")\n",
    "        print(\"your container\")\n",
    "    def details(self):\n",
    "        print(\"quantity = \",self.quantity)\n",
    "        print(\"quality = \",self.quality)"
   ]
  },
  {
   "cell_type": "markdown",
   "metadata": {},
   "source": [
    "Object :-\n",
    "------------\n",
    "\n",
    "---> Object is physical and Logical entity for a class\n",
    "\n",
    "---> object is having all properties of a class \n",
    "\n",
    "syntax :-\n",
    "-------------\n",
    "\n",
    "obj_name  = Class_Name()\n",
    "\n",
    "\n",
    "----> The Another name for an object is instance\n",
    "\n",
    "----> The process of creation of an object/ instance is called instancition "
   ]
  },
  {
   "cell_type": "code",
   "execution_count": 4,
   "metadata": {},
   "outputs": [
    {
     "name": "stdout",
     "output_type": "stream",
     "text": [
      "<__main__.Liquid object at 0x000000499C3FAB00>\n",
      "<__main__.Liquid object at 0x000000499C3FAC18>\n"
     ]
    }
   ],
   "source": [
    "water = Liquid()\n",
    "oil   = Liquid()\n",
    "print(water )\n",
    "print(oil)"
   ]
  },
  {
   "cell_type": "code",
   "execution_count": 5,
   "metadata": {},
   "outputs": [
    {
     "name": "stdout",
     "output_type": "stream",
     "text": [
      "quantity =  10 Liters \n",
      "quality =  sun flower \n",
      "the shape of the liquid is change as per\n",
      "your container\n",
      "quantity =  5 Liters \n",
      "quality =  minaral water \n",
      "the shape of the liquid is change as per\n",
      "your container\n"
     ]
    }
   ],
   "source": [
    "water.quantity =\"5 Liters \"\n",
    "water.quality =\"minaral water \"\n",
    "oil.quantity =\"10 Liters \"\n",
    "oil.quality =\"sun flower \"\n",
    "oil.details()\n",
    "oil.shape()\n",
    "water.details()\n",
    "water.shape()"
   ]
  },
  {
   "cell_type": "markdown",
   "metadata": {},
   "source": [
    "--->  Class is having two kind methodes and variable \n",
    "\n",
    "    1.  special Method (__metname__)\n",
    "    ----------------------------------\n",
    "        ---> the methode which can executes automatically based                                                                  \n",
    "        \n",
    "            situaltions\n",
    "            \n",
    "    2. class methode:-\n",
    "    ---------------------\n",
    "    \n",
    "        ----> Programmer is created some methodes \n",
    "\n"
   ]
  },
  {
   "cell_type": "code",
   "execution_count": null,
   "metadata": {},
   "outputs": [],
   "source": [
    "# constructor methode\n",
    "'''\n",
    "Which is a special methode\n",
    "it can be executes automatically when we creates any new object \n",
    "\n",
    "__init__\n",
    "'''"
   ]
  },
  {
   "cell_type": "code",
   "execution_count": 6,
   "metadata": {},
   "outputs": [
    {
     "name": "stdout",
     "output_type": "stream",
     "text": [
      "i am construtor\n",
      " new object is created \n",
      "i am construtor\n",
      " new object is created \n"
     ]
    }
   ],
   "source": [
    "class Class_name():\n",
    "    def __init__(self): # unparametrized constructor method\n",
    "        print(\"i am construtor\")\n",
    "        print(\" new object is created \")\n",
    "    def class_meth(self):\n",
    "        print(\"when i called then only i can executes\")\n",
    "obj1 =Class_name()\n",
    "obj2 =Class_name()"
   ]
  },
  {
   "cell_type": "code",
   "execution_count": 7,
   "metadata": {},
   "outputs": [
    {
     "name": "stdout",
     "output_type": "stream",
     "text": [
      "i am construtor\n",
      " new object is created \n",
      "i am construtor\n",
      " new object is created \n",
      "when i called then only i can executes\n",
      "class var =  500\n",
      "100\n",
      "200\n",
      "when i called then only i can executes\n",
      "class var =  500\n",
      "1500\n",
      "1000\n",
      "i am destructor\n"
     ]
    }
   ],
   "source": [
    "class Class_name():\n",
    "    var =500 # class variable \n",
    "    def __init__(self,arg1,arg2): # parametrized constructor method\n",
    "        print(\"i am construtor\")\n",
    "        print(\" new object is created \")\n",
    "        self.arg1 =arg1 # instance variable \n",
    "        self.arg2 =arg2 # instance variable \n",
    "    def class_meth(self):\n",
    "        print(\"when i called then only i can executes\")\n",
    "        print(\"class var = \",Class_name.var)\n",
    "        print(self.arg1)\n",
    "        print(self.arg2) \n",
    "    def __del__(self):\n",
    "        print(\"i am destructor\")\n",
    "\n",
    "obj1 =Class_name(100, 200)\n",
    "obj2 =Class_name(1500,1000)\n",
    "obj1.class_meth()\n",
    "obj2.class_meth()\n",
    "del obj1"
   ]
  },
  {
   "cell_type": "code",
   "execution_count": 9,
   "metadata": {},
   "outputs": [
    {
     "name": "stdout",
     "output_type": "stream",
     "text": [
      "123\n"
     ]
    }
   ],
   "source": [
    "# data hiding \n",
    "\n",
    "class Class_name():\n",
    "    var =123  #  public variable \n",
    "    def met(self):\n",
    "        print(\"i am method\")\n",
    "\n",
    "obj = Class_name()\n",
    "\n",
    "print(obj.var)"
   ]
  },
  {
   "cell_type": "code",
   "execution_count": 10,
   "metadata": {},
   "outputs": [
    {
     "ename": "AttributeError",
     "evalue": "'Class_name' object has no attribute '__var'",
     "output_type": "error",
     "traceback": [
      "\u001b[1;31m---------------------------------------------------------------------------\u001b[0m",
      "\u001b[1;31mAttributeError\u001b[0m                            Traceback (most recent call last)",
      "\u001b[1;32m<ipython-input-10-66359653b0a1>\u001b[0m in \u001b[0;36m<module>\u001b[1;34m()\u001b[0m\n\u001b[0;32m      8\u001b[0m \u001b[0mobj\u001b[0m \u001b[1;33m=\u001b[0m \u001b[0mClass_name\u001b[0m\u001b[1;33m(\u001b[0m\u001b[1;33m)\u001b[0m\u001b[1;33m\u001b[0m\u001b[0m\n\u001b[0;32m      9\u001b[0m \u001b[1;33m\u001b[0m\u001b[0m\n\u001b[1;32m---> 10\u001b[1;33m \u001b[0mprint\u001b[0m\u001b[1;33m(\u001b[0m\u001b[0mobj\u001b[0m\u001b[1;33m.\u001b[0m\u001b[0m__var\u001b[0m\u001b[1;33m)\u001b[0m\u001b[1;33m\u001b[0m\u001b[0m\n\u001b[0m",
      "\u001b[1;31mAttributeError\u001b[0m: 'Class_name' object has no attribute '__var'"
     ]
    }
   ],
   "source": [
    "# data hiding \n",
    "\n",
    "class Class_name():\n",
    "    __var =123  #  private class  variable \n",
    "    def met(self):\n",
    "        print(\"i am method\")\n",
    "\n",
    "obj = Class_name()\n",
    "\n",
    "print(obj.__var)"
   ]
  },
  {
   "cell_type": "code",
   "execution_count": null,
   "metadata": {},
   "outputs": [],
   "source": [
    "# constructor \n",
    "'''\n",
    "Its a special Method (a method it can be execute automatically \n",
    "based of the situations with out calling ) of any class \n",
    "class is used for to create a object\n",
    "\n",
    "__init__ , this is name of the constructor method\n",
    "\n",
    "---> whenever we are creating the object automatically this method can\n",
    "execute\n",
    "\n",
    "--->without constructor also we can create object\n",
    "\n",
    "--->with in the class, variables are two types\n",
    "\n",
    "1. class variable / static\n",
    "2. instance varibale\n",
    "\n",
    "---> we can define instance variable while creating obeject\n",
    "'''"
   ]
  },
  {
   "cell_type": "code",
   "execution_count": 7,
   "metadata": {},
   "outputs": [
    {
     "name": "stdout",
     "output_type": "stream",
     "text": [
      "hello\n"
     ]
    }
   ],
   "source": [
    "class Class_name():\n",
    "    def met(self):\n",
    "        print(\"hello\")\n",
    "obj = Class_name()\n",
    "obj.met()\n"
   ]
  },
  {
   "cell_type": "code",
   "execution_count": 12,
   "metadata": {},
   "outputs": [
    {
     "name": "stdout",
     "output_type": "stream",
     "text": [
      "12\n",
      "12\n",
      "134\n"
     ]
    },
    {
     "ename": "AttributeError",
     "evalue": "'Class_name' object has no attribute 'v'",
     "output_type": "error",
     "traceback": [
      "\u001b[1;31m---------------------------------------------------------------------------\u001b[0m",
      "\u001b[1;31mAttributeError\u001b[0m                            Traceback (most recent call last)",
      "\u001b[1;32m<ipython-input-12-f7b5f6daed13>\u001b[0m in \u001b[0;36m<module>\u001b[1;34m()\u001b[0m\n\u001b[0;32m      7\u001b[0m \u001b[0mprint\u001b[0m\u001b[1;33m(\u001b[0m\u001b[0mobj2\u001b[0m\u001b[1;33m.\u001b[0m\u001b[0mvar\u001b[0m\u001b[1;33m)\u001b[0m\u001b[1;33m\u001b[0m\u001b[0m\n\u001b[0;32m      8\u001b[0m \u001b[0mprint\u001b[0m\u001b[1;33m(\u001b[0m\u001b[0mobj1\u001b[0m\u001b[1;33m.\u001b[0m\u001b[0mv\u001b[0m\u001b[1;33m)\u001b[0m\u001b[1;33m\u001b[0m\u001b[0m\n\u001b[1;32m----> 9\u001b[1;33m \u001b[0mprint\u001b[0m\u001b[1;33m(\u001b[0m\u001b[0mobj2\u001b[0m\u001b[1;33m.\u001b[0m\u001b[0mv\u001b[0m\u001b[1;33m)\u001b[0m\u001b[1;33m\u001b[0m\u001b[0m\n\u001b[0m",
      "\u001b[1;31mAttributeError\u001b[0m: 'Class_name' object has no attribute 'v'"
     ]
    }
   ],
   "source": [
    "class Class_name():\n",
    "    var =12 # class variable\n",
    "obj1 = Class_name()\n",
    "obj1.v =134 # instance varible \n",
    "print(obj1.var)\n",
    "obj2 = Class_name()\n",
    "print(obj2.var)\n",
    "print(obj1.v)\n",
    "print(obj2.v)"
   ]
  },
  {
   "cell_type": "code",
   "execution_count": 13,
   "metadata": {},
   "outputs": [
    {
     "name": "stdout",
     "output_type": "stream",
     "text": [
      "this constructor\n",
      "this constructor\n"
     ]
    }
   ],
   "source": [
    "class Class_name():\n",
    "    var =100\n",
    "    def __init__(self): # non paramaterized constructor\n",
    "        print(\"this constructor\")\n",
    "obj1 =Class_name()\n",
    "obj2 =Class_name()"
   ]
  },
  {
   "cell_type": "code",
   "execution_count": 20,
   "metadata": {},
   "outputs": [
    {
     "name": "stdout",
     "output_type": "stream",
     "text": [
      "11\n",
      "22\n",
      "None\n",
      "None\n"
     ]
    }
   ],
   "source": [
    "class Class_name():\n",
    "    var =100\n",
    "    def __init__(self,x=None,y=None): # paramaterized constructor\n",
    "        self.v = x\n",
    "        self.a = y\n",
    "obj1 =Class_name(11,22)\n",
    "print(obj1.v)\n",
    "print(obj1.a)\n",
    "obj2 =Class_name()\n",
    "print(obj2.v)\n",
    "print(obj2.a)"
   ]
  },
  {
   "cell_type": "code",
   "execution_count": 22,
   "metadata": {},
   "outputs": [
    {
     "name": "stdout",
     "output_type": "stream",
     "text": [
      "i am constructor\n",
      "722453775640\n",
      "i Am distructor\n"
     ]
    },
    {
     "ename": "NameError",
     "evalue": "name 'obj' is not defined",
     "output_type": "error",
     "traceback": [
      "\u001b[1;31m---------------------------------------------------------------------------\u001b[0m",
      "\u001b[1;31mNameError\u001b[0m                                 Traceback (most recent call last)",
      "\u001b[1;32m<ipython-input-22-6bcecd1638be>\u001b[0m in \u001b[0;36m<module>\u001b[1;34m()\u001b[0m\n\u001b[0;32m      8\u001b[0m \u001b[0mprint\u001b[0m\u001b[1;33m(\u001b[0m\u001b[0mid\u001b[0m\u001b[1;33m(\u001b[0m\u001b[0mobj\u001b[0m\u001b[1;33m)\u001b[0m\u001b[1;33m)\u001b[0m\u001b[1;33m\u001b[0m\u001b[0m\n\u001b[0;32m      9\u001b[0m \u001b[1;32mdel\u001b[0m \u001b[0mobj\u001b[0m\u001b[1;33m\u001b[0m\u001b[0m\n\u001b[1;32m---> 10\u001b[1;33m \u001b[0mprint\u001b[0m\u001b[1;33m(\u001b[0m\u001b[0mid\u001b[0m\u001b[1;33m(\u001b[0m\u001b[0mobj\u001b[0m\u001b[1;33m)\u001b[0m\u001b[1;33m)\u001b[0m\u001b[1;33m\u001b[0m\u001b[0m\n\u001b[0m",
      "\u001b[1;31mNameError\u001b[0m: name 'obj' is not defined"
     ]
    }
   ],
   "source": [
    "# destructor\n",
    "class Class_name():\n",
    "    def __init__(self):\n",
    "        print(\"i am constructor\")\n",
    "    def __del__(self):\n",
    "        print(\"i Am distructor\")\n",
    "obj =Class_name()\n",
    "print(id(obj))\n",
    "del obj\n",
    "print(id(obj))"
   ]
  },
  {
   "cell_type": "code",
   "execution_count": 23,
   "metadata": {},
   "outputs": [
    {
     "name": "stdout",
     "output_type": "stream",
     "text": [
      "123\n"
     ]
    }
   ],
   "source": [
    "# public class variable\n",
    "class Class_name():\n",
    "    var =123 # defalut it was in public\n",
    "obj =Class_name()\n",
    "print(obj.var)"
   ]
  },
  {
   "cell_type": "code",
   "execution_count": 25,
   "metadata": {},
   "outputs": [
    {
     "name": "stdout",
     "output_type": "stream",
     "text": [
      "123\n"
     ]
    },
    {
     "ename": "AttributeError",
     "evalue": "'Class_name' object has no attribute '__var'",
     "output_type": "error",
     "traceback": [
      "\u001b[1;31m---------------------------------------------------------------------------\u001b[0m",
      "\u001b[1;31mAttributeError\u001b[0m                            Traceback (most recent call last)",
      "\u001b[1;32m<ipython-input-25-44e42c811688>\u001b[0m in \u001b[0;36m<module>\u001b[1;34m()\u001b[0m\n\u001b[0;32m     11\u001b[0m \u001b[0mv\u001b[0m \u001b[1;33m=\u001b[0m \u001b[0mobj\u001b[0m\u001b[1;33m.\u001b[0m\u001b[0mindirect\u001b[0m\u001b[1;33m(\u001b[0m\u001b[1;33m)\u001b[0m\u001b[1;33m\u001b[0m\u001b[0m\n\u001b[0;32m     12\u001b[0m \u001b[0mprint\u001b[0m\u001b[1;33m(\u001b[0m\u001b[0mv\u001b[0m\u001b[1;33m)\u001b[0m\u001b[1;33m\u001b[0m\u001b[0m\n\u001b[1;32m---> 13\u001b[1;33m \u001b[0mprint\u001b[0m\u001b[1;33m(\u001b[0m\u001b[0mobj\u001b[0m\u001b[1;33m.\u001b[0m\u001b[0m__var\u001b[0m\u001b[1;33m)\u001b[0m\u001b[1;33m\u001b[0m\u001b[0m\n\u001b[0m",
      "\u001b[1;31mAttributeError\u001b[0m: 'Class_name' object has no attribute '__var'"
     ]
    }
   ],
   "source": [
    "'''\n",
    "Data hiding means even the data alive we can't access those data \n",
    "out side of the classes\n",
    "'''\n",
    "# private class variable \n",
    "class Class_name():\n",
    "    __var =123 # private class variable \n",
    "    def indirect(self):\n",
    "        return self.__var\n",
    "obj = Class_name()\n",
    "v = obj.indirect()\n",
    "print(v)\n",
    "#print(obj.__var)"
   ]
  },
  {
   "cell_type": "code",
   "execution_count": 28,
   "metadata": {},
   "outputs": [
    {
     "name": "stdout",
     "output_type": "stream",
     "text": [
      "125\n",
      "123\n"
     ]
    }
   ],
   "source": [
    "# data encapulation or data abstruction \n",
    "# private class variable \n",
    "class Class_name():\n",
    "    v = 125\n",
    "    __var =123 # private class variable \n",
    "    def indirect(self):\n",
    "        return self.__var\n",
    "obj = Class_name()\n",
    "print(obj.v)\n",
    "print(obj._Class_name__var)"
   ]
  },
  {
   "cell_type": "code",
   "execution_count": 30,
   "metadata": {},
   "outputs": [
    {
     "data": {
      "text/plain": [
       "124"
      ]
     },
     "execution_count": 30,
     "metadata": {},
     "output_type": "execute_result"
    }
   ],
   "source": [
    "# operator overloading \n",
    "#print(10+20)\n",
    "#print('10'+'20')\n",
    "# operator overridding \n",
    "20+30\n",
    "56+68"
   ]
  },
  {
   "cell_type": "code",
   "execution_count": 32,
   "metadata": {},
   "outputs": [
    {
     "name": "stdout",
     "output_type": "stream",
     "text": [
      "2nd fun\n"
     ]
    }
   ],
   "source": [
    "# method ridding \n",
    "class Class_name():\n",
    "    def fun(self):\n",
    "        print(\"1st fun\")\n",
    "    def fun(self):\n",
    "        print(\"2nd fun\")\n",
    "obj =Class_name()\n",
    "obj.fun()"
   ]
  },
  {
   "cell_type": "code",
   "execution_count": 33,
   "metadata": {
    "scrolled": true
   },
   "outputs": [
    {
     "name": "stdout",
     "output_type": "stream",
     "text": [
      "2nd fun\n"
     ]
    },
    {
     "ename": "TypeError",
     "evalue": "fun() missing 1 required positional argument: 'a'",
     "output_type": "error",
     "traceback": [
      "\u001b[1;31m---------------------------------------------------------------------------\u001b[0m",
      "\u001b[1;31mTypeError\u001b[0m                                 Traceback (most recent call last)",
      "\u001b[1;32m<ipython-input-33-847d90ec7ba3>\u001b[0m in \u001b[0;36m<module>\u001b[1;34m()\u001b[0m\n\u001b[0;32m      7\u001b[0m \u001b[0mobj\u001b[0m \u001b[1;33m=\u001b[0m\u001b[0mClass_name\u001b[0m\u001b[1;33m(\u001b[0m\u001b[1;33m)\u001b[0m\u001b[1;33m\u001b[0m\u001b[0m\n\u001b[0;32m      8\u001b[0m \u001b[0mobj\u001b[0m\u001b[1;33m.\u001b[0m\u001b[0mfun\u001b[0m\u001b[1;33m(\u001b[0m\u001b[1;36m123\u001b[0m\u001b[1;33m)\u001b[0m\u001b[1;33m\u001b[0m\u001b[0m\n\u001b[1;32m----> 9\u001b[1;33m \u001b[0mobj\u001b[0m\u001b[1;33m.\u001b[0m\u001b[0mfun\u001b[0m\u001b[1;33m(\u001b[0m\u001b[1;33m)\u001b[0m\u001b[1;33m\u001b[0m\u001b[0m\n\u001b[0m",
      "\u001b[1;31mTypeError\u001b[0m: fun() missing 1 required positional argument: 'a'"
     ]
    }
   ],
   "source": [
    "# method overloading  \n",
    "'''\n",
    "if the method overloading is not possible then polymorpshism is also\n",
    "not possible\n",
    "\n",
    "\n",
    "---> A same method we can do multiple function\n",
    "'''\n",
    "class Class_name():\n",
    "    def fun(self):\n",
    "        print(\"1st fun\")\n",
    "    def fun(self,a):\n",
    "        print(\"2nd fun\")\n",
    "obj =Class_name()\n",
    "obj.fun(123)\n",
    "obj.fun()"
   ]
  },
  {
   "cell_type": "code",
   "execution_count": 34,
   "metadata": {},
   "outputs": [
    {
     "name": "stdout",
     "output_type": "stream",
     "text": [
      "i am class1 meth\n",
      "i am class2 meth\n"
     ]
    }
   ],
   "source": [
    "#polymorphism\n",
    "class Class1():\n",
    "    def fun(self):\n",
    "        print(\"i am class1 meth\")\n",
    "class Class2():\n",
    "    def fun(self):\n",
    "        print(\"i am class2 meth\")\n",
    "obj1 =Class1()\n",
    "obj2 =Class2()\n",
    "obj1.fun()\n",
    "obj2.fun()"
   ]
  },
  {
   "cell_type": "code",
   "execution_count": 43,
   "metadata": {},
   "outputs": [
    {
     "name": "stdout",
     "output_type": "stream",
     "text": [
      " i am from Base class\n",
      "i am from Derived class\n",
      "226\n"
     ]
    }
   ],
   "source": [
    "'''\n",
    "Class ---> another class \n",
    "'''\n",
    "class Base(): # parant \n",
    "    __pri =123\n",
    "    def __init__(self,x,y):\n",
    "        self.x =x\n",
    "        self.y =y\n",
    "    def fun1(self):\n",
    "        print(\" i am from Base class\")\n",
    "        \n",
    "class Derived (Base): # child class\n",
    "    pub =12\n",
    "    __pri2=34\n",
    "    def fun2(self):\n",
    "        print(\"i am from Derived class\")\n",
    "    def sum(self):\n",
    "        s =self.pub+self.__pri2+self.x+self.y+self._Base__pri\n",
    "        print(s)\n",
    "    \n",
    "obj =Derived(12,45)\n",
    "obj.fun1()\n",
    "obj.fun2()\n",
    "obj.sum()"
   ]
  },
  {
   "cell_type": "code",
   "execution_count": 44,
   "metadata": {},
   "outputs": [
    {
     "name": "stdout",
     "output_type": "stream",
     "text": [
      "I am Base 1\n",
      "I am Base 2\n",
      "i am from Derived\n"
     ]
    }
   ],
   "source": [
    "# multiplle infritance\n",
    "class Base1():\n",
    "    def fun1(self):\n",
    "        print(\"I am Base 1\")\n",
    "class Base2():\n",
    "    def fun2(self):\n",
    "        print(\"I am Base 2\")\n",
    "class Derived(Base1,Base2):\n",
    "    def  fun(self):\n",
    "        print(\"i am from Derived\")\n",
    "obj =Derived()\n",
    "obj.fun1()\n",
    "obj.fun2()\n",
    "obj.fun()"
   ]
  },
  {
   "cell_type": "code",
   "execution_count": 45,
   "metadata": {},
   "outputs": [
    {
     "name": "stdout",
     "output_type": "stream",
     "text": [
      "i am from Base\n",
      "i am from Derived1 class\n",
      "i am Derived2\n"
     ]
    }
   ],
   "source": [
    "\n",
    "class Base():\n",
    "    def fun1(self):\n",
    "        print(\"i am from Base\")\n",
    "class Derived1(Base):\n",
    "    def fun2(self):\n",
    "        print(\"i am from Derived1 class\")\n",
    "class Derived2(Derived1):\n",
    "    def fun3(self):\n",
    "        print(\"i am Derived2\")\n",
    "obj =Derived2()\n",
    "obj.fun1()\n",
    "obj.fun2()\n",
    "obj.fun3()\n",
    "        "
   ]
  }
 ],
 "metadata": {
  "kernelspec": {
   "display_name": "Python 3",
   "language": "python",
   "name": "python3"
  },
  "language_info": {
   "codemirror_mode": {
    "name": "ipython",
    "version": 3
   },
   "file_extension": ".py",
   "mimetype": "text/x-python",
   "name": "python",
   "nbconvert_exporter": "python",
   "pygments_lexer": "ipython3",
   "version": "3.7.0"
  }
 },
 "nbformat": 4,
 "nbformat_minor": 2
}
